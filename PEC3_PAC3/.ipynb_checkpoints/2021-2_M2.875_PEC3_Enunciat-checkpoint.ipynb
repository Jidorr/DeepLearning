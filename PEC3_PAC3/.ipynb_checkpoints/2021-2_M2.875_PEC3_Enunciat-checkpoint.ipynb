{
 "cells": [
  {
   "cell_type": "markdown",
   "metadata": {
    "id": "YO1mZRrP4FT2"
   },
   "source": [
    "<div style=\"width: 100%; clear: both;\">\n",
    "<div style=\"float: left; width: 50%;\">\n",
    "<img src=\"http://www.uoc.edu/portal/_resources/common/imatges/marca_UOC/UOC_Masterbrand.jpg\", align=\"left\">\n",
    "</div>\n",
    "<div style=\"float: right; width: 50%;\">\n",
    "<p style=\"margin: 0; padding-top: 22px; text-align:right;\">M2.875 · Deep Learning · PAC3\n",
    "</p>\n",
    "<p style=\"margin: 0; text-align:right;\">2021-2 · Máster universitari en Ciencia de dades (Data science)</p>\n",
    "<p style=\"margin: 0; text-align:right; padding-button: 100px;\">Estudios de Informática, Multimèdia i Telecomunicació</p>\n",
    "</div>\n",
    "</div>\n",
    "<div style=\"width:100%;\">&nbsp;</div>\n",
    "\n",
    "\n",
    "# PAC 3: Recurrent Neural Networks\n",
    "\n",
    "En aquesta pràctica implementarem xarxes neuronals recurrents per generar música.\n",
    "\n",
    "**Important: El lliurament s'ha de fer en format notebook i en format html on es vegi el codi i els resultats i comentaris de cada exercici. Per exportar el notebook a html es pot fer des del menú File $\\to$ Download as $\\to$ HTML.**"
   ]
  },
  {
   "cell_type": "markdown",
   "metadata": {
    "id": "8rXYszqtPC3X"
   },
   "source": [
    "# 0. Context i referències"
   ]
  },
  {
   "cell_type": "markdown",
   "metadata": {
    "id": "23HcctV9PHD8"
   },
   "source": [
    "Aquesta PAC es basa en el següent [article de recerca](https://arxiv.org/pdf/1711.07682.pdf), encara que per motius d'extensió no podrem passar per tots els punts de l'article.\n",
    "\n",
    "La primera etapa d'aquesta PAC serà llegir i entendre la idea general d'aquest treball. L'article us dóna accés al codi original amb què s'ha dut a terme el treball i en què a més està basat gran part del codi que aquí us adjuntem, encara que per la complexitat i extensió del codi no us recomanem que us fiqueu massa en ell.\n",
    "\n",
    "La PAC consta d'una etapa d'interpretació de les dades (un pas vital en tot projecte real), on es demanarà reproduir una gràfica de l'article. Després ***entrenarem*** una xarxa LSTM per generar acords a partir de fitxers MIDI. Finalment, farem servir la capa de ***embedding*** de la xarxa entrenada per fer una projecció dels acords en 2D i visualitzar el concepte de [word2vec](https://en.wikipedia.org/wiki/Word2vec)."
   ]
  },
  {
   "cell_type": "markdown",
   "metadata": {
    "id": "yAJEhzrBUoNj"
   },
   "source": [
    "A més d'aquest fitxer us hem adjuntat un arxiu comprimit amb una estructura de dades similar a la usada a l'article i que us recomanem (pel vostre bé) que no modifiqueu :). Allà trobareu una carpeta anomenada *data* on es troba la base de dades que farem servir i altres fitxers que us facilitem amb dades de xarxes ja entrenades (a la carpeta *models*)"
   ]
  },
  {
   "cell_type": "markdown",
   "metadata": {
    "id": "TNeJCTqGN6M0"
   },
   "source": [
    "# 1. Processament de dades [2.5 pts]"
   ]
  },
  {
   "cell_type": "markdown",
   "metadata": {
    "id": "HFZhc-3gh3BA"
   },
   "source": [
    "## 1.1 Importació de mòduls i paquets necessaris"
   ]
  },
  {
   "cell_type": "code",
   "execution_count": 3,
   "metadata": {
    "id": "kC_lb6hDNJD8"
   },
   "outputs": [
    {
     "name": "stdout",
     "output_type": "stream",
     "text": [
      "Requirement already satisfied: pretty_midi==0.2.8 in c:\\users\\jordi\\anaconda3\\lib\\site-packages (0.2.8)\n",
      "Requirement already satisfied: mido>=1.1.16 in c:\\users\\jordi\\anaconda3\\lib\\site-packages (from pretty_midi==0.2.8) (1.2.10)\n",
      "Requirement already satisfied: six in c:\\users\\jordi\\anaconda3\\lib\\site-packages (from pretty_midi==0.2.8) (1.16.0)\n",
      "Requirement already satisfied: numpy>=1.7.0 in c:\\users\\jordi\\anaconda3\\lib\\site-packages (from pretty_midi==0.2.8) (1.20.3)\n"
     ]
    }
   ],
   "source": [
    "!pip install pretty_midi==0.2.8"
   ]
  },
  {
   "cell_type": "code",
   "execution_count": 2,
   "metadata": {
    "id": "8Dho4VBiNX22"
   },
   "outputs": [],
   "source": [
    "#from google.colab import drive\n",
    "#drive.mount('/content/drive')"
   ]
  },
  {
   "cell_type": "code",
   "execution_count": 3,
   "metadata": {
    "id": "47q84NyONZf_"
   },
   "outputs": [],
   "source": [
    "# añade el path a tu directorio\n",
    "#%cd /content/drive/MyDrive/UOC PACs/PAC3/"
   ]
  },
  {
   "cell_type": "code",
   "execution_count": 1,
   "metadata": {
    "id": "-aQnhJf8OVia"
   },
   "outputs": [],
   "source": [
    "import numpy as np\n",
    "import matplotlib.pyplot as plt\n",
    "import _pickle as pickle\n",
    "import os\n",
    "import sys\n",
    "import pretty_midi\n",
    "import mido\n",
    "from collections import Counter\n",
    "import collections\n",
    "import pandas as pd\n",
    "import glob"
   ]
  },
  {
   "cell_type": "markdown",
   "metadata": {
    "id": "bqTy38QPXdz8"
   },
   "source": [
    "importem mòduls propis (arxius .py) que podreu trobar a l'estructura de carpetes que us hem facilitat"
   ]
  },
  {
   "cell_type": "code",
   "execution_count": 2,
   "metadata": {
    "id": "A8hOlwmbXdGD"
   },
   "outputs": [],
   "source": [
    "from settings import *\n",
    "import midi_functions as mf \n",
    "import data_processing_functions as dpf"
   ]
  },
  {
   "cell_type": "markdown",
   "metadata": {
    "id": "d457Myp0iAC6"
   },
   "source": [
    "## 1.2 Fitxers MIDI [1 pt]"
   ]
  },
  {
   "cell_type": "markdown",
   "metadata": {
    "id": "OkBli7noiYXJ"
   },
   "source": [
    "En aquesta secció entendrem una mica millor la informació que conté un fitxer MIDI i reproduirem un fitxer de la nostra base de dades. Per a aquesta secció us recomanem que doneu un cop d'ull a la secció \"*Extract notes*\" del següent [tutorial de tensorflow](https://www.tensorflow.org/tutorials/audio/music_generation)."
   ]
  },
  {
   "cell_type": "markdown",
   "metadata": {
    "id": "QWjhouM0kHcD"
   },
   "source": [
    "1.2.1 Escollir un fitxer MIDI de la base de dades i crear les funcions necessàries per extreure les notes, el temps en què es toca cada nota, la durada i el moment en què es toquen. Aquest procés s'ha d'aplicar només a un instrument: **Acoustic Grand Piano**.\n",
    "\n",
    "*nota: Si el fitxer escollit no té piano triar un altre fitxer*"
   ]
  },
  {
   "cell_type": "code",
   "execution_count": 3,
   "metadata": {
    "id": "9EgT6_LCE_dq"
   },
   "outputs": [
    {
     "name": "stdout",
     "output_type": "stream",
     "text": [
      "Number of instruments: 8\n",
      "Instrument name: Flute\n",
      "Instrument name: Piccolo\n",
      "Instrument name: Acoustic Grand Piano\n",
      "Instrument name: Acoustic Grand Piano\n",
      "Instrument name: Electric Guitar (jazz)\n",
      "Instrument name: String Ensemble 2\n",
      "Instrument name: Acoustic Bass\n",
      "Instrument name: Acoustic Grand Piano\n"
     ]
    }
   ],
   "source": [
    "filenames = glob.glob(str('data/original/*.mid*'))\n",
    "file = filenames[24]\n",
    "pm = pretty_midi.PrettyMIDI(file)\n",
    "print('Number of instruments:', len(pm.instruments))\n",
    "for instrument in pm.instruments:\n",
    "    instrument_name = pretty_midi.program_to_instrument_name(instrument.program)\n",
    "    print('Instrument name:', instrument_name)"
   ]
  },
  {
   "cell_type": "code",
   "execution_count": 4,
   "metadata": {},
   "outputs": [
    {
     "data": {
      "text/plain": [
       "Instrument(program=0, is_drum=False, name=\"Piano\")"
      ]
     },
     "execution_count": 4,
     "metadata": {},
     "output_type": "execute_result"
    }
   ],
   "source": [
    "instrument = pm.instruments[3]\n",
    "instrument"
   ]
  },
  {
   "cell_type": "code",
   "execution_count": 10,
   "metadata": {},
   "outputs": [
    {
     "data": {
      "text/plain": [
       "['0: pitch=60, note_name=C4, duration=0.9250',\n",
       " '1: pitch=64, note_name=E4, duration=0.9250',\n",
       " '2: pitch=67, note_name=G4, duration=0.9417',\n",
       " '3: pitch=64, note_name=E4, duration=0.9333',\n",
       " '4: pitch=67, note_name=G4, duration=0.9333',\n",
       " '5: pitch=60, note_name=C4, duration=0.9333',\n",
       " '6: pitch=55, note_name=G3, duration=0.9417',\n",
       " '7: pitch=48, note_name=C3, duration=0.9583',\n",
       " '8: pitch=67, note_name=G4, duration=0.9333',\n",
       " '9: pitch=64, note_name=E4, duration=0.9417',\n",
       " '10: pitch=60, note_name=C4, duration=0.9417',\n",
       " '11: pitch=36, note_name=C2, duration=3.0000',\n",
       " '12: pitch=48, note_name=C3, duration=0.2583',\n",
       " '13: pitch=55, note_name=G3, duration=0.5000',\n",
       " '14: pitch=60, note_name=C4, duration=0.9250',\n",
       " '15: pitch=64, note_name=E4, duration=0.9250',\n",
       " '16: pitch=67, note_name=G4, duration=0.9417',\n",
       " '17: pitch=64, note_name=E4, duration=0.9333',\n",
       " '18: pitch=67, note_name=G4, duration=0.9333',\n",
       " '19: pitch=60, note_name=C4, duration=0.9333',\n",
       " '20: pitch=36, note_name=C2, duration=1.9833',\n",
       " '21: pitch=48, note_name=C3, duration=0.2500',\n",
       " '22: pitch=55, note_name=G3, duration=0.4917',\n",
       " '23: pitch=55, note_name=G3, duration=0.4333',\n",
       " '24: pitch=48, note_name=C3, duration=0.6917']"
      ]
     },
     "execution_count": 10,
     "metadata": {},
     "output_type": "execute_result"
    }
   ],
   "source": [
    "llista_notes = []\n",
    "for i, note in enumerate(instrument.notes):\n",
    "    note_name = pretty_midi.note_number_to_name(note.pitch)\n",
    "    duration = note.end - note.start\n",
    "    llista_notes.append(f'{i}: pitch={note.pitch}, note_name={note_name}, duration={duration:.4f}')\n",
    "    #print(f'{i}: pitch={note.pitch}, note_name={note_name}, duration={duration:.4f}')\n",
    "    \n",
    "llista_notes[:25]"
   ]
  },
  {
   "cell_type": "code",
   "execution_count": 87,
   "metadata": {},
   "outputs": [
    {
     "data": {
      "text/html": [
       "<div>\n",
       "<style scoped>\n",
       "    .dataframe tbody tr th:only-of-type {\n",
       "        vertical-align: middle;\n",
       "    }\n",
       "\n",
       "    .dataframe tbody tr th {\n",
       "        vertical-align: top;\n",
       "    }\n",
       "\n",
       "    .dataframe thead th {\n",
       "        text-align: right;\n",
       "    }\n",
       "</style>\n",
       "<table border=\"1\" class=\"dataframe\">\n",
       "  <thead>\n",
       "    <tr style=\"text-align: right;\">\n",
       "      <th></th>\n",
       "      <th>pitch</th>\n",
       "      <th>start</th>\n",
       "      <th>end</th>\n",
       "      <th>step</th>\n",
       "      <th>duration</th>\n",
       "    </tr>\n",
       "  </thead>\n",
       "  <tbody>\n",
       "    <tr>\n",
       "      <th>0</th>\n",
       "      <td>36</td>\n",
       "      <td>4.000000</td>\n",
       "      <td>7.000000</td>\n",
       "      <td>0.000000</td>\n",
       "      <td>3.000000</td>\n",
       "    </tr>\n",
       "    <tr>\n",
       "      <th>1</th>\n",
       "      <td>60</td>\n",
       "      <td>4.008333</td>\n",
       "      <td>4.933333</td>\n",
       "      <td>0.008333</td>\n",
       "      <td>0.925000</td>\n",
       "    </tr>\n",
       "    <tr>\n",
       "      <th>2</th>\n",
       "      <td>67</td>\n",
       "      <td>4.008333</td>\n",
       "      <td>4.950000</td>\n",
       "      <td>0.000000</td>\n",
       "      <td>0.941667</td>\n",
       "    </tr>\n",
       "    <tr>\n",
       "      <th>3</th>\n",
       "      <td>64</td>\n",
       "      <td>4.016667</td>\n",
       "      <td>4.941667</td>\n",
       "      <td>0.008333</td>\n",
       "      <td>0.925000</td>\n",
       "    </tr>\n",
       "    <tr>\n",
       "      <th>4</th>\n",
       "      <td>64</td>\n",
       "      <td>5.008333</td>\n",
       "      <td>5.941667</td>\n",
       "      <td>0.991667</td>\n",
       "      <td>0.933333</td>\n",
       "    </tr>\n",
       "    <tr>\n",
       "      <th>...</th>\n",
       "      <td>...</td>\n",
       "      <td>...</td>\n",
       "      <td>...</td>\n",
       "      <td>...</td>\n",
       "      <td>...</td>\n",
       "    </tr>\n",
       "    <tr>\n",
       "      <th>1221</th>\n",
       "      <td>64</td>\n",
       "      <td>222.000000</td>\n",
       "      <td>223.000000</td>\n",
       "      <td>0.400000</td>\n",
       "      <td>1.000000</td>\n",
       "    </tr>\n",
       "    <tr>\n",
       "      <th>1222</th>\n",
       "      <td>60</td>\n",
       "      <td>222.000000</td>\n",
       "      <td>223.000000</td>\n",
       "      <td>0.000000</td>\n",
       "      <td>1.000000</td>\n",
       "    </tr>\n",
       "    <tr>\n",
       "      <th>1223</th>\n",
       "      <td>36</td>\n",
       "      <td>222.000000</td>\n",
       "      <td>223.000000</td>\n",
       "      <td>0.000000</td>\n",
       "      <td>1.000000</td>\n",
       "    </tr>\n",
       "    <tr>\n",
       "      <th>1224</th>\n",
       "      <td>67</td>\n",
       "      <td>222.008333</td>\n",
       "      <td>223.000000</td>\n",
       "      <td>0.008333</td>\n",
       "      <td>0.991667</td>\n",
       "    </tr>\n",
       "    <tr>\n",
       "      <th>1225</th>\n",
       "      <td>55</td>\n",
       "      <td>222.008333</td>\n",
       "      <td>223.000000</td>\n",
       "      <td>0.000000</td>\n",
       "      <td>0.991667</td>\n",
       "    </tr>\n",
       "  </tbody>\n",
       "</table>\n",
       "<p>1226 rows × 5 columns</p>\n",
       "</div>"
      ],
      "text/plain": [
       "      pitch       start         end      step  duration\n",
       "0        36    4.000000    7.000000  0.000000  3.000000\n",
       "1        60    4.008333    4.933333  0.008333  0.925000\n",
       "2        67    4.008333    4.950000  0.000000  0.941667\n",
       "3        64    4.016667    4.941667  0.008333  0.925000\n",
       "4        64    5.008333    5.941667  0.991667  0.933333\n",
       "...     ...         ...         ...       ...       ...\n",
       "1221     64  222.000000  223.000000  0.400000  1.000000\n",
       "1222     60  222.000000  223.000000  0.000000  1.000000\n",
       "1223     36  222.000000  223.000000  0.000000  1.000000\n",
       "1224     67  222.008333  223.000000  0.008333  0.991667\n",
       "1225     55  222.008333  223.000000  0.000000  0.991667\n",
       "\n",
       "[1226 rows x 5 columns]"
      ]
     },
     "execution_count": 87,
     "metadata": {},
     "output_type": "execute_result"
    }
   ],
   "source": [
    "def midi_to_notes(midi_file: str) -> pd.DataFrame:\n",
    "    pm = pretty_midi.PrettyMIDI(midi_file)\n",
    "    instrument = pm.instruments[3]\n",
    "    notes = collections.defaultdict(list)\n",
    "    # Sort the notes by start time\n",
    "    sorted_notes = sorted(instrument.notes, key=lambda note: note.start)\n",
    "    prev_start = sorted_notes[0].start\n",
    "    for note in sorted_notes:\n",
    "        start = note.start\n",
    "        end = note.end\n",
    "        notes['pitch'].append(note.pitch)\n",
    "        notes['start'].append(start)\n",
    "        notes['end'].append(end)\n",
    "        notes['step'].append(start - prev_start)\n",
    "        notes['duration'].append(end - start)\n",
    "        prev_start = start\n",
    "    return pd.DataFrame({name: np.array(value) for name, value in notes.items()})\n",
    "\n",
    "raw_notes = midi_to_notes(file)\n",
    "raw_notes"
   ]
  },
  {
   "cell_type": "markdown",
   "metadata": {
    "id": "bvOkNBItrqIZ"
   },
   "source": [
    "1.2.2 Modificar la funció *plot_piano_roll* del tutorial per poder pintar el pianoroll de la cançó MIDI escollida. En aquest cas haurem de poder indicar un temps màxim de la cançó que volem afegir al pianoroll. A més, si passem un *max_time=-1*, caldrà pintar totes les notes de la cançó."
   ]
  },
  {
   "cell_type": "code",
   "execution_count": 127,
   "metadata": {
    "id": "iY5EsPVgE_6X"
   },
   "outputs": [
    {
     "data": {
      "image/png": "[encoded data removed]",
      "text/plain": [
       "<Figure size 1440x288 with 1 Axes>"
      ]
     },
     "metadata": {
      "needs_background": "light"
     },
     "output_type": "display_data"
    }
   ],
   "source": [
    "def plot_piano_roll(notes: pd.DataFrame, max_time = -1):\n",
    "    if max_time == -1:\n",
    "        title = f'Whole track' \n",
    "    elif max_time:\n",
    "        title = f'First {max_time} seconds'\n",
    "    count = len(notes['pitch'])\n",
    "    plt.figure(figsize=(20, 4))\n",
    "    plot_pitch = np.stack([notes['pitch'], notes['pitch']], axis=0)\n",
    "    plot_start_stop = np.stack([notes['start'], notes['end']], axis=0)\n",
    "    plt.plot(plot_start_stop[:, :count], plot_pitch[:, :count], color=\"b\", marker=\".\")\n",
    "    plt.xlabel('Time [s]')\n",
    "    plt.ylabel('Pitch')\n",
    "    _ = plt.title(title)\n",
    "    if max_time != -1:\n",
    "        plt.xlim([0, max_time])\n",
    "\n",
    "plot_piano_roll(raw_notes, 30)"
   ]
  },
  {
   "cell_type": "markdown",
   "metadata": {
    "id": "Ry5uiuVywVb9"
   },
   "source": [
    "## 1.3 Processament de dades [1.5 pts]"
   ]
  },
  {
   "cell_type": "markdown",
   "metadata": {
    "id": "Qhk-FbIVwfYH"
   },
   "source": [
    "Ara tornem a l'article i aplicarem el processament de dades. Buscar dins del fitxer *data_processing_functions.py* la funció que s'encarrega de dur a terme tot el processament de dades i trucar-la des d'aquí"
   ]
  },
  {
   "cell_type": "markdown",
   "metadata": {
    "id": "C_LOJsQR1WGH"
   },
   "source": [
    "1.3.1 Què fa la funció *change_tempo_folder*? Quina bpm fixa per a les cançons?"
   ]
  },
  {
   "cell_type": "markdown",
   "metadata": {
    "id": "l5DNt93c32tc"
   },
   "source": [
    "1.3.2 Un cop tenim executat el processament de dades s'hauran creat moltes carpetes i molts fitxers nous a l'actual carpeta ***data***. Ara farem servir alguns d'aquests fitxers per construir la figura 2 de l'article usant les dades processades. Crearem dues funcions:\n",
    "* my_save_histo_oct_from_midi_folder\n",
    "* my_midi_to_histo_oct\n",
    "\n",
    "basades en les funcions ***save_histo_oct_from_midi_folder*** i ***midi_to_histo_oct*** que trobareu als fitxers ***midi_functions.py*** i ***data_processing_functions.py***. Ara les modificarem perquè ens tornin dades per a dos tipus d'histogrames: un igual a la figura 2 de l'article (aparicions VS pitch) i un altre, fent servir el *histo_oct*, que seran dades per pintar *aparicions VS notes en qualsevol octava*, és a dir, el nombre de vegades que apareix una nota (sense tenir en compte a què octava pertanyi) al llarg d'una cançó."
   ]
  },
  {
   "cell_type": "markdown",
   "metadata": {
    "id": "vHNEdanvAzLp"
   },
   "source": [
    "*indicació: És important entendre l'estructura de les variables:*\n",
    "* pianoroll\n",
    "* histo_bar\n",
    "* histo_oct\n",
    "\n",
    "*dins la funcio* ***midi_to_histo_oct***"
   ]
  },
  {
   "cell_type": "code",
   "execution_count": null,
   "metadata": {
    "id": "IygIfEr3_z8_"
   },
   "outputs": [],
   "source": [
    "#usa este vector como labels del segundo gráfico \n",
    "notas_en_una_octava = ['C','C#','D','D#','E','F','F#','G','G#','A','A#','B']"
   ]
  },
  {
   "cell_type": "code",
   "execution_count": null,
   "metadata": {
    "id": "yz6F5NuvFDpD"
   },
   "outputs": [],
   "source": [
    "def my_save_histo_oct_from_midi_folder(...):\n",
    "  pass\n",
    "\n",
    "def my_midi_to_histo_oct(...):\n",
    "  pass"
   ]
  },
  {
   "cell_type": "markdown",
   "metadata": {
    "id": "RWEqYiSwDNse"
   },
   "source": [
    "1.3.3 Buscar a internet sobre les escales musicals i indicar quina escala és la que més apareix a totes les cançons analitzades. Quines diries que són les notes més importants de l'escala?"
   ]
  },
  {
   "cell_type": "markdown",
   "metadata": {
    "id": "MTv_8e5qFTrb"
   },
   "source": []
  },
  {
   "cell_type": "markdown",
   "metadata": {
    "id": "r4r3sBgKy8bG"
   },
   "source": [
    "#2. LSTM per a acords [5 pts]"
   ]
  },
  {
   "cell_type": "markdown",
   "metadata": {
    "id": "Z6wMsYrIzPMI"
   },
   "source": [
    "El pas següent a l'article és l'entrenament d'una xarxa LSTM per generar acords. Aquesta part la farem amb un data set més petit i ho compararem amb resultats d'entrenaments previs que us facilitarem. Primer carreguem les llibreries que necessitarem"
   ]
  },
  {
   "cell_type": "code",
   "execution_count": null,
   "metadata": {
    "id": "W_WNRwExGMqc"
   },
   "outputs": [],
   "source": [
    "from keras.models import Sequential\n",
    "from keras.layers import LSTM\n",
    "from keras.layers import Dense, Activation\n",
    "from keras.layers import Embedding\n",
    "from tensorflow.keras.optimizers import RMSprop, Adam\n",
    "import tensorflow as tf\n",
    "from tensorflow.compat.v1.keras.backend import set_session\n",
    "import keras.utils\n",
    "from keras.utils import np_utils\n",
    "from random import shuffle\n",
    "import progressbar\n",
    "import time"
   ]
  },
  {
   "cell_type": "markdown",
   "metadata": {
    "id": "W5pcyB6d0VIJ"
   },
   "source": [
    "## 2.1 Càrrega de dades [0.5 pts]"
   ]
  },
  {
   "cell_type": "markdown",
   "metadata": {
    "id": "xFE6WSN70S8m"
   },
   "source": [
    "2.1.1 A la carpeta ***data*** trobareu un fitxer anomenat ***dataset.pkl*** que conté 11338 cançons de train i 3780 de test. Usant *pickle* carregar les dades i després separar 2000 per *train* i 500 cançons per *test* a les variables:\n",
    "* train_set\n",
    "* test_set\n",
    "\n",
    "crea a més *train_set_size* i *test_set_size*"
   ]
  },
  {
   "cell_type": "code",
   "execution_count": null,
   "metadata": {
    "id": "R3i99vF0FY69"
   },
   "outputs": [],
   "source": []
  },
  {
   "cell_type": "markdown",
   "metadata": {
    "id": "AweMb9yv352X"
   },
   "source": [
    "## 2.2 Model amb una capa de ***Embedding*** [0.5 pts]"
   ]
  },
  {
   "cell_type": "markdown",
   "metadata": {
    "id": "-If6wor_3_YG"
   },
   "source": [
    "2.2.1 Ara definirem els paràmetres de la nostra xarxa LSTM usant els paràmetres que donen a l'article. L'únic canvi serà en la mida de la xarxa LSTM, en què farem servir la meitat de la LSTM de l'article i nombre d'epochs que farem servir 10 en el nostre cas"
   ]
  },
  {
   "cell_type": "code",
   "execution_count": null,
   "metadata": {
    "id": "JpqqH3X36URV"
   },
   "outputs": [],
   "source": [
    "batch_size = 1\n",
    "step_size = 1\n",
    "epochs = 10\n",
    "\n",
    "#completar\n",
    "lstm_size = \n",
    "learning_rate =\n",
    "optimizer = "
   ]
  },
  {
   "cell_type": "markdown",
   "metadata": {
    "id": "WL28R7s_3f7w"
   },
   "source": [
    "El codi següent és per mantenir l'estructura de carpetes que usen a l'article, ja que hi ha molt codi que depèn d'aquesta estructura:"
   ]
  },
  {
   "cell_type": "code",
   "execution_count": null,
   "metadata": {
    "id": "l1diXWzq3tun"
   },
   "outputs": [],
   "source": [
    "##--------NO TOCAR-------------------------------------------------------\n",
    "base_path = 'models/chords/'\n",
    "model_filetype = '.pickle'\n",
    "\n",
    "shuffle_train_set = True\n",
    "bidirectional = False\n",
    "\n",
    "#Create model dir\n",
    "fd = {'shifted': shifted, 'lr': learning_rate, 'emdim': chord_embedding_dim, 'opt': optimizer,\n",
    "'bi': bidirectional, 'lstms': lstm_size, 'trainsize': train_set_size, 'testsize': test_set_size, 'samples_per_bar': samples_per_bar}\n",
    "t = str(np.random.randint(1000,9999))\n",
    "model_name = t+ '-Shifted_%(shifted)s_Lr_%(lr)s_EmDim_%(emdim)s_opt_%(opt)s_bi_%(bi)s_lstmsize_%(lstms)s_trainsize_%(trainsize)s_testsize_%(testsize)s_samples_per_bar%(samples_per_bar)s' % fd\n",
    "model_path = base_path + model_name + '/'\n",
    "if not os.path.exists(model_path):\n",
    "    os.makedirs(model_path)\n",
    "##--------NO TOCAR-------------------------------------------------------\n"
   ]
  },
  {
   "cell_type": "markdown",
   "metadata": {
    "id": "PKt5WJ5d8YPb"
   },
   "source": [
    "2.2.2 Finalment definim i compilem la xarxa amb una capa d'Embedding abans de la LSTM. Per aquest pas, accedir al codi original de l'article i cercar en quin fitxer s'entrena la LSTM copiar l'estructura eliminant codi que no és del nostre interès"
   ]
  },
  {
   "cell_type": "code",
   "execution_count": null,
   "metadata": {
    "id": "9IiHUM_hFNTr"
   },
   "outputs": [],
   "source": []
  },
  {
   "cell_type": "markdown",
   "metadata": {
    "id": "aMLDg6O1BNKK"
   },
   "source": [
    "## 2.3 Entrenament [2 pts]"
   ]
  },
  {
   "cell_type": "markdown",
   "metadata": {
    "id": "Ki3ULd3FBU8l"
   },
   "source": [
    "2.3.1 Seguint el codi original de l'article on es defineix l'arquitectura de la LSTM per als acords, hi ha 3 funcions més:\n",
    "* test()\n",
    "* train()\n",
    "* save_params()\n",
    "\n",
    "que ens ajudaran per a l'entrenament, testeig i per guardar les dades sobre el model entrenat. Guardarem el valor de la ***loss*** tant per a test com per a train cada 500 cançons, per la qual cosa tindrem més d'un punt per epoch. Modifica, si cal, les funcions *test()* i *train()* perquè els fitxers de *total_test* i *total_train* deixin constància de l'epoch a què pertanyen, això t'ajudarà a pintar les dades més endavant.\n",
    "\n",
    "Afegeix, abans de cada funció una capçalera explicant breument allò que aquesta fa.\n",
    "\n",
    "---\n",
    "\n",
    "*nota: comprova que has definit totes les variables necessàries perquè les* *funcions no donin error al mig de l'entrenament. Comença usant menys dades* *per agilitzar el procés i un cop funcioni tot utilitza el set complet*"
   ]
  },
  {
   "cell_type": "code",
   "execution_count": null,
   "metadata": {
    "id": "IDevHmNuCzGx"
   },
   "outputs": [],
   "source": [
    "epoch_array=[]\n",
    "total_test_loss_array = [] \n",
    "total_train_loss_array = []\n",
    "total_test_loss = 0\n",
    "show_plot = False\n",
    "save_plot = False\n",
    "test_step = 500\n",
    "verbose = False\n",
    "save_step = 1\n",
    "\n",
    "\n",
    "#afegeix aquí test(), train() y save_params()"
   ]
  },
  {
   "cell_type": "markdown",
   "metadata": {
    "id": "P7byp9y1_00y"
   },
   "source": [
    "2.3.2 Respon les preguntes següents:\n",
    "* Què representa cada element de *X* a la funció de *train()*?\n",
    "* Què s'està usant com a *label* per a cada element de *X*?\n",
    "* Justifica l'ús de *categorical_crossentropy* com a funció de *loss*\n",
    "* Què creus que està aprenent la xarxa?"
   ]
  },
  {
   "cell_type": "markdown",
   "metadata": {
    "id": "Jzu-37C4EKom"
   },
   "source": [
    "2.3.3 Entrena la xarxa usant les funcions anteriors"
   ]
  },
  {
   "cell_type": "markdown",
   "metadata": {
    "id": "AP5dg7PAFdOc"
   },
   "source": []
  },
  {
   "cell_type": "markdown",
   "metadata": {
    "id": "CkpRym4eFnN9"
   },
   "source": [
    "##2.4 Comparació de models [2 pts]"
   ]
  },
  {
   "cell_type": "markdown",
   "metadata": {
    "id": "FhwHC5ZJF0YW"
   },
   "source": [
    "En aquest darrer pas compararem diferents models. A la carpeta *models/chords* trobaràs les dades (en un format similar al generat anteriorment) de l'entrenament de models similars amb altres paràmetres:\n",
    "\n",
    "1. carpeta: 2717-Shifted_True_...\n",
    "2. carpeta: 5102-Shifted_True_..."
   ]
  },
  {
   "cell_type": "markdown",
   "metadata": {
    "id": "ab531tCvGhI3"
   },
   "source": [
    "2.4.1 Compara els 3 models: pintar les funcions de loss per a train i test de cada model.\n",
    "\n",
    "* Indica els paràmetres de cadascun dels 3 models (el que heu entrenat i els 2 que us hem donat)\n",
    "* Quin set de paràmetres ha donat la millor performance?\n",
    "* S'aprecia overfitting en algun dels models? Justifica la teva resposta"
   ]
  },
  {
   "cell_type": "code",
   "execution_count": null,
   "metadata": {
    "id": "vbSE5-T8FepR"
   },
   "outputs": [],
   "source": []
  },
  {
   "cell_type": "markdown",
   "metadata": {
    "id": "kEWwrLqnIhlz"
   },
   "source": [
    "# 3 Anàlisi de la capa d'embedding [2 pts]"
   ]
  },
  {
   "cell_type": "markdown",
   "metadata": {
    "id": "H01zsudCIuTg"
   },
   "source": [
    "En aquesta secció recrearem la figura 8 de l'article amb la xarxa que hem entrenat i la que millor performance ens ha donat a la comparació."
   ]
  },
  {
   "cell_type": "code",
   "execution_count": null,
   "metadata": {
    "id": "jn_xE9QDJoMz"
   },
   "outputs": [],
   "source": [
    "from keras.models import load_model\n",
    "import keras\n",
    "from keras import backend as K"
   ]
  },
  {
   "cell_type": "markdown",
   "metadata": {
    "id": "p0wEHRWAJ-ni"
   },
   "source": [
    "## 3.1 Càrrega de models entrenats i generació d'embeddings [1 pts]"
   ]
  },
  {
   "cell_type": "markdown",
   "metadata": {
    "id": "GVFaCsSrKHLj"
   },
   "source": [
    "3.1.1 Utilitza el *load_model* de **keras** per carregar:\n",
    "* el model que hem entrenat: *my_model*\n",
    "* el model amb millor performance: *bp_model*"
   ]
  },
  {
   "cell_type": "code",
   "execution_count": null,
   "metadata": {
    "id": "dm7MVOCjFs1Y"
   },
   "outputs": [],
   "source": []
  },
  {
   "cell_type": "markdown",
   "metadata": {
    "id": "LvTrSPKTLxUO"
   },
   "source": [
    "3.1.2 Ara crearem, per a cada model, un nou model per als embeddings. Per fer això, hauràs de crear un model l'entrada del qual sigui igual a l'entrada dels models originals i la sortida sigui el layer embedding. Això ho pots fer usant la funció *get_layer()* del model."
   ]
  },
  {
   "cell_type": "code",
   "execution_count": null,
   "metadata": {
    "id": "H0elDKraFtjS"
   },
   "outputs": [],
   "source": []
  },
  {
   "cell_type": "markdown",
   "metadata": {
    "id": "GVXc-FhGNfoP"
   },
   "source": [
    "3.1.3 El model d'embedding rep un acord i torna un vector de 10 dimensions amb l'embedding per a cada acord. Calculeu aquests vectors amb cadascun dels models d'embedding"
   ]
  },
  {
   "cell_type": "code",
   "execution_count": null,
   "metadata": {
    "id": "J1LhtmadFuu1"
   },
   "outputs": [],
   "source": []
  },
  {
   "cell_type": "markdown",
   "metadata": {
    "id": "D33AZTgmO9u1"
   },
   "source": [
    "3.1.4 Aplica un squeeze per eliminar els eixos de dimensió 1. El resultat d'aquest squeeze hauria de ser (50,10)"
   ]
  },
  {
   "cell_type": "code",
   "execution_count": null,
   "metadata": {
    "id": "_zRYJCdgFv75"
   },
   "outputs": [],
   "source": []
  },
  {
   "cell_type": "markdown",
   "metadata": {
    "id": "_hQcmzeIPtrG"
   },
   "source": [
    "## 3.2 Anàlisi PCA [1 pts]"
   ]
  },
  {
   "cell_type": "markdown",
   "metadata": {
    "id": "2vMTJ8nRbmMe"
   },
   "source": [
    "Per acabar amb la nostra anàlisi dels embeddings, farem un procés de PCA per reduir les dimensions dels vectors resultants i poder pintar-los en 2D."
   ]
  },
  {
   "cell_type": "code",
   "execution_count": null,
   "metadata": {
    "id": "l9ROxo-lP-OY"
   },
   "outputs": [],
   "source": [
    "from sklearn.preprocessing import StandardScaler\n",
    "from sklearn.decomposition import PCA"
   ]
  },
  {
   "cell_type": "markdown",
   "metadata": {
    "id": "0qcipt5oP74r"
   },
   "source": [
    "3.2.1 Escalar els vectors i aplicar PCA per reduir a 2 les dimensions"
   ]
  },
  {
   "cell_type": "code",
   "execution_count": null,
   "metadata": {
    "id": "Wqbg0L0qF0Bb"
   },
   "outputs": [],
   "source": []
  },
  {
   "cell_type": "markdown",
   "metadata": {
    "id": "Pj4FLd8DaLsF"
   },
   "source": [
    "3.2.2 Pintar per a tots dos embeddings els vectors en un scatterplot. Afegeix anotacions amb les notes de l'acord i comenta el resultat: Observes l'efecte word2vect a les gràfiques?"
   ]
  },
  {
   "cell_type": "code",
   "execution_count": null,
   "metadata": {
    "id": "GP_VY9AlF3bF"
   },
   "outputs": [],
   "source": []
  },
  {
   "cell_type": "markdown",
   "metadata": {
    "id": "lJDmLqpebnkI"
   },
   "source": [
    "Fes servir aquesta funció per obtenir un índex per als acords i les seves notes"
   ]
  },
  {
   "cell_type": "code",
   "execution_count": null,
   "metadata": {
    "id": "ROgMjNOmbbvK"
   },
   "outputs": [],
   "source": [
    "def get_chord_dict():\n",
    "    chord_to_index = pickle.load(open(dict_path + chord_dict_name, 'rb'))\n",
    "    index_to_chord = pickle.load(open(dict_path + index_dict_name, 'rb'))\n",
    "    return chord_to_index, index_to_chord\n",
    "\n",
    "chord_to_index, idx_2_chord = get_chord_dict()"
   ]
  },
  {
   "cell_type": "markdown",
   "metadata": {
    "id": "4TLRoLomVjzP"
   },
   "source": [
    "3.2.3 Crea una funció per calcular totes les distàncies entre els primers 20 acords. Després fes una llista amb les 10 distàncies mínimes per a tots dos models. Estan relacionats aquests acords amb distàncies mínimes?"
   ]
  },
  {
   "cell_type": "code",
   "execution_count": null,
   "metadata": {
    "id": "NlAoTM6NF6Dz"
   },
   "outputs": [],
   "source": []
  },
  {
   "cell_type": "markdown",
   "metadata": {
    "id": "PKXh0-X3mg70"
   },
   "source": [
    "#4. Roda de 5tes (Bonus Track) [0.5 pts]"
   ]
  },
  {
   "cell_type": "markdown",
   "metadata": {
    "id": "m3Ymmh_imljH"
   },
   "source": [
    "En aquest bonus track, i usant el mateix que has fet servir per als apartats anteriors, podràs dibuixar la roda de cinquenes amb dades entrenades sobre la mateixa base de dades, però no fer el shifteig dels acords."
   ]
  },
  {
   "cell_type": "markdown",
   "metadata": {
    "id": "OyesH52p0QDZ"
   },
   "source": [
    "Fes servir les dades que trobaràs a la carpeta *models/chords/9671-Shifted_False...* per repetir el procés de l'anàlisi de PCA"
   ]
  },
  {
   "cell_type": "markdown",
   "metadata": {
    "id": "ejP3t2sautBj"
   },
   "source": [
    "un cop tens els vectors, utilitza les següents funcions per dibuixar la roda de cinquenes"
   ]
  },
  {
   "cell_type": "code",
   "execution_count": null,
   "metadata": {
    "id": "_7ZU_OXZnxqX"
   },
   "outputs": [],
   "source": [
    "def get_chord_dict_no_shifted():\n",
    "    chord_to_index = pickle.load(open('data/chord_dict.pickle', 'rb'))\n",
    "    index_to_chord = pickle.load(open('data/index_dict.pickle', 'rb'))\n",
    "    return chord_to_index, index_to_chord\n",
    "\n",
    "chord_to_index_, idx_2_chord_ = get_chord_dict_no_shifted()"
   ]
  },
  {
   "cell_type": "code",
   "execution_count": null,
   "metadata": {
    "id": "oTiU7UWtpnL2"
   },
   "outputs": [],
   "source": [
    "ddd={tuple((0,4,7)):'C',\n",
    "tuple((1,5,8)):'C#',\n",
    "tuple((2,6,9)):'D',\n",
    "tuple((3,7,10)):'D#',\n",
    "tuple((4,8,11)):'E',\n",
    "tuple((0,5,9)):'F',\n",
    "tuple((1,6,10)):'F#',\n",
    "tuple((2,7,11)):'G',\n",
    "tuple((0,3,8)):'G#',\n",
    "tuple((1,4,9)):'A',\n",
    "tuple((2,5,10)):'A#',\n",
    "tuple((3,6,11)):'B'}\n",
    "\n",
    "\n",
    "def plot_5th_circle(X_chords_2d):\n",
    "  \n",
    "  fig, ax = plt.subplots()\n",
    "  fig.set_size_inches(8, 6)\n",
    "\n",
    "  plt.tick_params(labelsize=12)\n",
    "  \n",
    "  style = dict(size=12, color='black')\n",
    "\n",
    "  for i in range(0,len(idx_2_chord_)):\n",
    "    try:\n",
    "      ax.text(-X_chords_2d[i,0]-0.32,X_chords_2d[i,1]+0.11, ddd[idx_2_chord_[i]],**style)\n",
    "      ax.scatter(-X_chords_2d[i,0],X_chords_2d[i,1], c=\"blue\", marker=\"*\")\n",
    "      \n",
    "    except:\n",
    "      pass\n",
    "\n",
    "  plt.show()"
   ]
  },
  {
   "cell_type": "code",
   "execution_count": null,
   "metadata": {
    "id": "mGBGU7LruOes"
   },
   "outputs": [],
   "source": [
    "plot_5th_circle(my_embedd_pca) #pasa los vectores luego del análisis de PCA"
   ]
  }
 ],
 "metadata": {
  "colab": {
   "collapsed_sections": [
    "YO1mZRrP4FT2"
   ],
   "name": "2021-2_M2.875_PEC3_Enunciat.ipynb",
   "provenance": []
  },
  "kernelspec": {
   "display_name": "Python 3 (ipykernel)",
   "language": "python",
   "name": "python3"
  },
  "language_info": {
   "codemirror_mode": {
    "name": "ipython",
    "version": 3
   },
   "file_extension": ".py",
   "mimetype": "text/x-python",
   "name": "python",
   "nbconvert_exporter": "python",
   "pygments_lexer": "ipython3",
   "version": "3.9.7"
  }
 },
 "nbformat": 4,
 "nbformat_minor": 1
}
