{
 "cells": [
  {
   "cell_type": "markdown",
   "metadata": {
    "id": "PSNybtUO_1Lx"
   },
   "source": [
    "<div style=\"width: 100%; clear: both;\">\n",
    "<div style=\"float: left; width: 50%;\">\n",
    "<img src=\"http://www.uoc.edu/portal/_resources/common/imatges/marca_UOC/UOC_Masterbrand.jpg\", align=\"left\">\n",
    "</div>\n",
    "<div style=\"float: right; width: 50%;\">\n",
    "<p style=\"margin: 0; padding-top: 22px; text-align:right;\">M2.975 · Deep Learning · PAC1</p>\n",
    "<p style=\"margin: 0; text-align:right;\">2021-2 · Màster universitari en Ciència de dades (Data science)</p>\n",
    "<p style=\"margin: 0; text-align:right; padding-button: 100px;\">Estudi d'Informàtica, Multimèdia i Telecomunicació</p>\n",
    "</div>\n",
    "</div>\n",
    "<div style=\"width:100%;\">&nbsp;</div>\n",
    "\n",
    "\n",
    "# PAC 1: Xarxes neuronals artificials\n",
    "\n",
    "En aquesta pràctica implementarem xarxes neuronals artificials per resoldre problemes de:\n",
    "\n",
    "\n",
    "* Classificació\n",
    "* Regressió\n",
    "\n",
    "\n",
    "**Important: El lliurament s'ha de fer en format notebook i en format html on es vegi el codi i els resultats i comentaris de cada exercici. Per exportar el notebook a html es pot fer des del menú File $\\to$ Download as $\\to$ HTML.**"
   ]
  },
  {
   "cell_type": "markdown",
   "metadata": {
    "id": "LVAIZtNk_q3W"
   },
   "source": [
    "## 0. Context i càrrega de llibreries"
   ]
  },
  {
   "cell_type": "markdown",
   "metadata": {
    "id": "HLL2mMNI_q3b"
   },
   "source": [
    "El codi següent carrega els paquets necessaris per a la pràctica i llegeix el fitxer de dades que farem servir."
   ]
  },
  {
   "cell_type": "markdown",
   "metadata": {
    "id": "nxa4LnnX_q3d"
   },
   "source": [
    "Les dades contenen informació sobre cotxes de segona mà, les seves característiques i el preu de revenda en euros. En un primer exercici dissenyarem un model que ens permeti classificar els cotxes en tres grups segons la gamma de preu. En el segon exercici dissenyarem un model de regressió per predir el preu de revenda."
   ]
  },
  {
   "cell_type": "code",
   "execution_count": 35,
   "metadata": {
    "id": "19ixS6Vp-KHd"
   },
   "outputs": [],
   "source": [
    "import pandas as pd\n",
    "import numpy as np\n",
    "\n",
    "import matplotlib.pyplot as plt\n",
    "import seaborn as sns\n",
    "import timeit\n",
    "\n",
    "import keras\n",
    "from keras.models import Sequential, Model\n",
    "from keras.layers import Dense\n",
    "from tensorflow.keras.optimizers import Adam, SGD, Adadelta, Adagrad\n",
    "\n",
    "from sklearn.model_selection import train_test_split\n",
    "from sklearn.metrics import confusion_matrix, mean_squared_error, classification_report\n",
    "from sklearn.preprocessing import OneHotEncoder, StandardScaler"
   ]
  },
  {
   "cell_type": "code",
   "execution_count": 36,
   "metadata": {
    "id": "vmCg_5zXItWM"
   },
   "outputs": [],
   "source": [
    "##To read directly from Drive in Google Colab use:\n",
    "#from google.colab import drive\n",
    "#drive.mount('/content/drive')\n",
    "#input path: \"./drive/MyDrive/CarPricesData.pkl\"\n",
    "\n",
    "##To read in Kaggle, upload file in Kaggle \n",
    "##input path: \"/kaggle/input/botnetdl/botnet_dataset_DL.csv\""
   ]
  },
  {
   "cell_type": "code",
   "execution_count": 37,
   "metadata": {
    "id": "oAEbN2Xc-KHe"
   },
   "outputs": [],
   "source": [
    "df = pd.read_csv(\"./dataset.csv\") #change path if needed"
   ]
  },
  {
   "cell_type": "code",
   "execution_count": 38,
   "metadata": {
    "id": "g8gJfmpY-r2p"
   },
   "outputs": [
    {
     "data": {
      "text/html": [
       "<div>\n",
       "<style scoped>\n",
       "    .dataframe tbody tr th:only-of-type {\n",
       "        vertical-align: middle;\n",
       "    }\n",
       "\n",
       "    .dataframe tbody tr th {\n",
       "        vertical-align: top;\n",
       "    }\n",
       "\n",
       "    .dataframe thead th {\n",
       "        text-align: right;\n",
       "    }\n",
       "</style>\n",
       "<table border=\"1\" class=\"dataframe\">\n",
       "  <thead>\n",
       "    <tr style=\"text-align: right;\">\n",
       "      <th></th>\n",
       "      <th>months_old</th>\n",
       "      <th>km</th>\n",
       "      <th>fuel_type</th>\n",
       "      <th>horsepower</th>\n",
       "      <th>metcolor</th>\n",
       "      <th>automatic</th>\n",
       "      <th>size_engine</th>\n",
       "      <th>doors_num</th>\n",
       "      <th>weight</th>\n",
       "      <th>price</th>\n",
       "    </tr>\n",
       "  </thead>\n",
       "  <tbody>\n",
       "    <tr>\n",
       "      <th>0</th>\n",
       "      <td>73</td>\n",
       "      <td>97494</td>\n",
       "      <td>Petrol</td>\n",
       "      <td>110</td>\n",
       "      <td>1</td>\n",
       "      <td>0</td>\n",
       "      <td>1600</td>\n",
       "      <td>5</td>\n",
       "      <td>1085</td>\n",
       "      <td>10950</td>\n",
       "    </tr>\n",
       "    <tr>\n",
       "      <th>1</th>\n",
       "      <td>48</td>\n",
       "      <td>89049</td>\n",
       "      <td>Petrol</td>\n",
       "      <td>97</td>\n",
       "      <td>1</td>\n",
       "      <td>0</td>\n",
       "      <td>1400</td>\n",
       "      <td>5</td>\n",
       "      <td>1060</td>\n",
       "      <td>13500</td>\n",
       "    </tr>\n",
       "    <tr>\n",
       "      <th>2</th>\n",
       "      <td>40</td>\n",
       "      <td>161000</td>\n",
       "      <td>Diesel</td>\n",
       "      <td>69</td>\n",
       "      <td>1</td>\n",
       "      <td>0</td>\n",
       "      <td>1900</td>\n",
       "      <td>3</td>\n",
       "      <td>1105</td>\n",
       "      <td>13950</td>\n",
       "    </tr>\n",
       "    <tr>\n",
       "      <th>3</th>\n",
       "      <td>37</td>\n",
       "      <td>38812</td>\n",
       "      <td>Petrol</td>\n",
       "      <td>97</td>\n",
       "      <td>0</td>\n",
       "      <td>0</td>\n",
       "      <td>1400</td>\n",
       "      <td>3</td>\n",
       "      <td>1025</td>\n",
       "      <td>13450</td>\n",
       "    </tr>\n",
       "    <tr>\n",
       "      <th>4</th>\n",
       "      <td>55</td>\n",
       "      <td>33230</td>\n",
       "      <td>Petrol</td>\n",
       "      <td>110</td>\n",
       "      <td>0</td>\n",
       "      <td>0</td>\n",
       "      <td>1600</td>\n",
       "      <td>3</td>\n",
       "      <td>1050</td>\n",
       "      <td>13500</td>\n",
       "    </tr>\n",
       "  </tbody>\n",
       "</table>\n",
       "</div>"
      ],
      "text/plain": [
       "   months_old      km fuel_type  horsepower  metcolor  automatic  size_engine  \\\n",
       "0          73   97494    Petrol         110         1          0         1600   \n",
       "1          48   89049    Petrol          97         1          0         1400   \n",
       "2          40  161000    Diesel          69         1          0         1900   \n",
       "3          37   38812    Petrol          97         0          0         1400   \n",
       "4          55   33230    Petrol         110         0          0         1600   \n",
       "\n",
       "   doors_num  weight  price  \n",
       "0          5    1085  10950  \n",
       "1          5    1060  13500  \n",
       "2          3    1105  13950  \n",
       "3          3    1025  13450  \n",
       "4          3    1050  13500  "
      ]
     },
     "execution_count": 38,
     "metadata": {},
     "output_type": "execute_result"
    }
   ],
   "source": [
    "df.head(5)"
   ]
  },
  {
   "cell_type": "markdown",
   "metadata": {
    "id": "X6CZzmF2AKj3"
   },
   "source": [
    "## 1. Exploració (1 punt)\n",
    "\n"
   ]
  },
  {
   "cell_type": "markdown",
   "metadata": {
    "id": "obV9sMD9AKj7"
   },
   "source": [
    "En primer lloc, explorarem el conjunt de dades. "
   ]
  },
  {
   "cell_type": "markdown",
   "metadata": {
    "id": "9kSc4FNaAKj9"
   },
   "source": [
    "<div style=\"background-color: #EDF7FF; border-color: #7C9DBF; border-left: 5px solid #7C9DBF; padding: 0.5em;\">\n",
    "<strong>Exercici (1 punt):</strong> Explora les dades:\n",
    "\n",
    "<ul>\n",
    "        \n",
    "<li> Indica la mida del dataset i el nombre de variables categòriques i contínues del conjunt de dades</li>\n",
    "<li> Grafica les distribucions de les variables categòriques i de les contínues</li>\n",
    "<li> Genera una taula de correlacions de totes les variables usant la llibreria <code>seaborn</code>, mostrant a cada casella el valor de la correlació</li>\n",
    "<li> Genera una taula (usant la llibreria <code>seaborn</code>) que mostri únicament les correlacions entre el preu i la resta de variables, ordenada de major a menor segons els valors de correlació</li>\n",
    "<li> Comenta els resultats de l'exploració de dades</li>\n",
    "</ul>\n",
    "\n",
    "</div>"
   ]
  },
  {
   "cell_type": "markdown",
   "metadata": {
    "id": "ncySgaqoAKkC"
   },
   "source": [
    "\n",
    "\n",
    "*   **Variables**\n",
    "\n"
   ]
  },
  {
   "cell_type": "code",
   "execution_count": 39,
   "metadata": {
    "id": "N3TOQ_ko_COF"
   },
   "outputs": [
    {
     "data": {
      "text/plain": [
       "(1436, 10)"
      ]
     },
     "execution_count": 39,
     "metadata": {},
     "output_type": "execute_result"
    }
   ],
   "source": [
    "#Dataset size\n",
    "df.shape"
   ]
  },
  {
   "cell_type": "code",
   "execution_count": 40,
   "metadata": {
    "id": "i8-SrElyJFy3"
   },
   "outputs": [
    {
     "name": "stdout",
     "output_type": "stream",
     "text": [
      "Tenim 1 columnes categoriques i 9 columnes contínues.\n"
     ]
    }
   ],
   "source": [
    "#Number of categorical and continuous variables\n",
    "num_categorical_variables = len(df.select_dtypes(exclude=[np.number]).columns)\n",
    "num_continuous_variables = len(df.select_dtypes(include=[np.number]).columns)\n",
    "\n",
    "print(\"Tenim {} columnes categoriques i {} columnes contínues.\".format(num_categorical_variables, num_continuous_variables))"
   ]
  },
  {
   "cell_type": "markdown",
   "metadata": {
    "id": "bJvw7JwmQFss"
   },
   "source": [
    "*   **Distribucions**\n",
    "\n",
    "\n",
    "\n"
   ]
  },
  {
   "cell_type": "code",
   "execution_count": 41,
   "metadata": {
    "id": "Oks_R5EhN5om"
   },
   "outputs": [
    {
     "data": {
      "text/plain": [
       "<AxesSubplot:xlabel='fuel_type'>"
      ]
     },
     "execution_count": 41,
     "metadata": {},
     "output_type": "execute_result"
    },
    {
     "data": {
      "image/png": "[encoded data removed]",
      "text/plain": [
       "<Figure size 1800x288 with 1 Axes>"
      ]
     },
     "metadata": {
      "needs_background": "light"
     },
     "output_type": "display_data"
    }
   ],
   "source": [
    "#Distributions of categorical variables\n",
    "fig, ax = plt.subplots(nrows=1, ncols=num_categorical_variables, figsize=(25,4))\n",
    "GroupedData = df.groupby(by='fuel_type').size()\n",
    "GroupedData.plot.bar()"
   ]
  },
  {
   "cell_type": "code",
   "execution_count": 42,
   "metadata": {
    "id": "tv7CULUcPiTc"
   },
   "outputs": [
    {
     "data": {
      "image/png": "[encoded data removed]",
      "text/plain": [
       "<Figure size 1080x576 with 9 Axes>"
      ]
     },
     "metadata": {
      "needs_background": "light"
     },
     "output_type": "display_data"
    }
   ],
   "source": [
    "#Distributions continuous variables\n",
    "#fig, ax = plt.subplots(nrows=1, ncols=num_continuous_variables, figsize=(25,4))\n",
    "df.hist(bins=7, figsize=(15,8))\n",
    "plt.tight_layout()\n",
    "plt.show()"
   ]
  },
  {
   "cell_type": "markdown",
   "metadata": {
    "id": "YPbtmbqRASsM"
   },
   "source": [
    "*   **Correlacions**\n",
    "\n",
    "\n"
   ]
  },
  {
   "cell_type": "code",
   "execution_count": 43,
   "metadata": {
    "id": "LvO4C7ymANXf"
   },
   "outputs": [
    {
     "data": {
      "text/plain": [
       "array(['Petrol', 'Diesel', 'CNG'], dtype=object)"
      ]
     },
     "execution_count": 43,
     "metadata": {},
     "output_type": "execute_result"
    }
   ],
   "source": [
    "#Convertim la variable categòrica \"fuel_type\" a numèrica\n",
    "\n",
    "df[\"fuel_type\"].unique()"
   ]
  },
  {
   "cell_type": "code",
   "execution_count": 44,
   "metadata": {},
   "outputs": [],
   "source": [
    "df['fuel_type'].replace(['Petrol', 'Diesel', 'CNG'],\n",
    "                        [0, 1, 2], inplace=True)"
   ]
  },
  {
   "cell_type": "code",
   "execution_count": 45,
   "metadata": {},
   "outputs": [
    {
     "data": {
      "text/html": [
       "<div>\n",
       "<style scoped>\n",
       "    .dataframe tbody tr th:only-of-type {\n",
       "        vertical-align: middle;\n",
       "    }\n",
       "\n",
       "    .dataframe tbody tr th {\n",
       "        vertical-align: top;\n",
       "    }\n",
       "\n",
       "    .dataframe thead th {\n",
       "        text-align: right;\n",
       "    }\n",
       "</style>\n",
       "<table border=\"1\" class=\"dataframe\">\n",
       "  <thead>\n",
       "    <tr style=\"text-align: right;\">\n",
       "      <th></th>\n",
       "      <th>months_old</th>\n",
       "      <th>km</th>\n",
       "      <th>fuel_type</th>\n",
       "      <th>horsepower</th>\n",
       "      <th>metcolor</th>\n",
       "      <th>automatic</th>\n",
       "      <th>size_engine</th>\n",
       "      <th>doors_num</th>\n",
       "      <th>weight</th>\n",
       "      <th>price</th>\n",
       "    </tr>\n",
       "  </thead>\n",
       "  <tbody>\n",
       "    <tr>\n",
       "      <th>0</th>\n",
       "      <td>73</td>\n",
       "      <td>97494</td>\n",
       "      <td>0</td>\n",
       "      <td>110</td>\n",
       "      <td>1</td>\n",
       "      <td>0</td>\n",
       "      <td>1600</td>\n",
       "      <td>5</td>\n",
       "      <td>1085</td>\n",
       "      <td>10950</td>\n",
       "    </tr>\n",
       "    <tr>\n",
       "      <th>1</th>\n",
       "      <td>48</td>\n",
       "      <td>89049</td>\n",
       "      <td>0</td>\n",
       "      <td>97</td>\n",
       "      <td>1</td>\n",
       "      <td>0</td>\n",
       "      <td>1400</td>\n",
       "      <td>5</td>\n",
       "      <td>1060</td>\n",
       "      <td>13500</td>\n",
       "    </tr>\n",
       "    <tr>\n",
       "      <th>2</th>\n",
       "      <td>40</td>\n",
       "      <td>161000</td>\n",
       "      <td>1</td>\n",
       "      <td>69</td>\n",
       "      <td>1</td>\n",
       "      <td>0</td>\n",
       "      <td>1900</td>\n",
       "      <td>3</td>\n",
       "      <td>1105</td>\n",
       "      <td>13950</td>\n",
       "    </tr>\n",
       "    <tr>\n",
       "      <th>3</th>\n",
       "      <td>37</td>\n",
       "      <td>38812</td>\n",
       "      <td>0</td>\n",
       "      <td>97</td>\n",
       "      <td>0</td>\n",
       "      <td>0</td>\n",
       "      <td>1400</td>\n",
       "      <td>3</td>\n",
       "      <td>1025</td>\n",
       "      <td>13450</td>\n",
       "    </tr>\n",
       "    <tr>\n",
       "      <th>4</th>\n",
       "      <td>55</td>\n",
       "      <td>33230</td>\n",
       "      <td>0</td>\n",
       "      <td>110</td>\n",
       "      <td>0</td>\n",
       "      <td>0</td>\n",
       "      <td>1600</td>\n",
       "      <td>3</td>\n",
       "      <td>1050</td>\n",
       "      <td>13500</td>\n",
       "    </tr>\n",
       "  </tbody>\n",
       "</table>\n",
       "</div>"
      ],
      "text/plain": [
       "   months_old      km  fuel_type  horsepower  metcolor  automatic  \\\n",
       "0          73   97494          0         110         1          0   \n",
       "1          48   89049          0          97         1          0   \n",
       "2          40  161000          1          69         1          0   \n",
       "3          37   38812          0          97         0          0   \n",
       "4          55   33230          0         110         0          0   \n",
       "\n",
       "   size_engine  doors_num  weight  price  \n",
       "0         1600          5    1085  10950  \n",
       "1         1400          5    1060  13500  \n",
       "2         1900          3    1105  13950  \n",
       "3         1400          3    1025  13450  \n",
       "4         1600          3    1050  13500  "
      ]
     },
     "metadata": {},
     "output_type": "display_data"
    },
    {
     "name": "stdout",
     "output_type": "stream",
     "text": [
      "[0 1 2]\n"
     ]
    }
   ],
   "source": [
    "display(df.head())\n",
    "print(df[\"fuel_type\"].unique())"
   ]
  },
  {
   "cell_type": "code",
   "execution_count": 46,
   "metadata": {},
   "outputs": [
    {
     "data": {
      "image/png": "[encoded data removed]",
      "text/plain": [
       "<Figure size 432x288 with 2 Axes>"
      ]
     },
     "metadata": {
      "needs_background": "light"
     },
     "output_type": "display_data"
    }
   ],
   "source": [
    "#All variables correlations\n",
    "sns.heatmap(df.corr(), annot = True);"
   ]
  },
  {
   "cell_type": "code",
   "execution_count": 47,
   "metadata": {
    "id": "RSJWiWThAQj5"
   },
   "outputs": [
    {
     "data": {
      "image/png": "[encoded data removed]",
      "text/plain": [
       "<Figure size 576x864 with 2 Axes>"
      ]
     },
     "metadata": {
      "needs_background": "light"
     },
     "output_type": "display_data"
    }
   ],
   "source": [
    "#Features correlating with Price\n",
    "plt.figure(figsize=(8, 12))\n",
    "heatmap = sns.heatmap(df.corr()[['price']].sort_values(by='price', ascending=False), \n",
    "                      vmin=-1, vmax=1, annot=True, cmap='BrBG')\n",
    "heatmap.set_title('Features correlating with Price', fontdict={'fontsize':18}, pad=16);"
   ]
  },
  {
   "cell_type": "markdown",
   "metadata": {
    "id": "n1GaD4JqQhsJ"
   },
   "source": [
    "\n",
    "\n",
    "*   **Comentaris resultat exploració**\n",
    "\n"
   ]
  },
  {
   "cell_type": "markdown",
   "metadata": {
    "id": "N_8tQfTTQm9Z"
   },
   "source": [
    "<font color='blue'>D'aquesta primera exploració en podem fer diversos comentaris. De la classe categòrica fuel_type veiem que la\n",
    "gran majoria de dades de les que disposem son de cotxes amb Petrol. De les variables continues també podem destacar\n",
    "que hi ha elements molt més presents que d'altres, com per exemple el horsepower o el fet de ser un cotxe automàtic\n",
    "o no.\n",
    "\n",
    "Les correlacions amb el preu segueixen el patró que ens podriem imaginar, les variables que hi afecten mes\n",
    "son els km del cotxe i la seva antiguitat. Les dues variables hi afecten de manera negativa, ja que com més\n",
    "vell és el cotxe i més km porta, inferior serà el preu.)"
   ]
  },
  {
   "cell_type": "markdown",
   "metadata": {
    "id": "bIZSkKZTAXgi"
   },
   "source": [
    "## 2. Xarxa neuronal artificial: Classificació (4.5 punts)\n"
   ]
  },
  {
   "cell_type": "markdown",
   "metadata": {
    "id": "6Bq2ZhSLAXgm"
   },
   "source": [
    "En aquest apartat entrenarem un model que intenti classificar els cotxes segons la gamma de preu. Per això crearem una nova variable com a indicador de qualitat del cotxe (gamma baixa, mitjana o alta), seguint les condicions següents:\n",
    "\n",
    "\n",
    "\n",
    "* _low-end_: preu menor que 11000 euros\n",
    "* _medium-end_: preu major o igual que 11000 euros i menor que 13000\n",
    "* _high-end_: preu major o igual que 13000\n",
    "\n"
   ]
  },
  {
   "cell_type": "markdown",
   "metadata": {
    "id": "AHej1yMIAXgq"
   },
   "source": [
    "### Pre-processat\n"
   ]
  },
  {
   "cell_type": "markdown",
   "metadata": {
    "id": "oxm6bT8SAXgt"
   },
   "source": [
    "<div style=\"background-color: #EDF7FF; border-color: #7C9DBF; border-left: 5px solid #7C9DBF; padding: 0.5em;\">\n",
    "<strong>Exercici (0.75 punts):</strong> Pre-processa les dades:\n",
    "\n",
    "<ul>\n",
    "        \n",
    "<li> Crea una nova variable <code>quality</code> que inclogui la gamma del cotxe, amb les condicions indicades</li>\n",
    "<li> Mostra l'histograma de la nova variable <code>quality</code></li>\n",
    "<li> Crea els vectors de variables dependents (<i>features</i>) i de la variable independent (<i>labels</i>)</li>\n",
    "<li> Normalitza les dades degudament i binaritza el vector d'etiquetes (<i>labels</i>) </li>\n",
    "<li> Divideix el conjunt de dades en 80% per a entrenament i 20% per a test, usant la funció <code>train_test_split</code></li>\n",
    "<li> Mostra les dimensions dels conjunts d'entrenament i test</li>\n",
    "</ul>\n",
    "</div>"
   ]
  },
  {
   "cell_type": "code",
   "execution_count": 48,
   "metadata": {
    "id": "GfltZ361AC89"
   },
   "outputs": [
    {
     "data": {
      "text/plain": [
       "array(['low-end', 'high-end', 'medium-end'], dtype=object)"
      ]
     },
     "execution_count": 48,
     "metadata": {},
     "output_type": "execute_result"
    }
   ],
   "source": [
    "#Create new variable: quality\n",
    "conditions = [\n",
    "    (df['price'] >= 0) & (df['price'] < 11000),\n",
    "    (df['price'] >= 11000 ) & (df['price'] < 13000),\n",
    "    (df['price'] >= 13000)\n",
    "]\n",
    "\n",
    "# create a list of the values we want to assign for each condition\n",
    "values = ['low-end', 'medium-end', 'high-end']\n",
    "\n",
    "df['quality'] = np.select(conditions, values)\n",
    "df['quality'].unique()"
   ]
  },
  {
   "cell_type": "code",
   "execution_count": 49,
   "metadata": {
    "id": "LLcPtn18BlQs"
   },
   "outputs": [
    {
     "data": {
      "image/png": "[encoded data removed]",
      "text/plain": [
       "<Figure size 432x288 with 1 Axes>"
      ]
     },
     "metadata": {
      "needs_background": "light"
     },
     "output_type": "display_data"
    }
   ],
   "source": [
    "#Histogram car quality\n",
    "plt.hist(df['quality'], bins = 7)\n",
    "plt.show()"
   ]
  },
  {
   "cell_type": "code",
   "execution_count": 50,
   "metadata": {
    "id": "whqYSqQEBqjM"
   },
   "outputs": [],
   "source": [
    "#Create features and labels vectors\n",
    "dataset = df.values\n",
    "features = dataset[:,0:8].astype(float)\n",
    "labels = dataset[:,10]"
   ]
  },
  {
   "cell_type": "code",
   "execution_count": 51,
   "metadata": {
    "id": "r8MdGHI7Btjr"
   },
   "outputs": [],
   "source": [
    "#Normalize the corresponding data\n",
    "scaler = StandardScaler()\n",
    "normalized = scaler.fit_transform(features)"
   ]
  },
  {
   "cell_type": "code",
   "execution_count": 52,
   "metadata": {
    "id": "OkVVv7yrBxhc"
   },
   "outputs": [],
   "source": [
    "#Binarize the labels\n",
    "from sklearn.preprocessing import label_binarize\n",
    "\n",
    "binarized = label_binarize(labels, classes=['low-end', 'high-end', 'medium-end'])"
   ]
  },
  {
   "cell_type": "code",
   "execution_count": 53,
   "metadata": {
    "id": "JqDRRy2mAgUV"
   },
   "outputs": [],
   "source": [
    "#Train-test split\n",
    "X_train, X_test, y_train, y_test = train_test_split(\n",
    "    normalized, binarized, test_size=0.20, random_state=42)"
   ]
  },
  {
   "cell_type": "code",
   "execution_count": 54,
   "metadata": {
    "id": "j7FJc1POAii4"
   },
   "outputs": [
    {
     "name": "stdout",
     "output_type": "stream",
     "text": [
      "Train size is (1148, 8)\n",
      "Test size is (288, 8)\n"
     ]
    }
   ],
   "source": [
    "#Shapes\n",
    "print(\"Train size is {}\".format(X_train.shape))\n",
    "print(\"Test size is {}\".format(X_test.shape))"
   ]
  },
  {
   "cell_type": "markdown",
   "metadata": {
    "id": "ForBaHMfAdYC"
   },
   "source": [
    "### Model base\n"
   ]
  },
  {
   "cell_type": "markdown",
   "metadata": {
    "id": "SZh9hMEjAdYI"
   },
   "source": [
    "Començarem dissenyant un model base amb 4 capes ocultes.\n",
    "\n",
    "Nota: Per a l'ajust del model farem servir les dades de test com a conjunt de validació."
   ]
  },
  {
   "cell_type": "markdown",
   "metadata": {
    "id": "mqkMfpWAAdYN"
   },
   "source": [
    "<div style=\"background-color: #EDF7FF; border-color: #7C9DBF; border-left: 5px solid #7C9DBF; padding: 0.5em;\">\n",
    "<strong>Exercici (1.25 punts):</strong> Implementa el model de xarxa neuronal artificial:\n",
    "<ul>\n",
    "<li> Dissenya l'arquitectura per al model de classificació amb la funció d'activació adequada per a la capa de sortida i amb les característiques següents:</li>\n",
    "    <ul>\n",
    "    <li> 4 capes ocultes amb 64, 32, 10, 8 neurones successivament</li>\n",
    "    <li> Funció d'activació de les capes intermèdies: ReLU</li>\n",
    "    </ul>\n",
    "\n",
    "<li> Compila el model amb la funció de pèrdua més adequada, l'optimitzador Adam, una velocitat d'aprenentatge de 0.1, i la mètrica Accuracy.</li>\n",
    "\n",
    "<li> Ajusta el model amb 20 èpoques i una mida del batch de 64</li>\n",
    "\n",
    "<li> Mostra les gràfiques d'<i>accuracy</i> i <i>loss</i>. A cada gràfica s'ha de visualitzar la corba d'entrenament i la de validació</li>\n",
    "</ul>\n",
    "</div>"
   ]
  },
  {
   "cell_type": "code",
   "execution_count": 55,
   "metadata": {
    "id": "55FNYaQnB8iS"
   },
   "outputs": [],
   "source": [
    "#Create ANN model\n",
    "model = keras.models.Sequential()\n",
    "model.add(keras.layers.Dense(64, activation=\"relu\"))\n",
    "model.add(keras.layers.Dense(32, activation=\"relu\"))\n",
    "model.add(keras.layers.Dense(10, activation=\"relu\"))\n",
    "model.add(keras.layers.Dense(8, activation=\"relu\"))\n",
    "model.add(keras.layers.Dense(3, activation=\"softmax\"))"
   ]
  },
  {
   "cell_type": "code",
   "execution_count": 56,
   "metadata": {
    "id": "4uZBJAsGqJau"
   },
   "outputs": [],
   "source": [
    "#Compile\n",
    "model.compile(loss=\"categorical_crossentropy\",\n",
    "              optimizer=\"adam\",\n",
    "              metrics=[\"accuracy\"])"
   ]
  },
  {
   "cell_type": "code",
   "execution_count": 57,
   "metadata": {
    "id": "H-k_iYxBqLQK"
   },
   "outputs": [],
   "source": [
    "#Fit\n",
    "history = model.fit(X_train, y_train, \n",
    "                    validation_data=(X_test, y_test),\n",
    "                    epochs=20, batch_size=64, verbose=0)"
   ]
  },
  {
   "cell_type": "code",
   "execution_count": 58,
   "metadata": {
    "id": "Id4u4igDBHtK"
   },
   "outputs": [
    {
     "data": {
      "image/png": "[encoded data removed]",
      "text/plain": [
       "<Figure size 576x360 with 1 Axes>"
      ]
     },
     "metadata": {
      "needs_background": "light"
     },
     "output_type": "display_data"
    }
   ],
   "source": [
    "#Plots \n",
    "pd.DataFrame(history.history).plot(figsize=(8, 5))\n",
    "plt.grid(True)\n",
    "plt.gca().set_ylim(0, 1) # set the vertical range to [0-1]\n",
    "plt.show()"
   ]
  },
  {
   "cell_type": "markdown",
   "metadata": {
    "id": "epfveZ6I5rzR"
   },
   "source": [
    "### Influència velocitat aprenentatge i optimitzador"
   ]
  },
  {
   "cell_type": "markdown",
   "metadata": {
    "id": "Pvt1o-bzDgQs"
   },
   "source": [
    "Un cop tenim el model base, analitzarem la influència que poden tenir la velocitat daprenentatge i el tipus doptimitzador en la millora del rendiment."
   ]
  },
  {
   "cell_type": "markdown",
   "metadata": {
    "id": "k4MKwGwYtBML"
   },
   "source": [
    "<div style=\"background-color: #EDF7FF; border-color: #7C9DBF; border-left: 5px solid #7C9DBF; padding: 0.5em;\">\n",
    "<strong>Exercici (1.5 punts):</strong> Implementa una funció per entrenar l'arquitectura de l'exercici anterior per a 4 optimitzadors diferents: Adam, SGD, Adadelta, Adagrad, i 4 velocitats d'aprenentatge: 0.001, 0.01, 0.05, 0.1.\n",
    "Entrena els models i representa dues gràfiques:\n",
    "  <ul>\n",
    "      <li> Temps d'entrenament vs Velocitat d'aprenentatge</li>\n",
    "      <li>  <i>Accuracy</i> vs Velocitat d'aprenentatge</li>\n",
    "</ul>\n",
    "    \n",
    "Cada gràfica ha d'incloure l'evolució obtinguda pels quatre optimitzadors per poder-los comparar millor.\n",
    "    \n",
    "-----------------------------------------------------------------------------------------------------------\n",
    "<b>Important</b>: per al lliurament de la PAC, fixar el paràmetre <code>verbose = 0</code> a l'entrenament dels models. La solució només ha de mostrar les gràfiques resultants.\n",
    "</div>"
   ]
  },
  {
   "cell_type": "code",
   "execution_count": 59,
   "metadata": {},
   "outputs": [],
   "source": [
    "learning_rates = [0.001, 0.01, 0.05, 0.1]\n",
    "optimizers = [Adam, SGD, Adadelta, Adagrad]"
   ]
  },
  {
   "cell_type": "code",
   "execution_count": 60,
   "metadata": {},
   "outputs": [],
   "source": [
    "def fit_model(optimizer, trainX, trainy, testX, testy, lrate):\n",
    "    # define model\n",
    "    model = keras.models.Sequential()\n",
    "    model.add(keras.layers.Dense(64, activation=\"relu\"))\n",
    "    model.add(keras.layers.Dense(32, activation=\"relu\"))\n",
    "    model.add(keras.layers.Dense(10, activation=\"relu\"))\n",
    "    model.add(keras.layers.Dense(8, activation=\"relu\"))\n",
    "    model.add(keras.layers.Dense(3, activation=\"softmax\"))\n",
    "    \n",
    "    # compile model\n",
    "    opt = optimizer(learning_rate=lrate)\n",
    "    model.compile(loss='categorical_crossentropy', optimizer=opt, metrics=['accuracy'])\n",
    "    # fit model\n",
    "    history = model.fit(X_train, y_train,\n",
    "                        validation_data=(testX, testy), \n",
    "                        epochs=20, batch_size=64, verbose=0)\n",
    "    # plot learning curves\n",
    "    plt.plot(history.history['accuracy'])\n",
    "    plt.title('Learning rate vs accuracy', pad=-50)"
   ]
  },
  {
   "cell_type": "code",
   "execution_count": 61,
   "metadata": {},
   "outputs": [
    {
     "data": {
      "image/png": "[encoded data removed]",
      "text/plain": [
       "<Figure size 432x288 with 1 Axes>"
      ]
     },
     "metadata": {
      "needs_background": "light"
     },
     "output_type": "display_data"
    }
   ],
   "source": [
    "for j in range(len(optimizers)):\n",
    "    for i in range(len(learning_rates)):\n",
    "        fit_model(optimizers[j], X_train, y_train, X_test, y_test, learning_rates[i])"
   ]
  },
  {
   "cell_type": "markdown",
   "metadata": {
    "id": "3FFT0HcW5yzD"
   },
   "source": [
    "### Elecció del millor model"
   ]
  },
  {
   "cell_type": "markdown",
   "metadata": {
    "id": "nxM_49dxuC1L"
   },
   "source": [
    "<div style=\"background-color: #EDF7FF; border-color: #7C9DBF; border-left: 5px solid #7C9DBF; padding: 0.5em;\">\n",
    "<strong>Exercici (1 punt):</strong> Identifica el valor de la velocitat d'aprenentatge i de l'optimitzador que donen millor rendiment al model, segons els resultats de l'exercici anterior:\n",
    "<ul>\n",
    "    \n",
    "<li> Justifica l'elecció</li>\n",
    "<li> Compila i entrena el model triat</li>\n",
    "<li> Mostra les corresponents gràfiques d'<i>Accuracy</i> i <i>Loss</i> dels conjunts d'entrenament i validació, i indica l'<i>Accuracy</i> del model </li>\n",
    "<li> Mostra la matriu de confusió multi-classe amb les etiquetes originals de <code>quality</code> (<i>low-end</i>, <i>medium-end</i>, <i>high-end</i>)</li>\n",
    "<li> Mostra la precisió, recall i F1-score resultants per a cada etiqueta</li>\n",
    "<li> Comenta els resultats obtinguts</li>\n",
    "</ul>\n",
    "</div>"
   ]
  },
  {
   "cell_type": "code",
   "execution_count": 62,
   "metadata": {},
   "outputs": [
    {
     "name": "stderr",
     "output_type": "stream",
     "text": [
      "<ipython-input-62-ea6cfc49e0e7>:16: DeprecationWarning: KerasRegressor is deprecated, use Sci-Keras (https://github.com/adriangb/scikeras) instead. See https://www.adriangb.com/scikeras/stable/migration.html for help migrating.\n",
      "  keras_reg = keras.wrappers.scikit_learn.KerasRegressor(build_model)\n"
     ]
    }
   ],
   "source": [
    "#Function to compute several models changing Optimizers and learning rate\n",
    "def build_model(optimizerss, learning_rate):\n",
    "    opt = optimizerss(learning_rate = learning_rate)\n",
    "    model = keras.models.Sequential()\n",
    "    model.add(keras.layers.Dense(64, activation=\"relu\"))\n",
    "    model.add(keras.layers.Dense(32, activation=\"relu\"))\n",
    "    model.add(keras.layers.Dense(10, activation=\"relu\"))\n",
    "    model.add(keras.layers.Dense(8, activation=\"relu\"))\n",
    "    model.add(keras.layers.Dense(3, activation=\"softmax\"))\n",
    "\n",
    "    model.compile(loss=\"categorical_crossentropy\",\n",
    "              optimizer=opt,\n",
    "              metrics=[\"accuracy\"])\n",
    "    return model\n",
    "\n",
    "keras_reg = keras.wrappers.scikit_learn.KerasRegressor(build_model)"
   ]
  },
  {
   "cell_type": "code",
   "execution_count": 63,
   "metadata": {},
   "outputs": [
    {
     "name": "stdout",
     "output_type": "stream",
     "text": [
      "12/12 [==============================] - 0s 636us/step - loss: 0.5349 - accuracy: 0.7728\n",
      "12/12 [==============================] - 0s 546us/step - loss: 0.5584 - accuracy: 0.7363\n",
      "12/12 [==============================] - 0s 637us/step - loss: 0.6762 - accuracy: 0.7382\n",
      "12/12 [==============================] - 0s 636us/step - loss: 1.0884 - accuracy: 0.4517\n",
      "12/12 [==============================] - 0s 624us/step - loss: 1.1081 - accuracy: 0.3107\n",
      "12/12 [==============================] - 0s 637us/step - loss: 1.1082 - accuracy: 0.3403\n",
      "12/12 [==============================] - 0s 628us/step - loss: 0.8952 - accuracy: 0.6266\n",
      "12/12 [==============================] - 0s 618us/step - loss: 0.7466 - accuracy: 0.6841\n",
      "12/12 [==============================] - 0s 636us/step - loss: 0.9365 - accuracy: 0.5209\n",
      "12/12 [==============================] - 0s 546us/step - loss: 0.5662 - accuracy: 0.7493\n",
      "12/12 [==============================] - 0s 546us/step - loss: 0.8042 - accuracy: 0.6606\n",
      "12/12 [==============================] - 0s 691us/step - loss: 0.6093 - accuracy: 0.7042\n",
      "12/12 [==============================] - 0s 597us/step - loss: 0.7521 - accuracy: 0.6893\n",
      "12/12 [==============================] - 0s 637us/step - loss: 0.9332 - accuracy: 0.5901\n",
      "12/12 [==============================] - 0s 637us/step - loss: 0.8421 - accuracy: 0.6361\n",
      "12/12 [==============================] - 0s 659us/step - loss: 1.0702 - accuracy: 0.3681\n",
      "12/12 [==============================] - 0s 507us/step - loss: 1.0849 - accuracy: 0.4883\n",
      "12/12 [==============================] - 0s 631us/step - loss: 1.1401 - accuracy: 0.2173\n",
      "12/12 [==============================] - 0s 727us/step - loss: 1.0715 - accuracy: 0.4726\n",
      "12/12 [==============================] - 0s 636us/step - loss: 0.9941 - accuracy: 0.5875\n",
      "12/12 [==============================] - 0s 635us/step - loss: 1.0905 - accuracy: 0.3508\n",
      "12/12 [==============================] - 0s 621us/step - loss: 0.4719 - accuracy: 0.8094\n",
      "12/12 [==============================] - 0s 637us/step - loss: 0.5352 - accuracy: 0.7363\n",
      "12/12 [==============================] - 0s 542us/step - loss: 0.6154 - accuracy: 0.7382\n",
      "12/12 [==============================] - 0s 636us/step - loss: 0.4999 - accuracy: 0.8016\n",
      "12/12 [==============================] - 0s 637us/step - loss: 0.5156 - accuracy: 0.7572\n",
      "12/12 [==============================] - 0s 620us/step - loss: 0.6249 - accuracy: 0.7435\n",
      "12/12 [==============================] - 0s 909us/step - loss: 0.4850 - accuracy: 0.7859\n",
      "12/12 [==============================] - 0s 728us/step - loss: 0.6037 - accuracy: 0.7441\n",
      "12/12 [==============================] - 0s 546us/step - loss: 0.6234 - accuracy: 0.7356\n"
     ]
    }
   ],
   "source": [
    "#Compute models\n",
    "from sklearn.model_selection import RandomizedSearchCV\n",
    "\n",
    "param_distribs = {\n",
    "    \"optimizerss\": [Adam, SGD, Adadelta, Adagrad],\n",
    "    \"learning_rate\": [0.001, 0.01, 0.05, 0.1],\n",
    "}\n",
    "\n",
    "rnd_search_cv = RandomizedSearchCV(keras_reg, param_distribs, n_iter=10, cv=3)\n",
    "history_all = rnd_search_cv.fit(X_train, y_train,\n",
    "                                validation_data=(X_test, y_test),\n",
    "                                epochs=20, batch_size=64,\n",
    "                                callbacks=[keras.callbacks.EarlyStopping(patience=10)], verbose=0)"
   ]
  },
  {
   "cell_type": "code",
   "execution_count": 71,
   "metadata": {
    "id": "4oiJyrGL6Ntb"
   },
   "outputs": [
    {
     "name": "stdout",
     "output_type": "stream",
     "text": [
      "Amb les funcions que ens proporciona RandomizedSearchCV podem saber directament quin és el millor model dels que hem testejat:\n",
      "\n",
      "{'optimizerss': <class 'keras.optimizer_v2.gradient_descent.SGD'>, 'learning_rate': 0.1}\n",
      "-0.5408360759417216\n",
      "\n",
      "En aquest cas veiem que és SGD, amb un learning rate de 0.1\n"
     ]
    }
   ],
   "source": [
    "#Best model justification\n",
    "print(\"Amb les funcions que ens proporciona RandomizedSearchCV podem saber directament quin és el millor model dels que hem testejat:\\n\")\n",
    "print(rnd_search_cv.best_params_)\n",
    "print(rnd_search_cv.best_score_)\n",
    "model = rnd_search_cv.best_estimator_.model\n",
    "\n",
    "print(\"\\nEn aquest cas veiem que és SGD, amb un learning rate de 0.1\")"
   ]
  },
  {
   "cell_type": "code",
   "execution_count": 72,
   "metadata": {
    "id": "8Dwvn_0JCt9A"
   },
   "outputs": [],
   "source": [
    "#Create, compile and fit ANN BEST model\n",
    "opt = SGD(learning_rate = 0.1)\n",
    "model = keras.models.Sequential()\n",
    "model.add(keras.layers.Dense(64, activation=\"relu\"))\n",
    "model.add(keras.layers.Dense(32, activation=\"relu\"))\n",
    "model.add(keras.layers.Dense(10, activation=\"relu\"))\n",
    "model.add(keras.layers.Dense(8, activation=\"relu\"))\n",
    "model.add(keras.layers.Dense(3, activation=\"softmax\"))\n",
    "model.compile(loss=\"categorical_crossentropy\",\n",
    "              optimizer=opt,\n",
    "              metrics=[\"accuracy\"])\n",
    "\n",
    "history = model.fit(X_train, y_train, \n",
    "                    validation_data=(X_test, y_test),\n",
    "                    epochs=20, batch_size=64, verbose=0)"
   ]
  },
  {
   "cell_type": "code",
   "execution_count": 73,
   "metadata": {
    "id": "7KvpGJi4C1fD"
   },
   "outputs": [
    {
     "data": {
      "image/png": "[encoded data removed]",
      "text/plain": [
       "<Figure size 576x360 with 1 Axes>"
      ]
     },
     "metadata": {
      "needs_background": "light"
     },
     "output_type": "display_data"
    }
   ],
   "source": [
    "#Plots\n",
    "pd.DataFrame(history.history).plot(figsize=(8, 5))\n",
    "plt.grid(True)\n",
    "plt.gca().set_ylim(0, 1) # set the vertical range to [0-1]\n",
    "plt.show()"
   ]
  },
  {
   "cell_type": "code",
   "execution_count": 74,
   "metadata": {
    "id": "rgUdskZ7Fz4n"
   },
   "outputs": [
    {
     "data": {
      "text/plain": [
       "array([[101,   0,  14],\n",
       "       [  2,  75,   8],\n",
       "       [ 26,  12,  50]], dtype=int64)"
      ]
     },
     "execution_count": 74,
     "metadata": {},
     "output_type": "execute_result"
    }
   ],
   "source": [
    "#Confusion matrix\n",
    "from sklearn.metrics import confusion_matrix\n",
    "\n",
    "y_pred_class = np.argmax(model.predict(X_test), axis=-1)\n",
    "y_pred = model.predict(X_test)\n",
    "y_test_class = np.argmax(y_test, axis=1)\n",
    "confusion_matrix(y_test_class, y_pred_class)"
   ]
  },
  {
   "cell_type": "code",
   "execution_count": 75,
   "metadata": {
    "id": "FyVOsMOJISLp"
   },
   "outputs": [
    {
     "name": "stdout",
     "output_type": "stream",
     "text": [
      "              precision    recall  f1-score   support\n",
      "\n",
      "           0       0.78      0.88      0.83       115\n",
      "           1       0.86      0.88      0.87        85\n",
      "           2       0.69      0.57      0.62        88\n",
      "\n",
      "    accuracy                           0.78       288\n",
      "   macro avg       0.78      0.78      0.77       288\n",
      "weighted avg       0.78      0.78      0.78       288\n",
      "\n"
     ]
    }
   ],
   "source": [
    "#Accuracy, Precision, Recall and F1-score for each label\n",
    "from sklearn.metrics import classification_report\n",
    "\n",
    "print(classification_report(y_test_class, y_pred_class))"
   ]
  },
  {
   "cell_type": "markdown",
   "metadata": {
    "id": "GlmpoPbzE5k0"
   },
   "source": [
    "* **Comment results**\n",
    "\n",
    "<font color='blue'>Obtenim uns resultats bastant bons, però en aquest cas particular no s'observa una gran millora respecte al model que haviem entrenat anteriorment, ja que obtenim una accuracy semblant.\n",
    "    \n",
    "Els resultats de la matriu de confusió són prou bons, però veiem que el model es comporta millor amb les etiquetes 0 i 1 en comparació a la classe 2. Per tant, el model té més dificultats a predir els cotxes de gamma alta."
   ]
  },
  {
   "cell_type": "markdown",
   "metadata": {
    "id": "LY6fFoV955e3"
   },
   "source": [
    "## 3. Xarxa neuronal artificial: Regressió (4.5 punts)"
   ]
  },
  {
   "cell_type": "markdown",
   "metadata": {
    "id": "vMTilNAuwN4X"
   },
   "source": [
    "En aquest apartat resoldrem un problema de regressió intentant predir el preu de revenda segons les característiques dels cotxes. Partirem del conjunt de dades original."
   ]
  },
  {
   "cell_type": "markdown",
   "metadata": {
    "id": "tKTYsFI45_rW"
   },
   "source": [
    "### Pre-processat\n",
    "\n",
    "\n"
   ]
  },
  {
   "cell_type": "markdown",
   "metadata": {
    "id": "eSp_nZX3wQDT"
   },
   "source": [
    "<div style=\"background-color: #EDF7FF; border-color: #7C9DBF; border-left: 5px solid #7C9DBF; padding: 0.5em;\">\n",
    "<strong>Exercici (0.5 punts):</strong> Pre-processa les dades:\n",
    "<ul>\n",
    "<li> Crea els vectors de variables dependents (<i>features</i>) i de la variable independent (<i>target</i>)</li>\n",
    "<li> Normalitza degudament les dades</li>\n",
    "<li> Divideix el conjunt de dades en 70% per a entrenament i 30% per a test, usant la funció <code>train_test_split</code></li>\n",
    "<li> Mostra les dimensions dels conjunts d'entrenament i test</li>\n",
    "</ul>\n",
    "</div>"
   ]
  },
  {
   "cell_type": "code",
   "execution_count": 77,
   "metadata": {
    "id": "2ZFhPX92wqB7"
   },
   "outputs": [],
   "source": [
    "#Create features and target vectors\n",
    "df = pd.read_csv(\"./dataset.csv\")\n",
    "df['fuel_type'].replace(['Petrol', 'Diesel', 'CNG'],\n",
    "                        [0, 1, 2], inplace=True)\n",
    "dataset = df.values\n",
    "features = dataset[:,0:9].astype(float)\n",
    "target = dataset[:,9]"
   ]
  },
  {
   "cell_type": "code",
   "execution_count": 78,
   "metadata": {
    "id": "hUi95MvbAa-u"
   },
   "outputs": [],
   "source": [
    "#Normalizing the data\n",
    "scaler = StandardScaler()\n",
    "df_normalized = scaler.fit_transform(dataset)\n",
    "\n",
    "features = df_normalized[:,0:9].astype(float)\n",
    "target = df_normalized[:,9]\n"
   ]
  },
  {
   "cell_type": "code",
   "execution_count": 79,
   "metadata": {
    "id": "_vUVcRn_wdQx"
   },
   "outputs": [],
   "source": [
    "#Split train-test\n",
    "X_train, X_test, y_train, y_test = train_test_split(\n",
    "    features, target, test_size=0.30, random_state=42)"
   ]
  },
  {
   "cell_type": "code",
   "execution_count": 80,
   "metadata": {
    "id": "Ca_Zk7PfwkPE"
   },
   "outputs": [
    {
     "name": "stdout",
     "output_type": "stream",
     "text": [
      "Train size is (1005, 9)\n",
      "Test size is (431, 9)\n"
     ]
    }
   ],
   "source": [
    "#Dimensions\n",
    "print(\"Train size is {}\".format(X_train.shape))\n",
    "print(\"Test size is {}\".format(X_test.shape))"
   ]
  },
  {
   "cell_type": "markdown",
   "metadata": {
    "id": "6Q7VJZn_6Eru"
   },
   "source": [
    "### Model base"
   ]
  },
  {
   "cell_type": "markdown",
   "metadata": {
    "id": "aI1qOtftx4J0"
   },
   "source": [
    "En primer lloc dissenyarem un model base amb tres capes ocultes.\n",
    "\n",
    "Nota: Per a l'ajust del model farem servir les dades de test com a conjunt de validació."
   ]
  },
  {
   "cell_type": "markdown",
   "metadata": {
    "id": "0AhiMwVZw13D"
   },
   "source": [
    "<div style=\"background-color: #EDF7FF; border-color: #7C9DBF; border-left: 5px solid #7C9DBF; padding: 0.5em;\">\n",
    "<strong>Exercici (1 punt):</strong> Implementa el model de xarxa neuronal artificial:\n",
    "<ul>\n",
    "<li>Dissenya l'arquitectura per al model de regressió amb les característiques següents:</li>\n",
    "     <ul>\n",
    "    <li>1 primera capa oculta completament connectada de 128 neurones i activació ReLU</li>\n",
    "    <li>2 capes ocultes de 32 i 16 neurones i activació tangencial</li>\n",
    "    <li>Totes les capes han de tenir <code>kernel_initizalizer</code> en mode 'normal'</li>\n",
    "    </ul>\n",
    "<li>Compila el model amb la funció de pèrdua més adequada i l'optimitzador Adam</li>\n",
    "\n",
    "<li>Ajusta el model amb 50 èpoques i una mida del batch de 32</li>\n",
    "\n",
    "<li>Mostra la gràfica de pèrdua. A la gràfica s'ha de visualitzar la corba d'entrenament i la de validació</li>\n",
    "</ul>\n",
    "</div>"
   ]
  },
  {
   "cell_type": "code",
   "execution_count": 81,
   "metadata": {},
   "outputs": [],
   "source": [
    "#Create ANN model\n",
    "model = keras.models.Sequential([\n",
    "    keras.layers.Dense(128, activation=\"relu\", input_shape=X_train.shape[1:], kernel_initializer='normal'),\n",
    "    keras.layers.Dense(32, activation=\"tanh\", kernel_initializer='normal'),\n",
    "    keras.layers.Dense(16, activation=\"tanh\", kernel_initializer='normal'),\n",
    "    keras.layers.Dense(1)\n",
    "])"
   ]
  },
  {
   "cell_type": "code",
   "execution_count": 82,
   "metadata": {
    "id": "nvu-prE3radd"
   },
   "outputs": [],
   "source": [
    "#Compiling the model\n",
    "model.compile(loss=\"mean_squared_error\", optimizer=\"adam\")"
   ]
  },
  {
   "cell_type": "code",
   "execution_count": 83,
   "metadata": {
    "id": "W6zQWqGjrb54"
   },
   "outputs": [
    {
     "name": "stdout",
     "output_type": "stream",
     "text": [
      "14/14 [==============================] - 0s 579us/step - loss: 0.1184\n"
     ]
    }
   ],
   "source": [
    "#Fit model\n",
    "history = model.fit(X_train, y_train, epochs=50, batch_size=32, \n",
    "                    validation_data=(X_test, y_test), verbose=0)\n",
    "mse_test = model.evaluate(X_test, y_test)"
   ]
  },
  {
   "cell_type": "code",
   "execution_count": 84,
   "metadata": {
    "id": "uJdhQfZlDlXj"
   },
   "outputs": [
    {
     "data": {
      "image/png": "[encoded data removed]",
      "text/plain": [
       "<Figure size 576x360 with 1 Axes>"
      ]
     },
     "metadata": {
      "needs_background": "light"
     },
     "output_type": "display_data"
    }
   ],
   "source": [
    "#Plots\n",
    "pd.DataFrame(history.history).plot(figsize=(8, 5))\n",
    "plt.grid(True)\n",
    "plt.gca().set_ylim(0, 0.8) # set the vertical range to [0-1]\n",
    "plt.ylabel(\"Loss\")\n",
    "plt.xlabel(\"Epochs\")\n",
    "plt.show()"
   ]
  },
  {
   "cell_type": "markdown",
   "metadata": {
    "id": "3_rxKFH96Jeb"
   },
   "source": [
    "### Cerca hiperparàmetres"
   ]
  },
  {
   "cell_type": "markdown",
   "metadata": {
    "id": "CqVgHOUoF3hN"
   },
   "source": [
    "Un cop tenim el model base ens interessa cercar la configuració d'hiperparàmetres que ens proporcioni una millor predicció del preu de revenda dels cotxes. En aquest apartat farem una cerca d'hiperparàmetres, recorrent diversos valors de nombre de capes, nombre de neurones, mida del batch i èpoques."
   ]
  },
  {
   "cell_type": "markdown",
   "metadata": {
    "id": "DtiaTO_LyC6p"
   },
   "source": [
    "<div style=\"background-color: #EDF7FF; border-color: #7C9DBF; border-left: 5px solid #7C9DBF; padding: 0.5em;\">\n",
    "<strong>Exercici (1.75 punts):</strong> Implementa una funció que avaluï diferents models combinant les següents característiques:\n",
    "<ul>\n",
    "   <li>Tres arquitectures diferents amb les següents configuracions de nombre de capes ocultes (completament connectades) i nombre de neurones a cada capa:</li>\n",
    "        <ul>\n",
    "        <li>[128, 64, 16]</li>\n",
    "        <li>[16, 4]</li>\n",
    "        <li>[4, 4]</li>\n",
    "        </ul>\n",
    "   <li>Mida del batch de 16 i 32</li>\n",
    "   <li>Èpoques de 20, 50 i 100</li>\n",
    "</ul>\n",
    "    \n",
    "    \n",
    "Com en l'exercici anterior, la primera capa oculta tindrà sempre activació ReLU i les altres activació tangencial. L'inicialitzador de kernel estarà en mode 'normal' i farem servir l'optimitzador Adam.\n",
    "\n",
    "    \n",
    "La funció haurà de proporcionar una taula amb els camps següents: arquitectura de la xarxa seleccionada, èpoques, mida del batch, temps d'entrenament i arrel de l'error quadràtic mitjà (RMSE) del model\n",
    "\n",
    "-------------------------------------------------- -------------------------------------------------- -------\n",
    "<b>Important</b>: per al lliurament de la PAC, fixar el paràmetre <code>verbose = 0</code> a l'entrenament dels models. La solució només ha de mostrar la taula resultant.\n",
    "</div>"
   ]
  },
  {
   "cell_type": "code",
   "execution_count": 85,
   "metadata": {},
   "outputs": [
    {
     "name": "stderr",
     "output_type": "stream",
     "text": [
      "<ipython-input-85-d4c908f44f3e>:15: DeprecationWarning: KerasRegressor is deprecated, use Sci-Keras (https://github.com/adriangb/scikeras) instead. See https://www.adriangb.com/scikeras/stable/migration.html for help migrating.\n",
      "  model = KerasRegressor(build_fn=create_model, verbose=1)\n",
      "<ipython-input-85-d4c908f44f3e>:23: DeprecationWarning: KerasRegressor is deprecated, use Sci-Keras (https://github.com/adriangb/scikeras) instead. See https://www.adriangb.com/scikeras/stable/migration.html for help migrating.\n",
      "  model = KerasRegressor(build_fn=create_model, verbose=1)\n"
     ]
    }
   ],
   "source": [
    "# Import KerasRegressor class\n",
    "from sklearn.model_selection import GridSearchCV\n",
    "from keras.wrappers.scikit_learn import KerasRegressor\n",
    "\n",
    "# Define the model trhough a user-defined function\n",
    "def create_model(hiddenAndNeurons):\n",
    "    model = keras.models.Sequential()\n",
    "    model.add(keras.layers.Dense(hiddenAndNeurons[0], activation=\"relu\", input_shape=X_train.shape[1:], kernel_initializer='normal'))          \n",
    "    for i in range(1, len(hiddenAndNeurons)):\n",
    "        model.add(keras.layers.Dense(hiddenAndNeurons[i], activation=\"tanh\"))  \n",
    "    model.add(keras.layers.Dense(1))\n",
    "    model.compile(loss='mse', metrics=['mse'], optimizer=\"adam\") # compile the model\n",
    "    return model\n",
    "\n",
    "model = KerasRegressor(build_fn=create_model, verbose=1)\n",
    "\n",
    "# Define the hyperparameters grid to be validated\n",
    "param_grid = {\n",
    "    \"hiddenAndNeurons\": [[128, 64, 16], [16, 4], [4, 4]],\n",
    "    \"batch_size\": [16, 32],\n",
    "    \"epochs\": [20, 50, 100],\n",
    "}\n",
    "model = KerasRegressor(build_fn=create_model, verbose=1)\n",
    "grid = GridSearchCV(estimator=model, param_grid=param_grid, cv=5, n_jobs=-1)\n",
    "\n",
    "# Run the GridSearchCV process\n",
    "grid_result = grid.fit(X_train, y_train, verbose = 0)"
   ]
  },
  {
   "cell_type": "code",
   "execution_count": 86,
   "metadata": {},
   "outputs": [
    {
     "data": {
      "text/html": [
       "<div>\n",
       "<style scoped>\n",
       "    .dataframe tbody tr th:only-of-type {\n",
       "        vertical-align: middle;\n",
       "    }\n",
       "\n",
       "    .dataframe tbody tr th {\n",
       "        vertical-align: top;\n",
       "    }\n",
       "\n",
       "    .dataframe thead th {\n",
       "        text-align: right;\n",
       "    }\n",
       "</style>\n",
       "<table border=\"1\" class=\"dataframe\">\n",
       "  <thead>\n",
       "    <tr style=\"text-align: right;\">\n",
       "      <th></th>\n",
       "      <th>batch_size</th>\n",
       "      <th>epochs</th>\n",
       "      <th>hiddenAndNeurons</th>\n",
       "      <th>Time</th>\n",
       "      <th>RMSE</th>\n",
       "    </tr>\n",
       "  </thead>\n",
       "  <tbody>\n",
       "    <tr>\n",
       "      <th>0</th>\n",
       "      <td>16</td>\n",
       "      <td>20</td>\n",
       "      <td>[128, 64, 16]</td>\n",
       "      <td>2.354532</td>\n",
       "      <td>-0.129255</td>\n",
       "    </tr>\n",
       "    <tr>\n",
       "      <th>1</th>\n",
       "      <td>16</td>\n",
       "      <td>20</td>\n",
       "      <td>[16, 4]</td>\n",
       "      <td>1.888226</td>\n",
       "      <td>-0.143969</td>\n",
       "    </tr>\n",
       "    <tr>\n",
       "      <th>2</th>\n",
       "      <td>16</td>\n",
       "      <td>20</td>\n",
       "      <td>[4, 4]</td>\n",
       "      <td>1.529049</td>\n",
       "      <td>-0.166509</td>\n",
       "    </tr>\n",
       "    <tr>\n",
       "      <th>3</th>\n",
       "      <td>16</td>\n",
       "      <td>50</td>\n",
       "      <td>[128, 64, 16]</td>\n",
       "      <td>3.754753</td>\n",
       "      <td>-0.129021</td>\n",
       "    </tr>\n",
       "    <tr>\n",
       "      <th>4</th>\n",
       "      <td>16</td>\n",
       "      <td>50</td>\n",
       "      <td>[16, 4]</td>\n",
       "      <td>3.765856</td>\n",
       "      <td>-0.125306</td>\n",
       "    </tr>\n",
       "    <tr>\n",
       "      <th>5</th>\n",
       "      <td>16</td>\n",
       "      <td>50</td>\n",
       "      <td>[4, 4]</td>\n",
       "      <td>3.938292</td>\n",
       "      <td>-0.125478</td>\n",
       "    </tr>\n",
       "    <tr>\n",
       "      <th>6</th>\n",
       "      <td>16</td>\n",
       "      <td>100</td>\n",
       "      <td>[128, 64, 16]</td>\n",
       "      <td>8.125942</td>\n",
       "      <td>-0.132403</td>\n",
       "    </tr>\n",
       "    <tr>\n",
       "      <th>7</th>\n",
       "      <td>16</td>\n",
       "      <td>100</td>\n",
       "      <td>[16, 4]</td>\n",
       "      <td>7.602928</td>\n",
       "      <td>-0.126003</td>\n",
       "    </tr>\n",
       "    <tr>\n",
       "      <th>8</th>\n",
       "      <td>16</td>\n",
       "      <td>100</td>\n",
       "      <td>[4, 4]</td>\n",
       "      <td>6.436159</td>\n",
       "      <td>-0.129863</td>\n",
       "    </tr>\n",
       "    <tr>\n",
       "      <th>9</th>\n",
       "      <td>32</td>\n",
       "      <td>20</td>\n",
       "      <td>[128, 64, 16]</td>\n",
       "      <td>1.895332</td>\n",
       "      <td>-0.128680</td>\n",
       "    </tr>\n",
       "    <tr>\n",
       "      <th>10</th>\n",
       "      <td>32</td>\n",
       "      <td>20</td>\n",
       "      <td>[16, 4]</td>\n",
       "      <td>1.419356</td>\n",
       "      <td>-0.163039</td>\n",
       "    </tr>\n",
       "    <tr>\n",
       "      <th>11</th>\n",
       "      <td>32</td>\n",
       "      <td>20</td>\n",
       "      <td>[4, 4]</td>\n",
       "      <td>1.380312</td>\n",
       "      <td>-0.178597</td>\n",
       "    </tr>\n",
       "    <tr>\n",
       "      <th>12</th>\n",
       "      <td>32</td>\n",
       "      <td>50</td>\n",
       "      <td>[128, 64, 16]</td>\n",
       "      <td>2.245107</td>\n",
       "      <td>-0.129609</td>\n",
       "    </tr>\n",
       "    <tr>\n",
       "      <th>13</th>\n",
       "      <td>32</td>\n",
       "      <td>50</td>\n",
       "      <td>[16, 4]</td>\n",
       "      <td>2.327125</td>\n",
       "      <td>-0.127644</td>\n",
       "    </tr>\n",
       "    <tr>\n",
       "      <th>14</th>\n",
       "      <td>32</td>\n",
       "      <td>50</td>\n",
       "      <td>[4, 4]</td>\n",
       "      <td>2.137263</td>\n",
       "      <td>-0.137843</td>\n",
       "    </tr>\n",
       "    <tr>\n",
       "      <th>15</th>\n",
       "      <td>32</td>\n",
       "      <td>100</td>\n",
       "      <td>[128, 64, 16]</td>\n",
       "      <td>3.945740</td>\n",
       "      <td>-0.140189</td>\n",
       "    </tr>\n",
       "    <tr>\n",
       "      <th>16</th>\n",
       "      <td>32</td>\n",
       "      <td>100</td>\n",
       "      <td>[16, 4]</td>\n",
       "      <td>4.081576</td>\n",
       "      <td>-0.126801</td>\n",
       "    </tr>\n",
       "    <tr>\n",
       "      <th>17</th>\n",
       "      <td>32</td>\n",
       "      <td>100</td>\n",
       "      <td>[4, 4]</td>\n",
       "      <td>3.250249</td>\n",
       "      <td>-0.128895</td>\n",
       "    </tr>\n",
       "  </tbody>\n",
       "</table>\n",
       "</div>"
      ],
      "text/plain": [
       "    batch_size  epochs hiddenAndNeurons      Time      RMSE\n",
       "0           16      20    [128, 64, 16]  2.354532 -0.129255\n",
       "1           16      20          [16, 4]  1.888226 -0.143969\n",
       "2           16      20           [4, 4]  1.529049 -0.166509\n",
       "3           16      50    [128, 64, 16]  3.754753 -0.129021\n",
       "4           16      50          [16, 4]  3.765856 -0.125306\n",
       "5           16      50           [4, 4]  3.938292 -0.125478\n",
       "6           16     100    [128, 64, 16]  8.125942 -0.132403\n",
       "7           16     100          [16, 4]  7.602928 -0.126003\n",
       "8           16     100           [4, 4]  6.436159 -0.129863\n",
       "9           32      20    [128, 64, 16]  1.895332 -0.128680\n",
       "10          32      20          [16, 4]  1.419356 -0.163039\n",
       "11          32      20           [4, 4]  1.380312 -0.178597\n",
       "12          32      50    [128, 64, 16]  2.245107 -0.129609\n",
       "13          32      50          [16, 4]  2.327125 -0.127644\n",
       "14          32      50           [4, 4]  2.137263 -0.137843\n",
       "15          32     100    [128, 64, 16]  3.945740 -0.140189\n",
       "16          32     100          [16, 4]  4.081576 -0.126801\n",
       "17          32     100           [4, 4]  3.250249 -0.128895"
      ]
     },
     "execution_count": 86,
     "metadata": {},
     "output_type": "execute_result"
    }
   ],
   "source": [
    "table = pd.concat([pd.DataFrame(grid_result.cv_results_[\"params\"]),\n",
    "                   pd.DataFrame(grid_result.cv_results_[\"mean_fit_time\"], columns=[\"Time\"]),\n",
    "                   pd.DataFrame(grid_result.cv_results_[\"mean_test_score\"], columns=[\"RMSE\"])],axis=1)\n",
    "\n",
    "table"
   ]
  },
  {
   "cell_type": "markdown",
   "metadata": {
    "id": "rqrm7yA24NnA"
   },
   "source": [
    "<div style=\"background-color: #EDF7FF; border-color: #7C9DBF; border-left: 5px solid #7C9DBF; padding: 0.5em;\">\n",
    "<strong>Exercici (0.25 punts):</strong> Representa en un gràfic el RMSE vs la configuració dels models\n",
    "\n",
    "</div>"
   ]
  },
  {
   "cell_type": "code",
   "execution_count": 95,
   "metadata": {
    "id": "o2P1ljcIzmEY"
   },
   "outputs": [
    {
     "data": {
      "text/plain": [
       "[<matplotlib.lines.Line2D at 0x24c63247430>]"
      ]
     },
     "execution_count": 95,
     "metadata": {},
     "output_type": "execute_result"
    },
    {
     "data": {
      "image/png": "[encoded data removed]",
      "text/plain": [
       "<Figure size 432x288 with 1 Axes>"
      ]
     },
     "metadata": {
      "needs_background": "light"
     },
     "output_type": "display_data"
    }
   ],
   "source": [
    "#Plot\n",
    "plt.plot(table['RMSE'])"
   ]
  },
  {
   "cell_type": "markdown",
   "metadata": {
    "id": "t4N_tg0l6QKu"
   },
   "source": [
    "### Elecció millor model i predicció"
   ]
  },
  {
   "cell_type": "markdown",
   "metadata": {
    "id": "AEZsFSi34t-9"
   },
   "source": [
    "<div style=\"background-color: #EDF7FF; border-color: #7C9DBF; border-left: 5px solid #7C9DBF; padding: 0.5em;\">\n",
    "<strong>Exercici (1 punt):</strong> Identifica la configuració que proporciona millors resultats:\n",
    "<ul>\n",
    "<li>Justifica l'elecció del model</li>\n",
    "<li>Compila i entrena el model triat. Nota: per al lliurament, presentar amb verbose=0</li>\n",
    "<li>Mostra la corresponent gràfica de pèrdua dels conjunts d'entrenament i validació</li>\n",
    "<li>Calcula les prediccions del preu i mostra en una taula el Preu original (<code>price</code>) i el Preu predit (<code>predicted_price</code>) per a les 10 primeres files del conjunt de test</li>\n",
    "<li>Comenta els resultats obtinguts</li>\n",
    "</ul> \n",
    "</div>"
   ]
  },
  {
   "cell_type": "code",
   "execution_count": 96,
   "metadata": {
    "id": "yTfD3bP25nlO"
   },
   "outputs": [
    {
     "name": "stdout",
     "output_type": "stream",
     "text": [
      "Best params: {'batch_size': 16, 'epochs': 50, 'hiddenAndNeurons': [16, 4]}\n"
     ]
    }
   ],
   "source": [
    "#Best configuration justification\n",
    "#Print the results of the best model\n",
    "print('Best params: ' + str(grid_result.best_params_))"
   ]
  },
  {
   "cell_type": "code",
   "execution_count": 97,
   "metadata": {
    "id": "HX-ArM1vFNhX"
   },
   "outputs": [],
   "source": [
    "#Create, compile and fit ANN best model\n",
    "model = keras.models.Sequential([\n",
    "    keras.layers.Dense(16, activation=\"relu\", input_shape=X_train.shape[1:], kernel_initializer='normal'),\n",
    "    keras.layers.Dense(4, activation=\"tanh\", kernel_initializer='normal'),\n",
    "    keras.layers.Dense(1)\n",
    "])\n",
    "\n",
    "model.compile(loss=\"mean_squared_error\", optimizer=\"adam\")\n",
    "\n",
    "history = model.fit(X_train, y_train, epochs=50, batch_size=16, \n",
    "                    validation_data=(X_test, y_test), verbose=0)"
   ]
  },
  {
   "cell_type": "code",
   "execution_count": 98,
   "metadata": {
    "id": "NuBBa_vgk7Ci"
   },
   "outputs": [
    {
     "data": {
      "image/png": "[encoded data removed]",
      "text/plain": [
       "<Figure size 576x360 with 1 Axes>"
      ]
     },
     "metadata": {
      "needs_background": "light"
     },
     "output_type": "display_data"
    }
   ],
   "source": [
    "#Plot\n",
    "pd.DataFrame(history.history).plot(figsize=(8, 5))\n",
    "plt.grid(True)\n",
    "plt.gca().set_ylim(0, 0.4) # set the vertical range to [0-1]\n",
    "plt.show()"
   ]
  },
  {
   "cell_type": "code",
   "execution_count": 100,
   "metadata": {
    "id": "ID7eKLDdF0P4"
   },
   "outputs": [
    {
     "name": "stdout",
     "output_type": "stream",
     "text": [
      "   Correct price  Predicted price\n",
      "0      -0.270520        -0.324610\n",
      "1      -0.780766        -0.573624\n",
      "2      -0.218116         0.446988\n",
      "3       0.460373         0.483207\n",
      "4      -0.504957        -0.727454\n",
      "5       1.991111         1.708602\n",
      "6      -0.353263        -0.217628\n",
      "7       1.977321         2.489145\n",
      "8      -0.863509        -0.736378\n",
      "9      -0.285689        -0.060192\n"
     ]
    },
    {
     "data": {
      "image/png": "[encoded data removed]",
      "text/plain": [
       "<Figure size 576x360 with 1 Axes>"
      ]
     },
     "metadata": {
      "needs_background": "light"
     },
     "output_type": "display_data"
    }
   ],
   "source": [
    "#Generate Predictions on testing data\n",
    "new_data = X_test[:10]\n",
    "correct_price = y_test[:10]\n",
    "predicted_price = model.predict(new_data)\n",
    "\n",
    "table = pd.concat([pd.DataFrame(correct_price, columns=[\"Correct price\"]),\n",
    "                   pd.DataFrame(predicted_price, columns=[\"Predicted price\"])],  axis=1)\n",
    "\n",
    "print(table)\n",
    "table.plot(figsize=(8, 5))\n",
    "plt.grid(True)\n",
    "plt.show()"
   ]
  },
  {
   "cell_type": "markdown",
   "metadata": {
    "id": "7gqSXyS8511-"
   },
   "source": [
    "* **Comment results**\n",
    "\n",
    "<font color='blue'> Del gràfic veiem que aconseguim un resultat més que decent, amb prediccions de preus molt properes a la realitat. D'aquests preus podem destacar que el 2 és l'únic que no segueix el patró establert, per tant probablement es tracta d'un outlier."
   ]
  },
  {
   "cell_type": "code",
   "execution_count": null,
   "metadata": {},
   "outputs": [],
   "source": []
  }
 ],
 "metadata": {
  "colab": {
   "collapsed_sections": [],
   "name": "20212_M2_975_PAC1_Enunciat.ipynb",
   "provenance": []
  },
  "kernelspec": {
   "display_name": "Python 3",
   "language": "python",
   "name": "python3"
  },
  "language_info": {
   "codemirror_mode": {
    "name": "ipython",
    "version": 3
   },
   "file_extension": ".py",
   "mimetype": "text/x-python",
   "name": "python",
   "nbconvert_exporter": "python",
   "pygments_lexer": "ipython3",
   "version": "3.8.5"
  }
 },
 "nbformat": 4,
 "nbformat_minor": 1
}
