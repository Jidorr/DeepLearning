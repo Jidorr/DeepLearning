{
 "cells": [
  {
   "cell_type": "markdown",
   "id": "34db96a8",
   "metadata": {
    "papermill": {
     "duration": 0.011198,
     "end_time": "2022-06-08T17:48:50.210393",
     "exception": false,
     "start_time": "2022-06-08T17:48:50.199195",
     "status": "completed"
    },
    "tags": []
   },
   "source": [
    "# **Deep learning - Pràctica**\n",
    "## Creació d'un model per al diagnòstic de glaucoma\n",
    "### Jordi Salleras Alabau"
   ]
  },
  {
   "cell_type": "code",
   "execution_count": 1,
   "id": "d4194ae8",
   "metadata": {
    "_cell_guid": "b1076dfc-b9ad-4769-8c92-a6c4dae69d19",
    "_uuid": "8f2839f25d086af736a60e9eeb907d3b93b6e0e5",
    "execution": {
     "iopub.execute_input": "2022-06-08T17:48:50.231792Z",
     "iopub.status.busy": "2022-06-08T17:48:50.231130Z",
     "iopub.status.idle": "2022-06-08T17:48:56.438507Z",
     "shell.execute_reply": "2022-06-08T17:48:56.437689Z"
    },
    "papermill": {
     "duration": 6.220423,
     "end_time": "2022-06-08T17:48:56.440686",
     "exception": false,
     "start_time": "2022-06-08T17:48:50.220263",
     "status": "completed"
    },
    "tags": []
   },
   "outputs": [],
   "source": [
    "import numpy as np\n",
    "import tensorflow as tf\n",
    "import pandas as pd\n",
    "import matplotlib.pyplot as plt\n",
    "import os\n",
    "from sklearn.preprocessing import LabelEncoder, OneHotEncoder\n",
    "import cv2\n",
    "from tensorflow.keras.applications import EfficientNetB0\n",
    "import numpy as np\n",
    "from tensorflow import keras\n",
    "from keras.datasets import cifar10\n",
    "from tensorflow.keras.utils import to_categorical\n",
    "from keras.models import Sequential\n",
    "from tensorflow.keras import layers\n",
    "from keras.layers import Dense, Conv2D, Flatten, Activation, Dropout, MaxPooling2D, BatchNormalization\n",
    "from tensorflow.keras.optimizers import Adam, SGD, Adadelta, Adagrad\n",
    "import matplotlib.pyplot as plt\n",
    "import time\n",
    "from sklearn.metrics import confusion_matrix, classification_report\n",
    "import seaborn as sns\n",
    "import keras_tuner as kt\n",
    "import keras.backend as K\n",
    "from sklearn.metrics import f1_score"
   ]
  },
  {
   "cell_type": "markdown",
   "id": "cb5b7061",
   "metadata": {
    "papermill": {
     "duration": 0.009514,
     "end_time": "2022-06-08T17:48:56.460394",
     "exception": false,
     "start_time": "2022-06-08T17:48:56.450880",
     "status": "completed"
    },
    "tags": []
   },
   "source": [
    "### **Secció 1. Anàlisi Exploratòria de les dades**"
   ]
  },
  {
   "cell_type": "code",
   "execution_count": 2,
   "id": "16093118",
   "metadata": {
    "execution": {
     "iopub.execute_input": "2022-06-08T17:48:56.481542Z",
     "iopub.status.busy": "2022-06-08T17:48:56.481041Z",
     "iopub.status.idle": "2022-06-08T17:48:56.496392Z",
     "shell.execute_reply": "2022-06-08T17:48:56.495705Z"
    },
    "papermill": {
     "duration": 0.028848,
     "end_time": "2022-06-08T17:48:56.499394",
     "exception": false,
     "start_time": "2022-06-08T17:48:56.470546",
     "status": "completed"
    },
    "tags": []
   },
   "outputs": [
    {
     "name": "stdout",
     "output_type": "stream",
     "text": [
      "['normal', 'abnormal']\n",
      "Types of classes labels found: 2\n"
     ]
    }
   ],
   "source": [
    "# Fold 0\n",
    "train_dataset_path = os.listdir('../input/glaucoma/archive/practica_DL_UOC_2022/Fold0/train')\n",
    "test_dataset_path = os.listdir('../input/glaucoma/archive/practica_DL_UOC_2022/Fold0/test')\n",
    "valid_dataset_path = os.listdir('../input/glaucoma/archive/practica_DL_UOC_2022/Fold0/valid')\n",
    "print(train_dataset_path)\n",
    "print('Types of classes labels found: ' + str(len(train_dataset_path)))"
   ]
  },
  {
   "cell_type": "code",
   "execution_count": 3,
   "id": "9a0cb7ac",
   "metadata": {
    "execution": {
     "iopub.execute_input": "2022-06-08T17:48:56.522402Z",
     "iopub.status.busy": "2022-06-08T17:48:56.521754Z",
     "iopub.status.idle": "2022-06-08T17:48:56.686794Z",
     "shell.execute_reply": "2022-06-08T17:48:56.686098Z"
    },
    "papermill": {
     "duration": 0.178478,
     "end_time": "2022-06-08T17:48:56.688497",
     "exception": false,
     "start_time": "2022-06-08T17:48:56.510019",
     "status": "completed"
    },
    "tags": []
   },
   "outputs": [],
   "source": [
    "# Creació d'un dataframe que utilitzarem per veure com estan distribuides les dades\n",
    "\n",
    "train_path = '../input/glaucoma/archive/practica_DL_UOC_2022/Fold0/train'\n",
    "test_path = '../input/glaucoma/archive/practica_DL_UOC_2022/Fold0/test'\n",
    "valid_path = '../input/glaucoma/archive/practica_DL_UOC_2022/Fold0/valid'\n",
    "class_labels = []\n",
    "for item in train_dataset_path:\n",
    "    all_classes = os.listdir(train_path + '/' + item)    \n",
    "    for image in all_classes:\n",
    "        class_labels.append((item, str(train_path + '/' + item) + '/' + image))\n",
    "\n",
    "df_train = pd.DataFrame(data=class_labels, columns = ['Label', 'Image'])\n",
    "df_train['Split'] = 'Train'\n",
    "\n",
    "class_labels = []\n",
    "for item in test_dataset_path:\n",
    "    all_classes = os.listdir(test_path + '/' + item)    \n",
    "    for image in all_classes:\n",
    "        class_labels.append((item, str(test_path + '/' + item) + '/' + image))\n",
    "df_test = pd.DataFrame(data=class_labels, columns = ['Label', 'Image'])\n",
    "df_test['Split'] = 'Test'\n",
    "\n",
    "class_labels = []\n",
    "for item in valid_dataset_path:\n",
    "    all_classes = os.listdir(valid_path + '/' + item)    \n",
    "    for image in all_classes:\n",
    "        class_labels.append((item, str(valid_path + '/' + item) + '/' + image))\n",
    "df_val = pd.DataFrame(data=class_labels, columns = ['Label', 'Image'])\n",
    "df_val['Split'] = 'Val'"
   ]
  },
  {
   "cell_type": "code",
   "execution_count": 4,
   "id": "64b2971c",
   "metadata": {
    "execution": {
     "iopub.execute_input": "2022-06-08T17:48:56.710558Z",
     "iopub.status.busy": "2022-06-08T17:48:56.709970Z",
     "iopub.status.idle": "2022-06-08T17:48:56.727142Z",
     "shell.execute_reply": "2022-06-08T17:48:56.726338Z"
    },
    "papermill": {
     "duration": 0.029963,
     "end_time": "2022-06-08T17:48:56.729140",
     "exception": false,
     "start_time": "2022-06-08T17:48:56.699177",
     "status": "completed"
    },
    "tags": []
   },
   "outputs": [
    {
     "data": {
      "text/html": [
       "<div>\n",
       "<style scoped>\n",
       "    .dataframe tbody tr th:only-of-type {\n",
       "        vertical-align: middle;\n",
       "    }\n",
       "\n",
       "    .dataframe tbody tr th {\n",
       "        vertical-align: top;\n",
       "    }\n",
       "\n",
       "    .dataframe thead th {\n",
       "        text-align: right;\n",
       "    }\n",
       "</style>\n",
       "<table border=\"1\" class=\"dataframe\">\n",
       "  <thead>\n",
       "    <tr style=\"text-align: right;\">\n",
       "      <th></th>\n",
       "      <th>Label</th>\n",
       "      <th>Image</th>\n",
       "      <th>Split</th>\n",
       "    </tr>\n",
       "  </thead>\n",
       "  <tbody>\n",
       "    <tr>\n",
       "      <th>0</th>\n",
       "      <td>normal</td>\n",
       "      <td>../input/glaucoma/archive/practica_DL_UOC_2022...</td>\n",
       "      <td>Train</td>\n",
       "    </tr>\n",
       "    <tr>\n",
       "      <th>1</th>\n",
       "      <td>normal</td>\n",
       "      <td>../input/glaucoma/archive/practica_DL_UOC_2022...</td>\n",
       "      <td>Train</td>\n",
       "    </tr>\n",
       "    <tr>\n",
       "      <th>2</th>\n",
       "      <td>normal</td>\n",
       "      <td>../input/glaucoma/archive/practica_DL_UOC_2022...</td>\n",
       "      <td>Train</td>\n",
       "    </tr>\n",
       "    <tr>\n",
       "      <th>3</th>\n",
       "      <td>normal</td>\n",
       "      <td>../input/glaucoma/archive/practica_DL_UOC_2022...</td>\n",
       "      <td>Train</td>\n",
       "    </tr>\n",
       "    <tr>\n",
       "      <th>4</th>\n",
       "      <td>normal</td>\n",
       "      <td>../input/glaucoma/archive/practica_DL_UOC_2022...</td>\n",
       "      <td>Train</td>\n",
       "    </tr>\n",
       "    <tr>\n",
       "      <th>...</th>\n",
       "      <td>...</td>\n",
       "      <td>...</td>\n",
       "      <td>...</td>\n",
       "    </tr>\n",
       "    <tr>\n",
       "      <th>149</th>\n",
       "      <td>abnormal</td>\n",
       "      <td>../input/glaucoma/archive/practica_DL_UOC_2022...</td>\n",
       "      <td>Val</td>\n",
       "    </tr>\n",
       "    <tr>\n",
       "      <th>150</th>\n",
       "      <td>abnormal</td>\n",
       "      <td>../input/glaucoma/archive/practica_DL_UOC_2022...</td>\n",
       "      <td>Val</td>\n",
       "    </tr>\n",
       "    <tr>\n",
       "      <th>151</th>\n",
       "      <td>abnormal</td>\n",
       "      <td>../input/glaucoma/archive/practica_DL_UOC_2022...</td>\n",
       "      <td>Val</td>\n",
       "    </tr>\n",
       "    <tr>\n",
       "      <th>152</th>\n",
       "      <td>abnormal</td>\n",
       "      <td>../input/glaucoma/archive/practica_DL_UOC_2022...</td>\n",
       "      <td>Val</td>\n",
       "    </tr>\n",
       "    <tr>\n",
       "      <th>153</th>\n",
       "      <td>abnormal</td>\n",
       "      <td>../input/glaucoma/archive/practica_DL_UOC_2022...</td>\n",
       "      <td>Val</td>\n",
       "    </tr>\n",
       "  </tbody>\n",
       "</table>\n",
       "<p>1707 rows × 3 columns</p>\n",
       "</div>"
      ],
      "text/plain": [
       "        Label                                              Image  Split\n",
       "0      normal  ../input/glaucoma/archive/practica_DL_UOC_2022...  Train\n",
       "1      normal  ../input/glaucoma/archive/practica_DL_UOC_2022...  Train\n",
       "2      normal  ../input/glaucoma/archive/practica_DL_UOC_2022...  Train\n",
       "3      normal  ../input/glaucoma/archive/practica_DL_UOC_2022...  Train\n",
       "4      normal  ../input/glaucoma/archive/practica_DL_UOC_2022...  Train\n",
       "..        ...                                                ...    ...\n",
       "149  abnormal  ../input/glaucoma/archive/practica_DL_UOC_2022...    Val\n",
       "150  abnormal  ../input/glaucoma/archive/practica_DL_UOC_2022...    Val\n",
       "151  abnormal  ../input/glaucoma/archive/practica_DL_UOC_2022...    Val\n",
       "152  abnormal  ../input/glaucoma/archive/practica_DL_UOC_2022...    Val\n",
       "153  abnormal  ../input/glaucoma/archive/practica_DL_UOC_2022...    Val\n",
       "\n",
       "[1707 rows x 3 columns]"
      ]
     },
     "execution_count": 4,
     "metadata": {},
     "output_type": "execute_result"
    }
   ],
   "source": [
    "df = pd.concat([df_train, df_test, df_val])\n",
    "df"
   ]
  },
  {
   "cell_type": "code",
   "execution_count": 5,
   "id": "be222c3b",
   "metadata": {
    "execution": {
     "iopub.execute_input": "2022-06-08T17:48:56.750833Z",
     "iopub.status.busy": "2022-06-08T17:48:56.750585Z",
     "iopub.status.idle": "2022-06-08T17:48:56.763688Z",
     "shell.execute_reply": "2022-06-08T17:48:56.763033Z"
    },
    "papermill": {
     "duration": 0.025981,
     "end_time": "2022-06-08T17:48:56.765258",
     "exception": false,
     "start_time": "2022-06-08T17:48:56.739277",
     "status": "completed"
    },
    "tags": []
   },
   "outputs": [],
   "source": [
    "# Exportem el resultat per tal de poder-lo visualitzar\n",
    "\n",
    "df.to_csv('glaucoma.csv', index=None)"
   ]
  },
  {
   "cell_type": "code",
   "execution_count": 6,
   "id": "78aa0563",
   "metadata": {
    "execution": {
     "iopub.execute_input": "2022-06-08T17:48:56.787018Z",
     "iopub.status.busy": "2022-06-08T17:48:56.786410Z",
     "iopub.status.idle": "2022-06-08T17:48:56.796449Z",
     "shell.execute_reply": "2022-06-08T17:48:56.795603Z"
    },
    "papermill": {
     "duration": 0.02338,
     "end_time": "2022-06-08T17:48:56.798506",
     "exception": false,
     "start_time": "2022-06-08T17:48:56.775126",
     "status": "completed"
    },
    "tags": []
   },
   "outputs": [
    {
     "name": "stdout",
     "output_type": "stream",
     "text": [
      "Total number of images in the train dataset:  1707\n",
      "normal      919\n",
      "abnormal    788\n",
      "Name: Label, dtype: int64\n"
     ]
    }
   ],
   "source": [
    "print('Total number of images in the train dataset: ', len(df))\n",
    "\n",
    "label_count = df['Label'].value_counts()\n",
    "print(label_count)"
   ]
  },
  {
   "cell_type": "code",
   "execution_count": 7,
   "id": "39089f65",
   "metadata": {
    "execution": {
     "iopub.execute_input": "2022-06-08T17:48:56.820557Z",
     "iopub.status.busy": "2022-06-08T17:48:56.819963Z",
     "iopub.status.idle": "2022-06-08T17:48:56.826975Z",
     "shell.execute_reply": "2022-06-08T17:48:56.826267Z"
    },
    "papermill": {
     "duration": 0.019665,
     "end_time": "2022-06-08T17:48:56.828520",
     "exception": false,
     "start_time": "2022-06-08T17:48:56.808855",
     "status": "completed"
    },
    "tags": []
   },
   "outputs": [],
   "source": [
    "# Funció per realitzar el processament de les imatges d'una carpeta\n",
    "\n",
    "def process_images_folder(folder_path):\n",
    "    folder_path_dir = os.listdir(folder_path)\n",
    "    img_size = 224\n",
    "\n",
    "    images = []\n",
    "    labels = []\n",
    "\n",
    "    for i in folder_path_dir:\n",
    "        data_path = folder_path + '/' + str(i)\n",
    "        filenames = [i for i in os.listdir(data_path)]\n",
    "\n",
    "        for f in filenames:\n",
    "            img = cv2.imread(data_path + '/' + f)\n",
    "            img = cv2.resize(img, (img_size, img_size))\n",
    "            images.append(img)\n",
    "            labels.append(i)\n",
    "    \n",
    "    images = np.array(images)\n",
    "    # images = images.astype('float32') / 255.0\n",
    "    y = labels \n",
    "    ''' \n",
    "    y_labelEncoder = LabelEncoder()\n",
    "    y = y_labelEncoder.fit_transform(y)\n",
    "    #y = y.reshape(-1,1)\n",
    "    y = to_categorical(y)\n",
    "       \n",
    "    ct = ColumnTransformer([('my_ohe', OneHotEncoder(), [0])], remainder='passthrough')\n",
    "    Y = ct.fit_transform(y)\n",
    "    '''\n",
    "    encoder = LabelEncoder()\n",
    "    encoder.fit(y)\n",
    "    encoded_y = encoder.transform(y)\n",
    "    return images,encoded_y"
   ]
  },
  {
   "cell_type": "code",
   "execution_count": 8,
   "id": "f17ec0f7",
   "metadata": {
    "execution": {
     "iopub.execute_input": "2022-06-08T17:48:56.849641Z",
     "iopub.status.busy": "2022-06-08T17:48:56.849078Z",
     "iopub.status.idle": "2022-06-08T17:49:02.838018Z",
     "shell.execute_reply": "2022-06-08T17:49:02.837189Z"
    },
    "papermill": {
     "duration": 6.002359,
     "end_time": "2022-06-08T17:49:02.840807",
     "exception": false,
     "start_time": "2022-06-08T17:48:56.838448",
     "status": "completed"
    },
    "tags": []
   },
   "outputs": [],
   "source": [
    "X_train, y_train = process_images_folder('../input/glaucoma/archive/practica_DL_UOC_2022/Fold0/train')\n",
    "X_test, y_test = process_images_folder('../input/glaucoma/archive/practica_DL_UOC_2022/Fold0/test')\n",
    "X_val, y_val = process_images_folder('../input/glaucoma/archive/practica_DL_UOC_2022/Fold0/valid')"
   ]
  },
  {
   "cell_type": "code",
   "execution_count": 9,
   "id": "8476917a",
   "metadata": {
    "execution": {
     "iopub.execute_input": "2022-06-08T17:49:02.863132Z",
     "iopub.status.busy": "2022-06-08T17:49:02.862786Z",
     "iopub.status.idle": "2022-06-08T17:49:02.868012Z",
     "shell.execute_reply": "2022-06-08T17:49:02.867159Z"
    },
    "papermill": {
     "duration": 0.018312,
     "end_time": "2022-06-08T17:49:02.869871",
     "exception": false,
     "start_time": "2022-06-08T17:49:02.851559",
     "status": "completed"
    },
    "tags": []
   },
   "outputs": [],
   "source": [
    "def plot_hist(hist):\n",
    "    plt.plot(hist.history[\"accuracy\"])\n",
    "    plt.plot(hist.history[\"val_accuracy\"])\n",
    "    plt.title(\"model accuracy\")\n",
    "    plt.ylabel(\"accuracy\")\n",
    "    plt.xlabel(\"epoch\")\n",
    "    plt.legend([\"train\", \"validation\"], loc=\"upper left\")\n",
    "    plt.show()"
   ]
  },
  {
   "cell_type": "markdown",
   "id": "e6c97217",
   "metadata": {
    "papermill": {
     "duration": 0.009789,
     "end_time": "2022-06-08T17:49:02.889827",
     "exception": false,
     "start_time": "2022-06-08T17:49:02.880038",
     "status": "completed"
    },
    "tags": []
   },
   "source": [
    "### **Secció 2. Entrenament d’una xarxa neuronal sobre una única partició**"
   ]
  },
  {
   "cell_type": "markdown",
   "id": "0123e3c9",
   "metadata": {
    "papermill": {
     "duration": 0.009815,
     "end_time": "2022-06-08T17:49:02.909672",
     "exception": false,
     "start_time": "2022-06-08T17:49:02.899857",
     "status": "completed"
    },
    "tags": []
   },
   "source": [
    "#### Model 1"
   ]
  },
  {
   "cell_type": "code",
   "execution_count": 10,
   "id": "c1e0b625",
   "metadata": {
    "execution": {
     "iopub.execute_input": "2022-06-08T17:49:02.931416Z",
     "iopub.status.busy": "2022-06-08T17:49:02.931144Z",
     "iopub.status.idle": "2022-06-08T17:49:02.938339Z",
     "shell.execute_reply": "2022-06-08T17:49:02.937580Z"
    },
    "papermill": {
     "duration": 0.020134,
     "end_time": "2022-06-08T17:49:02.940025",
     "exception": false,
     "start_time": "2022-06-08T17:49:02.919891",
     "status": "completed"
    },
    "tags": []
   },
   "outputs": [],
   "source": [
    "# Funció de cerca d'hiperparàmetres\n",
    "\n",
    "def model_builder(hp):\n",
    "    base_model = tf.keras.applications.efficientnet.EfficientNetB0(include_top=False, weights='imagenet')\n",
    "    base_model.trainable = False\n",
    "\n",
    "    inputs = layers.Input(shape = (224,224,3), name='inputLayer')\n",
    "    x = base_model(inputs, training = False)\n",
    "    x = layers.GlobalAveragePooling2D(name='poolingLayer')(x)\n",
    "    x = layers.BatchNormalization(name='batchLayer')(x)\n",
    "    x = layers.Dropout(0.2)(x)\n",
    "    outputs = layers.Dense(1, activation=\"sigmoid\", name='outputLayer')(x)\n",
    "\n",
    "    model = tf.keras.Model(inputs, outputs, name = \"Model1\")\n",
    "\n",
    "    # Tune the learning rate for the optimizer\n",
    "    # Choose an optimal value from 0.01, 0.001, or 0.0001\n",
    "    hp_learning_rate = hp.Choice('learning_rate', values=[1e-2, 1e-3, 1e-4, 1e-5, 1e-6])\n",
    "\n",
    "    model.compile(optimizer=keras.optimizers.Adam(learning_rate=hp_learning_rate),\n",
    "                  loss='binary_crossentropy',\n",
    "                  metrics=['accuracy'])\n",
    "\n",
    "    return model"
   ]
  },
  {
   "cell_type": "code",
   "execution_count": 11,
   "id": "9340030c",
   "metadata": {
    "execution": {
     "iopub.execute_input": "2022-06-08T17:49:02.963862Z",
     "iopub.status.busy": "2022-06-08T17:49:02.963573Z",
     "iopub.status.idle": "2022-06-08T17:49:07.982016Z",
     "shell.execute_reply": "2022-06-08T17:49:07.981253Z"
    },
    "papermill": {
     "duration": 5.034299,
     "end_time": "2022-06-08T17:49:07.984346",
     "exception": false,
     "start_time": "2022-06-08T17:49:02.950047",
     "status": "completed"
    },
    "tags": []
   },
   "outputs": [
    {
     "name": "stderr",
     "output_type": "stream",
     "text": [
      "2022-06-08 17:49:03.066511: I tensorflow/stream_executor/cuda/cuda_gpu_executor.cc:937] successful NUMA node read from SysFS had negative value (-1), but there must be at least one NUMA node, so returning NUMA node zero\n",
      "2022-06-08 17:49:03.172683: I tensorflow/stream_executor/cuda/cuda_gpu_executor.cc:937] successful NUMA node read from SysFS had negative value (-1), but there must be at least one NUMA node, so returning NUMA node zero\n",
      "2022-06-08 17:49:03.173456: I tensorflow/stream_executor/cuda/cuda_gpu_executor.cc:937] successful NUMA node read from SysFS had negative value (-1), but there must be at least one NUMA node, so returning NUMA node zero\n",
      "2022-06-08 17:49:03.174674: I tensorflow/core/platform/cpu_feature_guard.cc:142] This TensorFlow binary is optimized with oneAPI Deep Neural Network Library (oneDNN) to use the following CPU instructions in performance-critical operations:  AVX2 AVX512F FMA\n",
      "To enable them in other operations, rebuild TensorFlow with the appropriate compiler flags.\n",
      "2022-06-08 17:49:03.175003: I tensorflow/stream_executor/cuda/cuda_gpu_executor.cc:937] successful NUMA node read from SysFS had negative value (-1), but there must be at least one NUMA node, so returning NUMA node zero\n",
      "2022-06-08 17:49:03.175977: I tensorflow/stream_executor/cuda/cuda_gpu_executor.cc:937] successful NUMA node read from SysFS had negative value (-1), but there must be at least one NUMA node, so returning NUMA node zero\n",
      "2022-06-08 17:49:03.176860: I tensorflow/stream_executor/cuda/cuda_gpu_executor.cc:937] successful NUMA node read from SysFS had negative value (-1), but there must be at least one NUMA node, so returning NUMA node zero\n",
      "2022-06-08 17:49:05.268999: I tensorflow/stream_executor/cuda/cuda_gpu_executor.cc:937] successful NUMA node read from SysFS had negative value (-1), but there must be at least one NUMA node, so returning NUMA node zero\n",
      "2022-06-08 17:49:05.270040: I tensorflow/stream_executor/cuda/cuda_gpu_executor.cc:937] successful NUMA node read from SysFS had negative value (-1), but there must be at least one NUMA node, so returning NUMA node zero\n",
      "2022-06-08 17:49:05.270827: I tensorflow/stream_executor/cuda/cuda_gpu_executor.cc:937] successful NUMA node read from SysFS had negative value (-1), but there must be at least one NUMA node, so returning NUMA node zero\n",
      "2022-06-08 17:49:05.271506: I tensorflow/core/common_runtime/gpu/gpu_device.cc:1510] Created device /job:localhost/replica:0/task:0/device:GPU:0 with 15403 MB memory:  -> device: 0, name: Tesla P100-PCIE-16GB, pci bus id: 0000:00:04.0, compute capability: 6.0\n"
     ]
    },
    {
     "name": "stdout",
     "output_type": "stream",
     "text": [
      "Downloading data from https://storage.googleapis.com/keras-applications/efficientnetb0_notop.h5\n",
      "16711680/16705208 [==============================] - 0s 0us/step\n",
      "16719872/16705208 [==============================] - 0s 0us/step\n"
     ]
    }
   ],
   "source": [
    "tuner = kt.Hyperband(model_builder,\n",
    "                     objective='val_accuracy',\n",
    "                     max_epochs=150,\n",
    "                     factor=3)\n",
    "\n",
    "callback = tf.keras.callbacks.EarlyStopping(monitor='val_loss', patience=5)"
   ]
  },
  {
   "cell_type": "code",
   "execution_count": 12,
   "id": "f918be91",
   "metadata": {
    "execution": {
     "iopub.execute_input": "2022-06-08T17:49:08.008967Z",
     "iopub.status.busy": "2022-06-08T17:49:08.008694Z",
     "iopub.status.idle": "2022-06-08T17:50:39.908496Z",
     "shell.execute_reply": "2022-06-08T17:50:39.907560Z"
    },
    "papermill": {
     "duration": 91.914201,
     "end_time": "2022-06-08T17:50:39.910906",
     "exception": false,
     "start_time": "2022-06-08T17:49:07.996705",
     "status": "completed"
    },
    "tags": []
   },
   "outputs": [
    {
     "name": "stdout",
     "output_type": "stream",
     "text": [
      "Trial 5 Complete [00h 00m 17s]\n",
      "val_accuracy: 0.6558441519737244\n",
      "\n",
      "Best val_accuracy So Far: 0.701298713684082\n",
      "Total elapsed time: 00h 01m 31s\n"
     ]
    }
   ],
   "source": [
    "tuner.search(X_train, y_train, \n",
    "             epochs=150, \n",
    "             validation_data = (X_val, y_val), \n",
    "             callbacks=[callback])"
   ]
  },
  {
   "cell_type": "code",
   "execution_count": 13,
   "id": "8a2b0e26",
   "metadata": {
    "execution": {
     "iopub.execute_input": "2022-06-08T17:50:39.934475Z",
     "iopub.status.busy": "2022-06-08T17:50:39.934175Z",
     "iopub.status.idle": "2022-06-08T17:50:39.939005Z",
     "shell.execute_reply": "2022-06-08T17:50:39.938267Z"
    },
    "papermill": {
     "duration": 0.018612,
     "end_time": "2022-06-08T17:50:39.941001",
     "exception": false,
     "start_time": "2022-06-08T17:50:39.922389",
     "status": "completed"
    },
    "tags": []
   },
   "outputs": [
    {
     "name": "stdout",
     "output_type": "stream",
     "text": [
      "0.001\n"
     ]
    }
   ],
   "source": [
    "# Get the optimal hyperparameters\n",
    "best_hps=tuner.get_best_hyperparameters(num_trials=1)[0]\n",
    "print(best_hps.get('learning_rate'))"
   ]
  },
  {
   "cell_type": "code",
   "execution_count": 14,
   "id": "9be08d15",
   "metadata": {
    "execution": {
     "iopub.execute_input": "2022-06-08T17:50:39.963904Z",
     "iopub.status.busy": "2022-06-08T17:50:39.963153Z",
     "iopub.status.idle": "2022-06-08T17:50:42.385755Z",
     "shell.execute_reply": "2022-06-08T17:50:42.384968Z"
    },
    "papermill": {
     "duration": 2.436732,
     "end_time": "2022-06-08T17:50:42.388251",
     "exception": false,
     "start_time": "2022-06-08T17:50:39.951519",
     "status": "completed"
    },
    "tags": []
   },
   "outputs": [
    {
     "name": "stdout",
     "output_type": "stream",
     "text": [
      "Model: \"Model1\"\n",
      "_________________________________________________________________\n",
      "Layer (type)                 Output Shape              Param #   \n",
      "=================================================================\n",
      "inputLayer (InputLayer)      [(None, 224, 224, 3)]     0         \n",
      "_________________________________________________________________\n",
      "efficientnetb0 (Functional)  (None, None, None, 1280)  4049571   \n",
      "_________________________________________________________________\n",
      "poolingLayer (GlobalAverageP (None, 1280)              0         \n",
      "_________________________________________________________________\n",
      "batchLayer (BatchNormalizati (None, 1280)              5120      \n",
      "_________________________________________________________________\n",
      "dropout_1 (Dropout)          (None, 1280)              0         \n",
      "_________________________________________________________________\n",
      "outputLayer (Dense)          (None, 1)                 1281      \n",
      "=================================================================\n",
      "Total params: 4,055,972\n",
      "Trainable params: 3,841\n",
      "Non-trainable params: 4,052,131\n",
      "_________________________________________________________________\n"
     ]
    }
   ],
   "source": [
    "# Build the model with the optimal hyperparameters and train it on the data for 50 epochs\n",
    "model1 = tuner.hypermodel.build(best_hps)\n",
    "model1.summary()"
   ]
  },
  {
   "cell_type": "code",
   "execution_count": 15,
   "id": "966a6f1c",
   "metadata": {
    "execution": {
     "iopub.execute_input": "2022-06-08T17:50:42.411954Z",
     "iopub.status.busy": "2022-06-08T17:50:42.411671Z",
     "iopub.status.idle": "2022-06-08T17:52:09.196140Z",
     "shell.execute_reply": "2022-06-08T17:52:09.195382Z"
    },
    "papermill": {
     "duration": 86.847306,
     "end_time": "2022-06-08T17:52:09.247356",
     "exception": false,
     "start_time": "2022-06-08T17:50:42.400050",
     "status": "completed"
    },
    "tags": []
   },
   "outputs": [
    {
     "name": "stdout",
     "output_type": "stream",
     "text": [
      "Epoch 1/100\n",
      "44/44 [==============================] - 7s 71ms/step - loss: 0.6002 - accuracy: 0.7005 - val_loss: 0.6255 - val_accuracy: 0.5974\n",
      "Epoch 2/100\n",
      "44/44 [==============================] - 2s 45ms/step - loss: 0.4646 - accuracy: 0.7774 - val_loss: 0.5850 - val_accuracy: 0.6818\n",
      "Epoch 3/100\n",
      "44/44 [==============================] - 2s 42ms/step - loss: 0.4284 - accuracy: 0.8173 - val_loss: 0.5486 - val_accuracy: 0.7273\n",
      "Epoch 4/100\n",
      "44/44 [==============================] - 2s 42ms/step - loss: 0.3938 - accuracy: 0.8216 - val_loss: 0.5211 - val_accuracy: 0.7662\n",
      "Epoch 5/100\n",
      "44/44 [==============================] - 2s 44ms/step - loss: 0.3765 - accuracy: 0.8339 - val_loss: 0.5015 - val_accuracy: 0.7597\n",
      "Epoch 6/100\n",
      "44/44 [==============================] - 2s 41ms/step - loss: 0.3505 - accuracy: 0.8412 - val_loss: 0.4717 - val_accuracy: 0.8117\n",
      "Epoch 7/100\n",
      "44/44 [==============================] - 2s 41ms/step - loss: 0.3484 - accuracy: 0.8542 - val_loss: 0.4560 - val_accuracy: 0.8052\n",
      "Epoch 8/100\n",
      "44/44 [==============================] - 2s 42ms/step - loss: 0.3225 - accuracy: 0.8557 - val_loss: 0.4460 - val_accuracy: 0.8052\n",
      "Epoch 9/100\n",
      "44/44 [==============================] - 2s 42ms/step - loss: 0.3062 - accuracy: 0.8731 - val_loss: 0.4272 - val_accuracy: 0.8052\n",
      "Epoch 10/100\n",
      "44/44 [==============================] - 2s 42ms/step - loss: 0.3242 - accuracy: 0.8579 - val_loss: 0.4182 - val_accuracy: 0.7987\n",
      "Epoch 11/100\n",
      "44/44 [==============================] - 2s 42ms/step - loss: 0.3029 - accuracy: 0.8695 - val_loss: 0.4069 - val_accuracy: 0.8052\n",
      "Epoch 12/100\n",
      "44/44 [==============================] - 2s 41ms/step - loss: 0.3055 - accuracy: 0.8695 - val_loss: 0.4008 - val_accuracy: 0.8117\n",
      "Epoch 13/100\n",
      "44/44 [==============================] - 2s 41ms/step - loss: 0.2904 - accuracy: 0.8760 - val_loss: 0.4040 - val_accuracy: 0.7987\n",
      "Epoch 14/100\n",
      "44/44 [==============================] - 2s 41ms/step - loss: 0.2993 - accuracy: 0.8680 - val_loss: 0.4116 - val_accuracy: 0.8052\n",
      "Epoch 15/100\n",
      "44/44 [==============================] - 2s 42ms/step - loss: 0.2810 - accuracy: 0.8876 - val_loss: 0.4063 - val_accuracy: 0.8182\n",
      "Epoch 16/100\n",
      "44/44 [==============================] - 2s 42ms/step - loss: 0.2817 - accuracy: 0.8782 - val_loss: 0.4129 - val_accuracy: 0.7987\n",
      "Epoch 17/100\n",
      "44/44 [==============================] - 2s 41ms/step - loss: 0.2696 - accuracy: 0.8898 - val_loss: 0.3937 - val_accuracy: 0.8117\n",
      "Epoch 18/100\n",
      "44/44 [==============================] - 2s 41ms/step - loss: 0.2735 - accuracy: 0.8898 - val_loss: 0.3900 - val_accuracy: 0.8247\n",
      "Epoch 19/100\n",
      "44/44 [==============================] - 2s 41ms/step - loss: 0.2705 - accuracy: 0.8970 - val_loss: 0.3878 - val_accuracy: 0.8182\n",
      "Epoch 20/100\n",
      "44/44 [==============================] - 2s 44ms/step - loss: 0.2686 - accuracy: 0.8891 - val_loss: 0.3910 - val_accuracy: 0.8182\n",
      "Epoch 21/100\n",
      "44/44 [==============================] - 2s 43ms/step - loss: 0.2603 - accuracy: 0.8956 - val_loss: 0.3920 - val_accuracy: 0.8182\n",
      "Epoch 22/100\n",
      "44/44 [==============================] - 2s 42ms/step - loss: 0.2596 - accuracy: 0.8898 - val_loss: 0.3987 - val_accuracy: 0.8182\n",
      "Epoch 23/100\n",
      "44/44 [==============================] - 2s 41ms/step - loss: 0.2495 - accuracy: 0.8999 - val_loss: 0.3841 - val_accuracy: 0.7987\n",
      "Epoch 24/100\n",
      "44/44 [==============================] - 2s 41ms/step - loss: 0.2514 - accuracy: 0.8883 - val_loss: 0.3903 - val_accuracy: 0.7857\n",
      "Epoch 25/100\n",
      "44/44 [==============================] - 2s 41ms/step - loss: 0.2583 - accuracy: 0.8898 - val_loss: 0.3952 - val_accuracy: 0.7987\n",
      "Epoch 26/100\n",
      "44/44 [==============================] - 2s 41ms/step - loss: 0.2592 - accuracy: 0.8985 - val_loss: 0.4088 - val_accuracy: 0.8052\n",
      "Epoch 27/100\n",
      "44/44 [==============================] - 2s 42ms/step - loss: 0.2324 - accuracy: 0.9050 - val_loss: 0.4071 - val_accuracy: 0.8182\n",
      "Epoch 28/100\n",
      "44/44 [==============================] - 2s 42ms/step - loss: 0.2364 - accuracy: 0.9072 - val_loss: 0.4023 - val_accuracy: 0.8052\n"
     ]
    },
    {
     "data": {
      "image/png": "[encoded data removed]",
      "text/plain": [
       "<Figure size 432x288 with 1 Axes>"
      ]
     },
     "metadata": {
      "needs_background": "light"
     },
     "output_type": "display_data"
    }
   ],
   "source": [
    "history = model1.fit(X_train, y_train, epochs=100, validation_data=(X_val, y_val), callbacks=[callback])\n",
    "plot_hist(history)"
   ]
  },
  {
   "cell_type": "code",
   "execution_count": 16,
   "id": "2ab3c07e",
   "metadata": {
    "execution": {
     "iopub.execute_input": "2022-06-08T17:52:09.345298Z",
     "iopub.status.busy": "2022-06-08T17:52:09.345002Z",
     "iopub.status.idle": "2022-06-08T17:52:10.040189Z",
     "shell.execute_reply": "2022-06-08T17:52:10.039413Z"
    },
    "papermill": {
     "duration": 0.746621,
     "end_time": "2022-06-08T17:52:10.042214",
     "exception": false,
     "start_time": "2022-06-08T17:52:09.295593",
     "status": "completed"
    },
    "tags": []
   },
   "outputs": [
    {
     "name": "stdout",
     "output_type": "stream",
     "text": [
      "6/6 [==============================] - 0s 64ms/step - loss: 0.3845 - accuracy: 0.8333\n"
     ]
    }
   ],
   "source": [
    "model_eval = model1.evaluate(X_test, y_test, return_dict=True)"
   ]
  },
  {
   "cell_type": "code",
   "execution_count": 17,
   "id": "146911b1",
   "metadata": {
    "execution": {
     "iopub.execute_input": "2022-06-08T17:52:10.140597Z",
     "iopub.status.busy": "2022-06-08T17:52:10.140294Z",
     "iopub.status.idle": "2022-06-08T17:52:11.858704Z",
     "shell.execute_reply": "2022-06-08T17:52:11.857893Z"
    },
    "papermill": {
     "duration": 1.769762,
     "end_time": "2022-06-08T17:52:11.861512",
     "exception": false,
     "start_time": "2022-06-08T17:52:10.091750",
     "status": "completed"
    },
    "tags": []
   },
   "outputs": [
    {
     "name": "stdout",
     "output_type": "stream",
     "text": [
      "**MODEL 1**\n",
      "Matriu de confusió: \n",
      " [[75 17]\n",
      " [12 70]]\n",
      "********************************************************\n",
      "Informe de la classificació: \n",
      "               precision    recall  f1-score   support\n",
      "\n",
      "           0       0.86      0.82      0.84        92\n",
      "           1       0.80      0.85      0.83        82\n",
      "\n",
      "    accuracy                           0.83       174\n",
      "   macro avg       0.83      0.83      0.83       174\n",
      "weighted avg       0.83      0.83      0.83       174\n",
      "\n",
      "********************************************************\n",
      "F1 Score:  0.8284023668639052\n",
      "********************************************************\n",
      "Resultats sobre test:  {'loss': 0.3845008909702301, 'accuracy': 0.8333333134651184}\n"
     ]
    }
   ],
   "source": [
    "preds = model1.predict(X_test)\n",
    "preds1 = []\n",
    "for pred in preds:\n",
    "    if pred > 0.5:\n",
    "        preds1.append(1)\n",
    "    else:\n",
    "        preds1.append(0)\n",
    "\n",
    "print('**MODEL 1**')\n",
    "cm1 = confusion_matrix(y_test, preds1)\n",
    "print(f'Matriu de confusió: \\n', cm1)\n",
    "print('********'*7)\n",
    "cr1 = classification_report(y_test, preds1)\n",
    "print('Informe de la classificació: \\n', cr1)\n",
    "print('********'*7)\n",
    "print('F1 Score: ',f1_score(y_test, preds1))\n",
    "print('********'*7)\n",
    "print('Resultats sobre test: ', model_eval)"
   ]
  },
  {
   "cell_type": "markdown",
   "id": "e665e552",
   "metadata": {
    "papermill": {
     "duration": 0.048659,
     "end_time": "2022-06-08T17:52:11.960632",
     "exception": false,
     "start_time": "2022-06-08T17:52:11.911973",
     "status": "completed"
    },
    "tags": []
   },
   "source": [
    "#### Model 2"
   ]
  },
  {
   "cell_type": "code",
   "execution_count": 18,
   "id": "0f26ce45",
   "metadata": {
    "execution": {
     "iopub.execute_input": "2022-06-08T17:52:12.059405Z",
     "iopub.status.busy": "2022-06-08T17:52:12.058746Z",
     "iopub.status.idle": "2022-06-08T17:52:14.393240Z",
     "shell.execute_reply": "2022-06-08T17:52:14.391501Z"
    },
    "papermill": {
     "duration": 2.386999,
     "end_time": "2022-06-08T17:52:14.396071",
     "exception": false,
     "start_time": "2022-06-08T17:52:12.009072",
     "status": "completed"
    },
    "tags": []
   },
   "outputs": [
    {
     "name": "stderr",
     "output_type": "stream",
     "text": [
      "/opt/conda/lib/python3.7/site-packages/keras/utils/generic_utils.py:497: CustomMaskWarning: Custom mask layers require a config and must override get_config. When loading, the custom mask layer must be passed to the custom_objects argument.\n",
      "  category=CustomMaskWarning)\n"
     ]
    },
    {
     "name": "stdout",
     "output_type": "stream",
     "text": [
      "Model: \"Model1\"\n",
      "_________________________________________________________________\n",
      "Layer (type)                 Output Shape              Param #   \n",
      "=================================================================\n",
      "inputLayer (InputLayer)      [(None, 224, 224, 3)]     0         \n",
      "_________________________________________________________________\n",
      "efficientnetb0 (Functional)  (None, None, None, 1280)  4049571   \n",
      "_________________________________________________________________\n",
      "poolingLayer (GlobalAverageP (None, 1280)              0         \n",
      "_________________________________________________________________\n",
      "batchLayer (BatchNormalizati (None, 1280)              5120      \n",
      "_________________________________________________________________\n",
      "dropout_1 (Dropout)          (None, 1280)              0         \n",
      "_________________________________________________________________\n",
      "outputLayer (Dense)          (None, 1)                 1281      \n",
      "=================================================================\n",
      "Total params: 4,055,972\n",
      "Trainable params: 4,011,389\n",
      "Non-trainable params: 44,583\n",
      "_________________________________________________________________\n"
     ]
    }
   ],
   "source": [
    "# Funció per fer unfreeze als ultims 20 layers excepte batchnormalization\n",
    "def unfreeze_model(model):\n",
    "    for layer in model.layers[-20:]:\n",
    "        if not isinstance(layer, layers.BatchNormalization):\n",
    "            layer.trainable = True\n",
    "\n",
    "    optimizer = tf.keras.optimizers.Adam(learning_rate=1e-5)\n",
    "    model.compile(\n",
    "        optimizer=optimizer, loss=\"binary_crossentropy\", metrics=[\"accuracy\"]\n",
    "    )\n",
    "    \n",
    "\n",
    "model2 = keras.models.clone_model(model1)\n",
    "model2.set_weights(model1.get_weights()) \n",
    "unfreeze_model(model2)\n",
    "model2.summary()"
   ]
  },
  {
   "cell_type": "code",
   "execution_count": 19,
   "id": "72ded70d",
   "metadata": {
    "execution": {
     "iopub.execute_input": "2022-06-08T17:52:14.495560Z",
     "iopub.status.busy": "2022-06-08T17:52:14.495233Z",
     "iopub.status.idle": "2022-06-08T17:55:43.533143Z",
     "shell.execute_reply": "2022-06-08T17:55:43.532285Z"
    },
    "papermill": {
     "duration": 209.089219,
     "end_time": "2022-06-08T17:55:43.534945",
     "exception": false,
     "start_time": "2022-06-08T17:52:14.445726",
     "status": "completed"
    },
    "tags": []
   },
   "outputs": [
    {
     "name": "stdout",
     "output_type": "stream",
     "text": [
      "Epoch 1/100\n",
      "44/44 [==============================] - 19s 271ms/step - loss: 0.2364 - accuracy: 0.9036 - val_loss: 0.4421 - val_accuracy: 0.7857\n",
      "Epoch 2/100\n",
      "44/44 [==============================] - 10s 232ms/step - loss: 0.2204 - accuracy: 0.9072 - val_loss: 0.3678 - val_accuracy: 0.8182\n",
      "Epoch 3/100\n",
      "44/44 [==============================] - 10s 229ms/step - loss: 0.1987 - accuracy: 0.9217 - val_loss: 0.3600 - val_accuracy: 0.8247\n",
      "Epoch 4/100\n",
      "44/44 [==============================] - 10s 232ms/step - loss: 0.1869 - accuracy: 0.9224 - val_loss: 0.3451 - val_accuracy: 0.8571\n",
      "Epoch 5/100\n",
      "44/44 [==============================] - 10s 229ms/step - loss: 0.1569 - accuracy: 0.9391 - val_loss: 0.3356 - val_accuracy: 0.8571\n",
      "Epoch 6/100\n",
      "44/44 [==============================] - 10s 230ms/step - loss: 0.1471 - accuracy: 0.9565 - val_loss: 0.4337 - val_accuracy: 0.8117\n",
      "Epoch 7/100\n",
      "44/44 [==============================] - 10s 232ms/step - loss: 0.1427 - accuracy: 0.9521 - val_loss: 0.3313 - val_accuracy: 0.8636\n",
      "Epoch 8/100\n",
      "44/44 [==============================] - 10s 232ms/step - loss: 0.1274 - accuracy: 0.9623 - val_loss: 0.3322 - val_accuracy: 0.8636\n",
      "Epoch 9/100\n",
      "44/44 [==============================] - 10s 229ms/step - loss: 0.1148 - accuracy: 0.9645 - val_loss: 0.3449 - val_accuracy: 0.8442\n",
      "Epoch 10/100\n",
      "44/44 [==============================] - 10s 231ms/step - loss: 0.1106 - accuracy: 0.9630 - val_loss: 0.3308 - val_accuracy: 0.8766\n",
      "Epoch 11/100\n",
      "44/44 [==============================] - 10s 231ms/step - loss: 0.1132 - accuracy: 0.9630 - val_loss: 0.4706 - val_accuracy: 0.8052\n",
      "Epoch 12/100\n",
      "44/44 [==============================] - 10s 230ms/step - loss: 0.0899 - accuracy: 0.9724 - val_loss: 0.3189 - val_accuracy: 0.8831\n",
      "Epoch 13/100\n",
      "44/44 [==============================] - 10s 229ms/step - loss: 0.0897 - accuracy: 0.9761 - val_loss: 0.3607 - val_accuracy: 0.8571\n",
      "Epoch 14/100\n",
      "44/44 [==============================] - 10s 231ms/step - loss: 0.0925 - accuracy: 0.9688 - val_loss: 0.4224 - val_accuracy: 0.8247\n",
      "Epoch 15/100\n",
      "44/44 [==============================] - 10s 231ms/step - loss: 0.0708 - accuracy: 0.9804 - val_loss: 0.3408 - val_accuracy: 0.8506\n",
      "Epoch 16/100\n",
      "44/44 [==============================] - 10s 229ms/step - loss: 0.0625 - accuracy: 0.9877 - val_loss: 0.3903 - val_accuracy: 0.8442\n",
      "Epoch 17/100\n",
      "44/44 [==============================] - 10s 232ms/step - loss: 0.0723 - accuracy: 0.9840 - val_loss: 0.3416 - val_accuracy: 0.8701\n"
     ]
    },
    {
     "data": {
      "image/png": "[encoded data removed]",
      "text/plain": [
       "<Figure size 432x288 with 1 Axes>"
      ]
     },
     "metadata": {
      "needs_background": "light"
     },
     "output_type": "display_data"
    }
   ],
   "source": [
    "hist = model2.fit(X_train, y_train, epochs=100, validation_data=(X_val, y_val), callbacks=[callback])\n",
    "plot_hist(hist)"
   ]
  },
  {
   "cell_type": "code",
   "execution_count": 20,
   "id": "59850f26",
   "metadata": {
    "execution": {
     "iopub.execute_input": "2022-06-08T17:55:43.724624Z",
     "iopub.status.busy": "2022-06-08T17:55:43.723910Z",
     "iopub.status.idle": "2022-06-08T17:55:44.009580Z",
     "shell.execute_reply": "2022-06-08T17:55:44.008821Z"
    },
    "papermill": {
     "duration": 0.382145,
     "end_time": "2022-06-08T17:55:44.011398",
     "exception": false,
     "start_time": "2022-06-08T17:55:43.629253",
     "status": "completed"
    },
    "tags": []
   },
   "outputs": [
    {
     "name": "stdout",
     "output_type": "stream",
     "text": [
      "6/6 [==============================] - 0s 35ms/step - loss: 0.3594 - accuracy: 0.8678\n"
     ]
    },
    {
     "data": {
      "text/plain": [
       "{'loss': 0.3593677282333374, 'accuracy': 0.8678160905838013}"
      ]
     },
     "execution_count": 20,
     "metadata": {},
     "output_type": "execute_result"
    }
   ],
   "source": [
    "model_eval = model2.evaluate(X_test, y_test, return_dict=True)\n",
    "model_eval"
   ]
  },
  {
   "cell_type": "code",
   "execution_count": 21,
   "id": "3dd51f76",
   "metadata": {
    "execution": {
     "iopub.execute_input": "2022-06-08T17:55:44.201989Z",
     "iopub.status.busy": "2022-06-08T17:55:44.201289Z",
     "iopub.status.idle": "2022-06-08T17:55:45.614332Z",
     "shell.execute_reply": "2022-06-08T17:55:45.612367Z"
    },
    "papermill": {
     "duration": 1.509813,
     "end_time": "2022-06-08T17:55:45.616178",
     "exception": false,
     "start_time": "2022-06-08T17:55:44.106365",
     "status": "completed"
    },
    "tags": []
   },
   "outputs": [
    {
     "name": "stdout",
     "output_type": "stream",
     "text": [
      "**MODEL 2**\n",
      "Matriu de confusió: \n",
      " [[76 16]\n",
      " [ 7 75]]\n",
      "********************************************************\n",
      "Informe de la classificació: \n",
      "               precision    recall  f1-score   support\n",
      "\n",
      "           0       0.92      0.83      0.87        92\n",
      "           1       0.82      0.91      0.87        82\n",
      "\n",
      "    accuracy                           0.87       174\n",
      "   macro avg       0.87      0.87      0.87       174\n",
      "weighted avg       0.87      0.87      0.87       174\n",
      "\n",
      "********************************************************\n",
      "F1 Score:  0.8670520231213872\n",
      "********************************************************\n",
      "Resultats sobre test:  {'loss': 0.3593677282333374, 'accuracy': 0.8678160905838013}\n"
     ]
    }
   ],
   "source": [
    "preds = model2.predict(X_test)\n",
    "preds1 = []\n",
    "for pred in preds:\n",
    "    if pred > 0.5:\n",
    "        preds1.append(1)\n",
    "    else:\n",
    "        preds1.append(0)\n",
    "\n",
    "print('**MODEL 2**')\n",
    "cm1 = confusion_matrix(y_test, preds1)\n",
    "print(f'Matriu de confusió: \\n', cm1)\n",
    "print('********'*7)\n",
    "cr1 = classification_report(y_test, preds1)\n",
    "print('Informe de la classificació: \\n', cr1)\n",
    "print('********'*7)\n",
    "print('F1 Score: ',f1_score(y_test, preds1))\n",
    "print('********'*7)\n",
    "print('Resultats sobre test: ', model_eval)"
   ]
  },
  {
   "cell_type": "markdown",
   "id": "eb3ec6b0",
   "metadata": {
    "papermill": {
     "duration": 0.093961,
     "end_time": "2022-06-08T17:55:45.805307",
     "exception": false,
     "start_time": "2022-06-08T17:55:45.711346",
     "status": "completed"
    },
    "tags": []
   },
   "source": [
    "#### Model 3"
   ]
  },
  {
   "cell_type": "code",
   "execution_count": 22,
   "id": "dd4659e9",
   "metadata": {
    "execution": {
     "iopub.execute_input": "2022-06-08T17:55:45.996894Z",
     "iopub.status.busy": "2022-06-08T17:55:45.996562Z",
     "iopub.status.idle": "2022-06-08T17:55:48.753200Z",
     "shell.execute_reply": "2022-06-08T17:55:48.752384Z"
    },
    "papermill": {
     "duration": 2.853663,
     "end_time": "2022-06-08T17:55:48.755535",
     "exception": false,
     "start_time": "2022-06-08T17:55:45.901872",
     "status": "completed"
    },
    "tags": []
   },
   "outputs": [
    {
     "name": "stderr",
     "output_type": "stream",
     "text": [
      "/opt/conda/lib/python3.7/site-packages/keras/utils/generic_utils.py:497: CustomMaskWarning: Custom mask layers require a config and must override get_config. When loading, the custom mask layer must be passed to the custom_objects argument.\n",
      "  category=CustomMaskWarning)\n"
     ]
    }
   ],
   "source": [
    "model3 = keras.models.clone_model(model2)\n",
    "model3.set_weights(model2.get_weights())"
   ]
  },
  {
   "cell_type": "code",
   "execution_count": 23,
   "id": "445bce62",
   "metadata": {
    "execution": {
     "iopub.execute_input": "2022-06-08T17:55:48.949809Z",
     "iopub.status.busy": "2022-06-08T17:55:48.949491Z",
     "iopub.status.idle": "2022-06-08T17:55:48.974227Z",
     "shell.execute_reply": "2022-06-08T17:55:48.973499Z"
    },
    "papermill": {
     "duration": 0.123073,
     "end_time": "2022-06-08T17:55:48.976336",
     "exception": false,
     "start_time": "2022-06-08T17:55:48.853263",
     "status": "completed"
    },
    "tags": []
   },
   "outputs": [
    {
     "name": "stdout",
     "output_type": "stream",
     "text": [
      "Model: \"Model1\"\n",
      "_________________________________________________________________\n",
      "Layer (type)                 Output Shape              Param #   \n",
      "=================================================================\n",
      "inputLayer (InputLayer)      [(None, 224, 224, 3)]     0         \n",
      "_________________________________________________________________\n",
      "efficientnetb0 (Functional)  (None, None, None, 1280)  4049571   \n",
      "_________________________________________________________________\n",
      "poolingLayer (GlobalAverageP (None, 1280)              0         \n",
      "_________________________________________________________________\n",
      "batchLayer (BatchNormalizati (None, 1280)              5120      \n",
      "_________________________________________________________________\n",
      "dropout_1 (Dropout)          (None, 1280)              0         \n",
      "_________________________________________________________________\n",
      "outputLayer (Dense)          (None, 1)                 1281      \n",
      "=================================================================\n",
      "Total params: 4,055,972\n",
      "Trainable params: 4,011,389\n",
      "Non-trainable params: 44,583\n",
      "_________________________________________________________________\n"
     ]
    }
   ],
   "source": [
    "for layer in model3.layers:\n",
    "    if not isinstance(layer, layers.BatchNormalization):\n",
    "        layer.trainable = True\n",
    "model3.summary()"
   ]
  },
  {
   "cell_type": "code",
   "execution_count": 24,
   "id": "7d9a9ce9",
   "metadata": {
    "execution": {
     "iopub.execute_input": "2022-06-08T17:55:49.226155Z",
     "iopub.status.busy": "2022-06-08T17:55:49.225814Z",
     "iopub.status.idle": "2022-06-08T17:57:18.373562Z",
     "shell.execute_reply": "2022-06-08T17:57:18.372805Z"
    },
    "papermill": {
     "duration": 89.304864,
     "end_time": "2022-06-08T17:57:18.375392",
     "exception": false,
     "start_time": "2022-06-08T17:55:49.070528",
     "status": "completed"
    },
    "tags": []
   },
   "outputs": [
    {
     "name": "stdout",
     "output_type": "stream",
     "text": [
      "Epoch 1/100\n",
      "44/44 [==============================] - 18s 259ms/step - loss: 0.0645 - accuracy: 0.9869 - val_loss: 0.3323 - val_accuracy: 0.8831\n",
      "Epoch 2/100\n",
      "44/44 [==============================] - 10s 230ms/step - loss: 0.0647 - accuracy: 0.9869 - val_loss: 0.3891 - val_accuracy: 0.8636\n",
      "Epoch 3/100\n",
      "44/44 [==============================] - 10s 233ms/step - loss: 0.0487 - accuracy: 0.9913 - val_loss: 0.3515 - val_accuracy: 0.8896\n",
      "Epoch 4/100\n",
      "44/44 [==============================] - 10s 231ms/step - loss: 0.0473 - accuracy: 0.9884 - val_loss: 0.3554 - val_accuracy: 0.8701\n",
      "Epoch 5/100\n",
      "44/44 [==============================] - 10s 230ms/step - loss: 0.0492 - accuracy: 0.9869 - val_loss: 0.3708 - val_accuracy: 0.8636\n",
      "Epoch 6/100\n",
      "44/44 [==============================] - 10s 233ms/step - loss: 0.0512 - accuracy: 0.9913 - val_loss: 0.3782 - val_accuracy: 0.8571\n"
     ]
    },
    {
     "data": {
      "image/png": "[encoded data removed]",
      "text/plain": [
       "<Figure size 432x288 with 1 Axes>"
      ]
     },
     "metadata": {
      "needs_background": "light"
     },
     "output_type": "display_data"
    }
   ],
   "source": [
    "optimizer = tf.keras.optimizers.Adam(learning_rate=1e-5)\n",
    "model3.compile(optimizer=optimizer, loss=\"binary_crossentropy\", metrics=[\"accuracy\"])\n",
    "hist = model3.fit(X_train, y_train, epochs=100, validation_data=(X_val, y_val), callbacks=[callback])\n",
    "plot_hist(hist)"
   ]
  },
  {
   "cell_type": "code",
   "execution_count": 25,
   "id": "b4f33d14",
   "metadata": {
    "execution": {
     "iopub.execute_input": "2022-06-08T17:57:18.598195Z",
     "iopub.status.busy": "2022-06-08T17:57:18.597874Z",
     "iopub.status.idle": "2022-06-08T17:57:18.883962Z",
     "shell.execute_reply": "2022-06-08T17:57:18.883190Z"
    },
    "papermill": {
     "duration": 0.398392,
     "end_time": "2022-06-08T17:57:18.885674",
     "exception": false,
     "start_time": "2022-06-08T17:57:18.487282",
     "status": "completed"
    },
    "tags": []
   },
   "outputs": [
    {
     "name": "stdout",
     "output_type": "stream",
     "text": [
      "6/6 [==============================] - 0s 35ms/step - loss: 0.4253 - accuracy: 0.8736\n"
     ]
    },
    {
     "data": {
      "text/plain": [
       "{'loss': 0.4252716600894928, 'accuracy': 0.8735632300376892}"
      ]
     },
     "execution_count": 25,
     "metadata": {},
     "output_type": "execute_result"
    }
   ],
   "source": [
    "model_eval = model3.evaluate(X_test, y_test, return_dict=True)\n",
    "model_eval"
   ]
  },
  {
   "cell_type": "code",
   "execution_count": 26,
   "id": "af42c440",
   "metadata": {
    "execution": {
     "iopub.execute_input": "2022-06-08T17:57:19.251123Z",
     "iopub.status.busy": "2022-06-08T17:57:19.250416Z",
     "iopub.status.idle": "2022-06-08T17:57:20.642878Z",
     "shell.execute_reply": "2022-06-08T17:57:20.641999Z"
    },
    "papermill": {
     "duration": 1.611942,
     "end_time": "2022-06-08T17:57:20.646127",
     "exception": false,
     "start_time": "2022-06-08T17:57:19.034185",
     "status": "completed"
    },
    "tags": []
   },
   "outputs": [
    {
     "name": "stdout",
     "output_type": "stream",
     "text": [
      "**MODEL 3**\n",
      "Matriu de confusió: \n",
      " [[74 18]\n",
      " [ 4 78]]\n",
      "********************************************************\n",
      "Informe de la classificació: \n",
      "               precision    recall  f1-score   support\n",
      "\n",
      "           0       0.95      0.80      0.87        92\n",
      "           1       0.81      0.95      0.88        82\n",
      "\n",
      "    accuracy                           0.87       174\n",
      "   macro avg       0.88      0.88      0.87       174\n",
      "weighted avg       0.88      0.87      0.87       174\n",
      "\n",
      "********************************************************\n",
      "F1 Score:  0.8764044943820225\n",
      "********************************************************\n",
      "Resultats sobre test:  {'loss': 0.4252716600894928, 'accuracy': 0.8735632300376892}\n"
     ]
    }
   ],
   "source": [
    "preds = model3.predict(X_test)\n",
    "preds1 = []\n",
    "for pred in preds:\n",
    "    if pred > 0.5:\n",
    "        preds1.append(1)\n",
    "    else:\n",
    "        preds1.append(0)\n",
    "\n",
    "print('**MODEL 3**')\n",
    "cm1 = confusion_matrix(y_test, preds1)\n",
    "print(f'Matriu de confusió: \\n', cm1)\n",
    "print('********'*7)\n",
    "cr1 = classification_report(y_test, preds1)\n",
    "print('Informe de la classificació: \\n', cr1)\n",
    "print('********'*7)\n",
    "print('F1 Score: ',f1_score(y_test, preds1))\n",
    "print('********'*7)\n",
    "print('Resultats sobre test: ', model_eval)"
   ]
  },
  {
   "cell_type": "markdown",
   "id": "8aa102e8",
   "metadata": {
    "papermill": {
     "duration": 0.111931,
     "end_time": "2022-06-08T17:57:20.872587",
     "exception": false,
     "start_time": "2022-06-08T17:57:20.760656",
     "status": "completed"
    },
    "tags": []
   },
   "source": [
    "#### Model 5"
   ]
  },
  {
   "cell_type": "code",
   "execution_count": 27,
   "id": "1242c81a",
   "metadata": {
    "execution": {
     "iopub.execute_input": "2022-06-08T17:57:21.107126Z",
     "iopub.status.busy": "2022-06-08T17:57:21.106509Z",
     "iopub.status.idle": "2022-06-08T17:57:21.206744Z",
     "shell.execute_reply": "2022-06-08T17:57:21.205911Z"
    },
    "papermill": {
     "duration": 0.214791,
     "end_time": "2022-06-08T17:57:21.208957",
     "exception": false,
     "start_time": "2022-06-08T17:57:20.994166",
     "status": "completed"
    },
    "tags": []
   },
   "outputs": [
    {
     "name": "stdout",
     "output_type": "stream",
     "text": [
      "Model: \"sequential\"\n",
      "_________________________________________________________________\n",
      "Layer (type)                 Output Shape              Param #   \n",
      "=================================================================\n",
      "conv2d (Conv2D)              (None, 222, 222, 64)      1792      \n",
      "_________________________________________________________________\n",
      "conv2d_1 (Conv2D)            (None, 222, 222, 32)      18464     \n",
      "_________________________________________________________________\n",
      "max_pooling2d (MaxPooling2D) (None, 111, 111, 32)      0         \n",
      "_________________________________________________________________\n",
      "dropout_2 (Dropout)          (None, 111, 111, 32)      0         \n",
      "_________________________________________________________________\n",
      "conv2d_2 (Conv2D)            (None, 111, 111, 64)      18496     \n",
      "_________________________________________________________________\n",
      "conv2d_3 (Conv2D)            (None, 111, 111, 64)      36928     \n",
      "_________________________________________________________________\n",
      "max_pooling2d_1 (MaxPooling2 (None, 55, 55, 64)        0         \n",
      "_________________________________________________________________\n",
      "dropout_3 (Dropout)          (None, 55, 55, 64)        0         \n",
      "_________________________________________________________________\n",
      "conv2d_4 (Conv2D)            (None, 55, 55, 128)       73856     \n",
      "_________________________________________________________________\n",
      "conv2d_5 (Conv2D)            (None, 55, 55, 128)       147584    \n",
      "_________________________________________________________________\n",
      "max_pooling2d_2 (MaxPooling2 (None, 27, 27, 128)       0         \n",
      "_________________________________________________________________\n",
      "dropout_4 (Dropout)          (None, 27, 27, 128)       0         \n",
      "_________________________________________________________________\n",
      "dense (Dense)                (None, 27, 27, 128)       16512     \n",
      "_________________________________________________________________\n",
      "dropout_5 (Dropout)          (None, 27, 27, 128)       0         \n",
      "_________________________________________________________________\n",
      "flatten (Flatten)            (None, 93312)             0         \n",
      "_________________________________________________________________\n",
      "dense_1 (Dense)              (None, 1)                 93313     \n",
      "=================================================================\n",
      "Total params: 406,945\n",
      "Trainable params: 406,945\n",
      "Non-trainable params: 0\n",
      "_________________________________________________________________\n",
      "None\n"
     ]
    }
   ],
   "source": [
    "model = keras.models.Sequential([\n",
    "    keras.layers.Conv2D(64, (3, 3), activation='relu',input_shape=(224, 224, 3)),\n",
    "    keras.layers.Conv2D(32, (3, 3), activation='relu', padding = 'same'),\n",
    "    keras.layers.MaxPooling2D((2, 2)),\n",
    "    keras.layers.Dropout(0.2),\n",
    "    \n",
    "    keras.layers.Conv2D(64, (3, 3), activation='relu', padding = 'same'),\n",
    "    keras.layers.Conv2D(64, (3, 3), activation='relu', padding = 'same'),\n",
    "    keras.layers.MaxPooling2D((2, 2)),\n",
    "    keras.layers.Dropout(0.2),\n",
    "    \n",
    "    keras.layers.Conv2D(128, (3, 3), activation='relu', padding = 'same'),\n",
    "    keras.layers.Conv2D(128, (3, 3), activation='relu', padding = 'same'),\n",
    "    keras.layers.MaxPooling2D((2, 2)),\n",
    "    keras.layers.Dropout(0.2),\n",
    "    \n",
    "    keras.layers.Dense(128, activation='relu'),\n",
    "    keras.layers.Dropout(0.2),\n",
    "    \n",
    "    keras.layers.Flatten(),\n",
    "    keras.layers.Dense(1, activation=\"sigmoid\"),\n",
    "])\n",
    "\n",
    "print(model.summary())"
   ]
  },
  {
   "cell_type": "code",
   "execution_count": 28,
   "id": "701db346",
   "metadata": {
    "execution": {
     "iopub.execute_input": "2022-06-08T17:57:21.432951Z",
     "iopub.status.busy": "2022-06-08T17:57:21.432640Z",
     "iopub.status.idle": "2022-06-08T17:58:16.969016Z",
     "shell.execute_reply": "2022-06-08T17:58:16.968264Z"
    },
    "papermill": {
     "duration": 55.65085,
     "end_time": "2022-06-08T17:58:16.970836",
     "exception": false,
     "start_time": "2022-06-08T17:57:21.319986",
     "status": "completed"
    },
    "tags": []
   },
   "outputs": [
    {
     "name": "stdout",
     "output_type": "stream",
     "text": [
      "Epoch 1/50\n",
      "87/87 [==============================] - 6s 52ms/step - loss: 1.6920 - accuracy: 0.5671 - val_loss: 0.6078 - val_accuracy: 0.6883\n",
      "Epoch 2/50\n",
      "87/87 [==============================] - 4s 44ms/step - loss: 0.5988 - accuracy: 0.6889 - val_loss: 0.6072 - val_accuracy: 0.6883\n",
      "Epoch 3/50\n",
      "87/87 [==============================] - 4s 43ms/step - loss: 0.5962 - accuracy: 0.6991 - val_loss: 0.6679 - val_accuracy: 0.5909\n",
      "Epoch 4/50\n",
      "87/87 [==============================] - 4s 43ms/step - loss: 0.5899 - accuracy: 0.6896 - val_loss: 0.6135 - val_accuracy: 0.6558\n",
      "Epoch 5/50\n",
      "87/87 [==============================] - 4s 43ms/step - loss: 0.5901 - accuracy: 0.6911 - val_loss: 0.6063 - val_accuracy: 0.7013\n",
      "Epoch 6/50\n",
      "87/87 [==============================] - 4s 43ms/step - loss: 0.5673 - accuracy: 0.7128 - val_loss: 0.6055 - val_accuracy: 0.6558\n",
      "Epoch 7/50\n",
      "87/87 [==============================] - 4s 43ms/step - loss: 0.5735 - accuracy: 0.7049 - val_loss: 0.6054 - val_accuracy: 0.7013\n",
      "Epoch 8/50\n",
      "87/87 [==============================] - 4s 44ms/step - loss: 0.5905 - accuracy: 0.7085 - val_loss: 0.6618 - val_accuracy: 0.6169\n",
      "Epoch 9/50\n",
      "87/87 [==============================] - 4s 43ms/step - loss: 0.5790 - accuracy: 0.7063 - val_loss: 0.5986 - val_accuracy: 0.6623\n",
      "Epoch 10/50\n",
      "87/87 [==============================] - 4s 44ms/step - loss: 0.5610 - accuracy: 0.7201 - val_loss: 0.6381 - val_accuracy: 0.6364\n",
      "Epoch 11/50\n",
      "87/87 [==============================] - 4s 43ms/step - loss: 0.5892 - accuracy: 0.7208 - val_loss: 0.5999 - val_accuracy: 0.7143\n",
      "Epoch 12/50\n",
      "87/87 [==============================] - 4s 43ms/step - loss: 0.5663 - accuracy: 0.7230 - val_loss: 0.6059 - val_accuracy: 0.6753\n",
      "Epoch 13/50\n",
      "87/87 [==============================] - 4s 43ms/step - loss: 0.5571 - accuracy: 0.7252 - val_loss: 0.6151 - val_accuracy: 0.6558\n",
      "Epoch 14/50\n",
      "87/87 [==============================] - 4s 44ms/step - loss: 0.5538 - accuracy: 0.7237 - val_loss: 0.6536 - val_accuracy: 0.6948\n"
     ]
    },
    {
     "data": {
      "image/png": "[encoded data removed]",
      "text/plain": [
       "<Figure size 432x288 with 1 Axes>"
      ]
     },
     "metadata": {
      "needs_background": "light"
     },
     "output_type": "display_data"
    }
   ],
   "source": [
    "# Compile\n",
    "# TODO\n",
    "model.compile(keras.optimizers.Adam(learning_rate=0.001),\n",
    "              loss='binary_crossentropy',\n",
    "              metrics=['accuracy'])\n",
    "\n",
    "# Entrenament del model\n",
    "# TODO\n",
    "history = model.fit(X_train, y_train,\n",
    "          validation_data = (X_val, y_val),\n",
    "          epochs=50,\n",
    "          batch_size=16,\n",
    "          verbose = 1,\n",
    "          callbacks=[callback])\n",
    "plot_hist(history)"
   ]
  },
  {
   "cell_type": "code",
   "execution_count": 29,
   "id": "5ad83494",
   "metadata": {
    "execution": {
     "iopub.execute_input": "2022-06-08T17:58:17.273604Z",
     "iopub.status.busy": "2022-06-08T17:58:17.273258Z",
     "iopub.status.idle": "2022-06-08T17:58:18.557054Z",
     "shell.execute_reply": "2022-06-08T17:58:18.556266Z"
    },
    "papermill": {
     "duration": 1.435525,
     "end_time": "2022-06-08T17:58:18.558920",
     "exception": false,
     "start_time": "2022-06-08T17:58:17.123395",
     "status": "completed"
    },
    "tags": []
   },
   "outputs": [
    {
     "name": "stdout",
     "output_type": "stream",
     "text": [
      "6/6 [==============================] - 1s 89ms/step - loss: 0.5984 - accuracy: 0.7126\n"
     ]
    }
   ],
   "source": [
    "model_eval = model.evaluate(X_test, y_test, return_dict=True)"
   ]
  },
  {
   "cell_type": "code",
   "execution_count": 30,
   "id": "c398f9d4",
   "metadata": {
    "execution": {
     "iopub.execute_input": "2022-06-08T17:58:18.858914Z",
     "iopub.status.busy": "2022-06-08T17:58:18.858569Z",
     "iopub.status.idle": "2022-06-08T17:58:19.108390Z",
     "shell.execute_reply": "2022-06-08T17:58:19.107482Z"
    },
    "papermill": {
     "duration": 0.40242,
     "end_time": "2022-06-08T17:58:19.110687",
     "exception": false,
     "start_time": "2022-06-08T17:58:18.708267",
     "status": "completed"
    },
    "tags": []
   },
   "outputs": [
    {
     "name": "stdout",
     "output_type": "stream",
     "text": [
      "**MODEL 5**\n",
      "Matriu de confusió: \n",
      " [[64 28]\n",
      " [22 60]]\n",
      "********************************************************\n",
      "Informe de la classificació: \n",
      "               precision    recall  f1-score   support\n",
      "\n",
      "           0       0.74      0.70      0.72        92\n",
      "           1       0.68      0.73      0.71        82\n",
      "\n",
      "    accuracy                           0.71       174\n",
      "   macro avg       0.71      0.71      0.71       174\n",
      "weighted avg       0.71      0.71      0.71       174\n",
      "\n",
      "********************************************************\n",
      "F1 Score:  0.7058823529411764\n",
      "********************************************************\n",
      "Resultats sobre test:  {'loss': 0.5984151363372803, 'accuracy': 0.7126436829566956}\n"
     ]
    }
   ],
   "source": [
    "preds = model.predict(X_test)\n",
    "preds1 = []\n",
    "for pred in preds:\n",
    "    if pred > 0.5:\n",
    "        preds1.append(1)\n",
    "    else:\n",
    "        preds1.append(0)\n",
    "\n",
    "print('**MODEL 5**')\n",
    "cm1 = confusion_matrix(y_test, preds1)\n",
    "print(f'Matriu de confusió: \\n', cm1)\n",
    "print('********'*7)\n",
    "cr1 = classification_report(y_test, preds1)\n",
    "print('Informe de la classificació: \\n', cr1)\n",
    "print('********'*7)\n",
    "print('F1 Score: ',f1_score(y_test, preds1))\n",
    "print('********'*7)\n",
    "print('Resultats sobre test: ', model_eval)"
   ]
  },
  {
   "cell_type": "markdown",
   "id": "73102158",
   "metadata": {
    "papermill": {
     "duration": 0.149472,
     "end_time": "2022-06-08T17:58:19.453854",
     "exception": false,
     "start_time": "2022-06-08T17:58:19.304382",
     "status": "completed"
    },
    "tags": []
   },
   "source": [
    "#### Model 4"
   ]
  },
  {
   "cell_type": "code",
   "execution_count": 31,
   "id": "a7f45f98",
   "metadata": {
    "execution": {
     "iopub.execute_input": "2022-06-08T17:58:19.753184Z",
     "iopub.status.busy": "2022-06-08T17:58:19.752378Z",
     "iopub.status.idle": "2022-06-08T17:58:19.784441Z",
     "shell.execute_reply": "2022-06-08T17:58:19.783721Z"
    },
    "papermill": {
     "duration": 0.18344,
     "end_time": "2022-06-08T17:58:19.786249",
     "exception": false,
     "start_time": "2022-06-08T17:58:19.602809",
     "status": "completed"
    },
    "tags": []
   },
   "outputs": [],
   "source": [
    "model = Sequential()\n",
    "#add model layers\n",
    "model.add(Conv2D(64, kernel_size=3, activation=\"relu\", input_shape=(224,224,3)))\n",
    "model.add(Conv2D(32, kernel_size=3, activation=\"relu\"))\n",
    "model.add(Flatten())\n",
    "model.add(Dense(1, activation=\"sigmoid\"))"
   ]
  },
  {
   "cell_type": "code",
   "execution_count": 32,
   "id": "f0999ca0",
   "metadata": {
    "execution": {
     "iopub.execute_input": "2022-06-08T17:58:20.086641Z",
     "iopub.status.busy": "2022-06-08T17:58:20.086303Z",
     "iopub.status.idle": "2022-06-08T17:58:34.938222Z",
     "shell.execute_reply": "2022-06-08T17:58:34.937226Z"
    },
    "papermill": {
     "duration": 15.005231,
     "end_time": "2022-06-08T17:58:34.940387",
     "exception": false,
     "start_time": "2022-06-08T17:58:19.935156",
     "status": "completed"
    },
    "tags": []
   },
   "outputs": [
    {
     "name": "stdout",
     "output_type": "stream",
     "text": [
      "Epoch 1/50\n",
      "87/87 [==============================] - 3s 30ms/step - loss: 332.6564 - accuracy: 0.5381 - val_loss: 0.7067 - val_accuracy: 0.5390\n",
      "Epoch 2/50\n",
      "87/87 [==============================] - 2s 26ms/step - loss: 0.7180 - accuracy: 0.5460 - val_loss: 2.2558 - val_accuracy: 0.5390\n",
      "Epoch 3/50\n",
      "87/87 [==============================] - 2s 25ms/step - loss: 3.3396 - accuracy: 0.5540 - val_loss: 0.7749 - val_accuracy: 0.5519\n",
      "Epoch 4/50\n",
      "87/87 [==============================] - 2s 25ms/step - loss: 0.6775 - accuracy: 0.5547 - val_loss: 0.8725 - val_accuracy: 0.5455\n",
      "Epoch 5/50\n",
      "87/87 [==============================] - 2s 25ms/step - loss: 0.6719 - accuracy: 0.5577 - val_loss: 0.9985 - val_accuracy: 0.5455\n",
      "Epoch 6/50\n",
      "87/87 [==============================] - 2s 27ms/step - loss: 0.6784 - accuracy: 0.5591 - val_loss: 0.9560 - val_accuracy: 0.5455\n"
     ]
    }
   ],
   "source": [
    "# Compile\n",
    "# TODO\n",
    "model.compile(keras.optimizers.Adam(learning_rate=0.001),\n",
    "              loss='binary_crossentropy',\n",
    "              metrics=['accuracy'])\n",
    "\n",
    "# Entrenament del model\n",
    "# TODO\n",
    "history = model.fit(X_train, y_train,\n",
    "          validation_data = (X_val, y_val),\n",
    "          epochs=50,\n",
    "          batch_size=16,\n",
    "          verbose = 1,\n",
    "          callbacks=[callback])"
   ]
  },
  {
   "cell_type": "code",
   "execution_count": 33,
   "id": "f17573d9",
   "metadata": {
    "execution": {
     "iopub.execute_input": "2022-06-08T17:58:35.268237Z",
     "iopub.status.busy": "2022-06-08T17:58:35.267508Z",
     "iopub.status.idle": "2022-06-08T17:58:35.995137Z",
     "shell.execute_reply": "2022-06-08T17:58:35.994268Z"
    },
    "papermill": {
     "duration": 0.893952,
     "end_time": "2022-06-08T17:58:36.000105",
     "exception": false,
     "start_time": "2022-06-08T17:58:35.106153",
     "status": "completed"
    },
    "tags": []
   },
   "outputs": [
    {
     "name": "stdout",
     "output_type": "stream",
     "text": [
      "6/6 [==============================] - 1s 37ms/step - loss: 0.8105 - accuracy: 0.4770\n",
      "**MODEL 4**\n",
      "Matriu de confusió: \n",
      " [[ 2 90]\n",
      " [ 1 81]]\n",
      "********************************************************\n",
      "Informe de la classificació: \n",
      "               precision    recall  f1-score   support\n",
      "\n",
      "           0       0.67      0.02      0.04        92\n",
      "           1       0.47      0.99      0.64        82\n",
      "\n",
      "    accuracy                           0.48       174\n",
      "   macro avg       0.57      0.50      0.34       174\n",
      "weighted avg       0.58      0.48      0.32       174\n",
      "\n",
      "********************************************************\n",
      "F1 Score:  0.6403162055335968\n",
      "********************************************************\n",
      "Resultats sobre test:  {'loss': 0.8105061054229736, 'accuracy': 0.477011501789093}\n"
     ]
    }
   ],
   "source": [
    "model_eval = model.evaluate(X_test, y_test, return_dict=True)\n",
    "\n",
    "preds = model.predict(X_test)\n",
    "preds1 = []\n",
    "for pred in preds:\n",
    "    if pred > 0.5:\n",
    "        preds1.append(1)\n",
    "    else:\n",
    "        preds1.append(0)\n",
    "\n",
    "print('**MODEL 4**')\n",
    "cm1 = confusion_matrix(y_test, preds1)\n",
    "print(f'Matriu de confusió: \\n', cm1)\n",
    "print('********'*7)\n",
    "cr1 = classification_report(y_test, preds1)\n",
    "print('Informe de la classificació: \\n', cr1)\n",
    "print('********'*7)\n",
    "print('F1 Score: ',f1_score(y_test, preds1))\n",
    "print('********'*7)\n",
    "print('Resultats sobre test: ', model_eval)"
   ]
  },
  {
   "cell_type": "markdown",
   "id": "417a4512",
   "metadata": {
    "papermill": {
     "duration": 0.256408,
     "end_time": "2022-06-08T17:58:36.539995",
     "exception": false,
     "start_time": "2022-06-08T17:58:36.283587",
     "status": "completed"
    },
    "tags": []
   },
   "source": [
    "### **Secció 3. Validació creuada**"
   ]
  },
  {
   "cell_type": "code",
   "execution_count": 34,
   "id": "d791293c",
   "metadata": {
    "execution": {
     "iopub.execute_input": "2022-06-08T17:58:36.862506Z",
     "iopub.status.busy": "2022-06-08T17:58:36.862147Z",
     "iopub.status.idle": "2022-06-08T17:58:38.669648Z",
     "shell.execute_reply": "2022-06-08T17:58:38.668853Z"
    },
    "papermill": {
     "duration": 1.971296,
     "end_time": "2022-06-08T17:58:38.671828",
     "exception": false,
     "start_time": "2022-06-08T17:58:36.700532",
     "status": "completed"
    },
    "tags": []
   },
   "outputs": [
    {
     "name": "stderr",
     "output_type": "stream",
     "text": [
      "/opt/conda/lib/python3.7/site-packages/keras/utils/generic_utils.py:497: CustomMaskWarning: Custom mask layers require a config and must override get_config. When loading, the custom mask layer must be passed to the custom_objects argument.\n",
      "  category=CustomMaskWarning)\n"
     ]
    }
   ],
   "source": [
    "# Prenem el model 3 com al que presenta millors resultats\n",
    "best_model = keras.models.clone_model(model3)"
   ]
  },
  {
   "cell_type": "code",
   "execution_count": 35,
   "id": "9fa5a036",
   "metadata": {
    "execution": {
     "iopub.execute_input": "2022-06-08T17:58:39.041539Z",
     "iopub.status.busy": "2022-06-08T17:58:39.041171Z",
     "iopub.status.idle": "2022-06-08T17:58:39.046213Z",
     "shell.execute_reply": "2022-06-08T17:58:39.045324Z"
    },
    "papermill": {
     "duration": 0.213813,
     "end_time": "2022-06-08T17:58:39.048454",
     "exception": false,
     "start_time": "2022-06-08T17:58:38.834641",
     "status": "completed"
    },
    "tags": []
   },
   "outputs": [],
   "source": [
    "# Funció que ens serà util quan fem el train als diferents folds\n",
    "def get_best_model():\n",
    "    best_model.set_weights(model2.get_weights()) \n",
    "    optimizer = tf.keras.optimizers.Adam(learning_rate=1e-5)\n",
    "    best_model.compile(optimizer=optimizer, loss=\"binary_crossentropy\", metrics=[\"accuracy\"])\n",
    "    return best_model"
   ]
  },
  {
   "cell_type": "code",
   "execution_count": 36,
   "id": "c32ddb66",
   "metadata": {
    "execution": {
     "iopub.execute_input": "2022-06-08T17:58:39.373266Z",
     "iopub.status.busy": "2022-06-08T17:58:39.372900Z",
     "iopub.status.idle": "2022-06-08T17:58:39.377840Z",
     "shell.execute_reply": "2022-06-08T17:58:39.377087Z"
    },
    "papermill": {
     "duration": 0.170792,
     "end_time": "2022-06-08T17:58:39.379472",
     "exception": false,
     "start_time": "2022-06-08T17:58:39.208680",
     "status": "completed"
    },
    "tags": []
   },
   "outputs": [],
   "source": [
    "df = pd.DataFrame()"
   ]
  },
  {
   "cell_type": "code",
   "execution_count": 37,
   "id": "137d8a40",
   "metadata": {
    "execution": {
     "iopub.execute_input": "2022-06-08T17:58:39.715566Z",
     "iopub.status.busy": "2022-06-08T17:58:39.715156Z",
     "iopub.status.idle": "2022-06-08T18:20:22.279812Z",
     "shell.execute_reply": "2022-06-08T18:20:22.278591Z"
    },
    "papermill": {
     "duration": 1302.740768,
     "end_time": "2022-06-08T18:20:22.282888",
     "exception": false,
     "start_time": "2022-06-08T17:58:39.542120",
     "status": "completed"
    },
    "tags": []
   },
   "outputs": [
    {
     "name": "stdout",
     "output_type": "stream",
     "text": [
      "Processing  Fold7 ...\n",
      "Training model...\n",
      "Epoch 1/100\n",
      "44/44 [==============================] - 18s 254ms/step - loss: 0.1543 - accuracy: 0.9492 - val_loss: 0.1130 - val_accuracy: 0.9481\n",
      "Epoch 2/100\n",
      "44/44 [==============================] - 10s 231ms/step - loss: 0.1247 - accuracy: 0.9558 - val_loss: 0.0818 - val_accuracy: 0.9740\n",
      "Epoch 3/100\n",
      "44/44 [==============================] - 10s 231ms/step - loss: 0.1091 - accuracy: 0.9652 - val_loss: 0.0796 - val_accuracy: 0.9805\n",
      "Epoch 4/100\n",
      "44/44 [==============================] - 10s 226ms/step - loss: 0.0917 - accuracy: 0.9659 - val_loss: 0.0772 - val_accuracy: 0.9805\n",
      "Epoch 5/100\n",
      "44/44 [==============================] - 10s 232ms/step - loss: 0.0869 - accuracy: 0.9710 - val_loss: 0.0772 - val_accuracy: 0.9740\n",
      "Epoch 6/100\n",
      "44/44 [==============================] - 10s 231ms/step - loss: 0.0734 - accuracy: 0.9768 - val_loss: 0.0855 - val_accuracy: 0.9610\n",
      "Epoch 7/100\n",
      "44/44 [==============================] - 10s 231ms/step - loss: 0.0888 - accuracy: 0.9666 - val_loss: 0.1011 - val_accuracy: 0.9610\n",
      "Epoch 8/100\n",
      "44/44 [==============================] - 10s 231ms/step - loss: 0.0632 - accuracy: 0.9811 - val_loss: 0.0842 - val_accuracy: 0.9675\n",
      "Epoch 9/100\n",
      "44/44 [==============================] - 10s 231ms/step - loss: 0.0524 - accuracy: 0.9884 - val_loss: 0.0931 - val_accuracy: 0.9675\n",
      "6/6 [==============================] - 0s 38ms/step - loss: 0.0520 - accuracy: 0.9828\n",
      "              precision    recall  f1-score   support\n",
      "\n",
      "           0       1.00      0.96      0.98        74\n",
      "           1       0.97      1.00      0.99       100\n",
      "\n",
      "    accuracy                           0.98       174\n",
      "   macro avg       0.99      0.98      0.98       174\n",
      "weighted avg       0.98      0.98      0.98       174\n",
      "\n",
      "Processing  Fold1 ...\n",
      "Training model...\n",
      "Epoch 1/100\n",
      "44/44 [==============================] - 18s 257ms/step - loss: 0.1452 - accuracy: 0.9529 - val_loss: 0.0368 - val_accuracy: 1.0000\n",
      "Epoch 2/100\n",
      "44/44 [==============================] - 10s 232ms/step - loss: 0.1161 - accuracy: 0.9623 - val_loss: 0.0412 - val_accuracy: 0.9935\n",
      "Epoch 3/100\n",
      "44/44 [==============================] - 10s 232ms/step - loss: 0.1062 - accuracy: 0.9623 - val_loss: 0.0502 - val_accuracy: 0.9870\n",
      "Epoch 4/100\n",
      "44/44 [==============================] - 10s 233ms/step - loss: 0.0936 - accuracy: 0.9681 - val_loss: 0.0335 - val_accuracy: 0.9935\n",
      "Epoch 5/100\n",
      "44/44 [==============================] - 10s 232ms/step - loss: 0.0862 - accuracy: 0.9724 - val_loss: 0.0336 - val_accuracy: 1.0000\n",
      "Epoch 6/100\n",
      "44/44 [==============================] - 10s 225ms/step - loss: 0.0736 - accuracy: 0.9717 - val_loss: 0.0609 - val_accuracy: 0.9935\n",
      "Epoch 7/100\n",
      "44/44 [==============================] - 10s 232ms/step - loss: 0.0683 - accuracy: 0.9811 - val_loss: 0.0383 - val_accuracy: 0.9935\n",
      "Epoch 8/100\n",
      "44/44 [==============================] - 10s 230ms/step - loss: 0.0674 - accuracy: 0.9761 - val_loss: 0.0387 - val_accuracy: 0.9870\n",
      "Epoch 9/100\n",
      "44/44 [==============================] - 10s 230ms/step - loss: 0.0555 - accuracy: 0.9848 - val_loss: 0.0414 - val_accuracy: 0.9935\n",
      "6/6 [==============================] - 0s 33ms/step - loss: 0.0564 - accuracy: 0.9885\n",
      "              precision    recall  f1-score   support\n",
      "\n",
      "           0       0.98      1.00      0.99        83\n",
      "           1       1.00      0.98      0.99        91\n",
      "\n",
      "    accuracy                           0.99       174\n",
      "   macro avg       0.99      0.99      0.99       174\n",
      "weighted avg       0.99      0.99      0.99       174\n",
      "\n",
      "Processing  Fold3 ...\n",
      "Training model...\n",
      "Epoch 1/100\n",
      "44/44 [==============================] - 19s 255ms/step - loss: 0.1285 - accuracy: 0.9565 - val_loss: 0.0587 - val_accuracy: 0.9870\n",
      "Epoch 2/100\n",
      "44/44 [==============================] - 10s 231ms/step - loss: 0.1249 - accuracy: 0.9616 - val_loss: 0.0632 - val_accuracy: 0.9870\n",
      "Epoch 3/100\n",
      "44/44 [==============================] - 10s 231ms/step - loss: 0.1106 - accuracy: 0.9579 - val_loss: 0.0599 - val_accuracy: 0.9870\n",
      "Epoch 4/100\n",
      "44/44 [==============================] - 10s 230ms/step - loss: 0.0996 - accuracy: 0.9666 - val_loss: 0.0649 - val_accuracy: 0.9870\n",
      "Epoch 5/100\n",
      "44/44 [==============================] - 10s 228ms/step - loss: 0.0913 - accuracy: 0.9746 - val_loss: 0.0648 - val_accuracy: 0.9740\n",
      "Epoch 6/100\n",
      "44/44 [==============================] - 10s 230ms/step - loss: 0.0760 - accuracy: 0.9782 - val_loss: 0.0646 - val_accuracy: 0.9805\n",
      "6/6 [==============================] - 0s 34ms/step - loss: 0.0849 - accuracy: 0.9713\n",
      "              precision    recall  f1-score   support\n",
      "\n",
      "           0       0.99      0.95      0.97        83\n",
      "           1       0.96      0.99      0.97        91\n",
      "\n",
      "    accuracy                           0.97       174\n",
      "   macro avg       0.97      0.97      0.97       174\n",
      "weighted avg       0.97      0.97      0.97       174\n",
      "\n",
      "Processing  Fold5 ...\n",
      "Training model...\n",
      "Epoch 1/100\n",
      "44/44 [==============================] - 18s 257ms/step - loss: 0.1129 - accuracy: 0.9623 - val_loss: 0.1252 - val_accuracy: 0.9545\n",
      "Epoch 2/100\n",
      "44/44 [==============================] - 10s 232ms/step - loss: 0.0881 - accuracy: 0.9775 - val_loss: 0.1104 - val_accuracy: 0.9610\n",
      "Epoch 3/100\n",
      "44/44 [==============================] - 10s 231ms/step - loss: 0.0935 - accuracy: 0.9645 - val_loss: 0.1007 - val_accuracy: 0.9740\n",
      "Epoch 4/100\n",
      "44/44 [==============================] - 10s 233ms/step - loss: 0.0879 - accuracy: 0.9695 - val_loss: 0.1109 - val_accuracy: 0.9545\n",
      "Epoch 5/100\n",
      "44/44 [==============================] - 10s 231ms/step - loss: 0.0750 - accuracy: 0.9753 - val_loss: 0.1128 - val_accuracy: 0.9610\n",
      "Epoch 6/100\n",
      "44/44 [==============================] - 10s 231ms/step - loss: 0.0633 - accuracy: 0.9826 - val_loss: 0.1172 - val_accuracy: 0.9610\n",
      "Epoch 7/100\n",
      "44/44 [==============================] - 10s 231ms/step - loss: 0.0561 - accuracy: 0.9811 - val_loss: 0.1116 - val_accuracy: 0.9610\n",
      "Epoch 8/100\n",
      "44/44 [==============================] - 10s 231ms/step - loss: 0.0479 - accuracy: 0.9898 - val_loss: 0.1101 - val_accuracy: 0.9610\n",
      "6/6 [==============================] - 0s 33ms/step - loss: 0.1523 - accuracy: 0.9483\n",
      "              precision    recall  f1-score   support\n",
      "\n",
      "           0       0.97      0.92      0.94        84\n",
      "           1       0.93      0.98      0.95        90\n",
      "\n",
      "    accuracy                           0.95       174\n",
      "   macro avg       0.95      0.95      0.95       174\n",
      "weighted avg       0.95      0.95      0.95       174\n",
      "\n",
      "Processing  Fold0 ...\n",
      "Training model...\n",
      "Epoch 1/100\n",
      "44/44 [==============================] - 18s 259ms/step - loss: 0.0611 - accuracy: 0.9819 - val_loss: 0.3629 - val_accuracy: 0.8442\n",
      "Epoch 2/100\n",
      "44/44 [==============================] - 10s 228ms/step - loss: 0.0558 - accuracy: 0.9862 - val_loss: 0.3573 - val_accuracy: 0.8571\n",
      "Epoch 3/100\n",
      "44/44 [==============================] - 10s 230ms/step - loss: 0.0555 - accuracy: 0.9869 - val_loss: 0.3260 - val_accuracy: 0.8831\n",
      "Epoch 4/100\n",
      "44/44 [==============================] - 10s 229ms/step - loss: 0.0416 - accuracy: 0.9949 - val_loss: 0.3139 - val_accuracy: 0.8896\n",
      "Epoch 5/100\n",
      "44/44 [==============================] - 10s 230ms/step - loss: 0.0568 - accuracy: 0.9855 - val_loss: 0.4040 - val_accuracy: 0.8377\n",
      "Epoch 6/100\n",
      "44/44 [==============================] - 10s 229ms/step - loss: 0.0400 - accuracy: 0.9949 - val_loss: 0.3204 - val_accuracy: 0.8636\n",
      "Epoch 7/100\n",
      "44/44 [==============================] - 10s 230ms/step - loss: 0.0375 - accuracy: 0.9927 - val_loss: 0.3448 - val_accuracy: 0.8636\n",
      "Epoch 8/100\n",
      "44/44 [==============================] - 10s 229ms/step - loss: 0.0420 - accuracy: 0.9913 - val_loss: 0.4749 - val_accuracy: 0.8442\n",
      "Epoch 9/100\n",
      "44/44 [==============================] - 10s 229ms/step - loss: 0.0390 - accuracy: 0.9927 - val_loss: 0.3360 - val_accuracy: 0.8571\n",
      "6/6 [==============================] - 0s 50ms/step - loss: 0.4137 - accuracy: 0.8736\n",
      "              precision    recall  f1-score   support\n",
      "\n",
      "           0       0.93      0.83      0.87        92\n",
      "           1       0.83      0.93      0.87        82\n",
      "\n",
      "    accuracy                           0.87       174\n",
      "   macro avg       0.88      0.88      0.87       174\n",
      "weighted avg       0.88      0.87      0.87       174\n",
      "\n",
      "Processing  Fold9 ...\n",
      "Training model...\n",
      "Epoch 1/100\n",
      "44/44 [==============================] - 18s 256ms/step - loss: 0.1350 - accuracy: 0.9550 - val_loss: 0.1840 - val_accuracy: 0.9286\n",
      "Epoch 2/100\n",
      "44/44 [==============================] - 10s 231ms/step - loss: 0.1185 - accuracy: 0.9630 - val_loss: 0.1650 - val_accuracy: 0.9351\n",
      "Epoch 3/100\n",
      "44/44 [==============================] - 10s 229ms/step - loss: 0.1063 - accuracy: 0.9652 - val_loss: 0.1146 - val_accuracy: 0.9675\n",
      "Epoch 4/100\n",
      "44/44 [==============================] - 10s 229ms/step - loss: 0.0865 - accuracy: 0.9703 - val_loss: 0.1579 - val_accuracy: 0.9286\n",
      "Epoch 5/100\n",
      "44/44 [==============================] - 10s 230ms/step - loss: 0.0765 - accuracy: 0.9768 - val_loss: 0.1325 - val_accuracy: 0.9416\n",
      "Epoch 6/100\n",
      "44/44 [==============================] - 10s 232ms/step - loss: 0.0585 - accuracy: 0.9840 - val_loss: 0.1347 - val_accuracy: 0.9675\n",
      "Epoch 7/100\n",
      "44/44 [==============================] - 10s 229ms/step - loss: 0.0705 - accuracy: 0.9775 - val_loss: 0.1339 - val_accuracy: 0.9675\n",
      "Epoch 8/100\n",
      "44/44 [==============================] - 10s 228ms/step - loss: 0.0767 - accuracy: 0.9804 - val_loss: 0.1363 - val_accuracy: 0.9610\n",
      "6/6 [==============================] - 0s 36ms/step - loss: 0.0879 - accuracy: 0.9770\n",
      "              precision    recall  f1-score   support\n",
      "\n",
      "           0       0.99      0.96      0.97        70\n",
      "           1       0.97      0.99      0.98       104\n",
      "\n",
      "    accuracy                           0.98       174\n",
      "   macro avg       0.98      0.97      0.98       174\n",
      "weighted avg       0.98      0.98      0.98       174\n",
      "\n",
      "Processing  Fold8 ...\n",
      "Training model...\n",
      "Epoch 1/100\n",
      "44/44 [==============================] - 18s 256ms/step - loss: 0.1173 - accuracy: 0.9608 - val_loss: 0.1058 - val_accuracy: 0.9481\n",
      "Epoch 2/100\n",
      "44/44 [==============================] - 10s 231ms/step - loss: 0.1075 - accuracy: 0.9608 - val_loss: 0.1040 - val_accuracy: 0.9675\n",
      "Epoch 3/100\n",
      "44/44 [==============================] - 10s 228ms/step - loss: 0.0931 - accuracy: 0.9724 - val_loss: 0.1180 - val_accuracy: 0.9610\n",
      "Epoch 4/100\n",
      "44/44 [==============================] - 10s 228ms/step - loss: 0.0731 - accuracy: 0.9811 - val_loss: 0.0966 - val_accuracy: 0.9740\n",
      "Epoch 5/100\n",
      "44/44 [==============================] - 10s 236ms/step - loss: 0.0768 - accuracy: 0.9797 - val_loss: 0.1205 - val_accuracy: 0.9675\n",
      "Epoch 6/100\n",
      "44/44 [==============================] - 10s 229ms/step - loss: 0.0655 - accuracy: 0.9848 - val_loss: 0.1160 - val_accuracy: 0.9675\n",
      "Epoch 7/100\n",
      "44/44 [==============================] - 10s 230ms/step - loss: 0.0635 - accuracy: 0.9797 - val_loss: 0.1589 - val_accuracy: 0.9545\n",
      "Epoch 8/100\n",
      "44/44 [==============================] - 10s 233ms/step - loss: 0.0482 - accuracy: 0.9869 - val_loss: 0.1198 - val_accuracy: 0.9610\n",
      "Epoch 9/100\n",
      "44/44 [==============================] - 10s 230ms/step - loss: 0.0477 - accuracy: 0.9869 - val_loss: 0.1274 - val_accuracy: 0.9610\n",
      "6/6 [==============================] - 0s 34ms/step - loss: 0.1415 - accuracy: 0.9598\n",
      "              precision    recall  f1-score   support\n",
      "\n",
      "           0       0.99      0.93      0.96        83\n",
      "           1       0.94      0.99      0.96        91\n",
      "\n",
      "    accuracy                           0.96       174\n",
      "   macro avg       0.96      0.96      0.96       174\n",
      "weighted avg       0.96      0.96      0.96       174\n",
      "\n",
      "Processing  Fold4 ...\n",
      "Training model...\n",
      "Epoch 1/100\n",
      "44/44 [==============================] - 18s 260ms/step - loss: 0.1349 - accuracy: 0.9558 - val_loss: 0.0740 - val_accuracy: 0.9870\n",
      "Epoch 2/100\n",
      "44/44 [==============================] - 10s 231ms/step - loss: 0.1009 - accuracy: 0.9688 - val_loss: 0.0663 - val_accuracy: 0.9805\n",
      "Epoch 3/100\n",
      "44/44 [==============================] - 10s 230ms/step - loss: 0.0849 - accuracy: 0.9746 - val_loss: 0.0756 - val_accuracy: 0.9805\n",
      "Epoch 4/100\n",
      "44/44 [==============================] - 10s 230ms/step - loss: 0.0850 - accuracy: 0.9739 - val_loss: 0.0842 - val_accuracy: 0.9675\n",
      "Epoch 5/100\n",
      "44/44 [==============================] - 10s 230ms/step - loss: 0.0846 - accuracy: 0.9717 - val_loss: 0.1067 - val_accuracy: 0.9610\n",
      "Epoch 6/100\n",
      "44/44 [==============================] - 10s 231ms/step - loss: 0.0700 - accuracy: 0.9761 - val_loss: 0.0988 - val_accuracy: 0.9675\n",
      "Epoch 7/100\n",
      "44/44 [==============================] - 10s 229ms/step - loss: 0.0746 - accuracy: 0.9775 - val_loss: 0.0702 - val_accuracy: 0.9805\n",
      "6/6 [==============================] - 0s 36ms/step - loss: 0.1128 - accuracy: 0.9655\n",
      "              precision    recall  f1-score   support\n",
      "\n",
      "           0       0.97      0.95      0.96        82\n",
      "           1       0.96      0.98      0.97        92\n",
      "\n",
      "    accuracy                           0.97       174\n",
      "   macro avg       0.97      0.96      0.97       174\n",
      "weighted avg       0.97      0.97      0.97       174\n",
      "\n",
      "Processing  Fold2 ...\n",
      "Training model...\n",
      "Epoch 1/100\n",
      "44/44 [==============================] - 19s 258ms/step - loss: 0.1323 - accuracy: 0.9579 - val_loss: 0.0389 - val_accuracy: 0.9870\n",
      "Epoch 2/100\n",
      "44/44 [==============================] - 10s 231ms/step - loss: 0.0908 - accuracy: 0.9746 - val_loss: 0.0363 - val_accuracy: 0.9870\n",
      "Epoch 3/100\n",
      "44/44 [==============================] - 10s 230ms/step - loss: 0.0941 - accuracy: 0.9681 - val_loss: 0.0368 - val_accuracy: 0.9870\n",
      "Epoch 4/100\n",
      "44/44 [==============================] - 10s 226ms/step - loss: 0.0844 - accuracy: 0.9739 - val_loss: 0.0375 - val_accuracy: 0.9935\n",
      "Epoch 5/100\n",
      "44/44 [==============================] - 10s 235ms/step - loss: 0.0646 - accuracy: 0.9797 - val_loss: 0.0382 - val_accuracy: 0.9935\n",
      "Epoch 6/100\n",
      "44/44 [==============================] - 10s 232ms/step - loss: 0.0740 - accuracy: 0.9775 - val_loss: 0.0336 - val_accuracy: 0.9935\n",
      "Epoch 7/100\n",
      "44/44 [==============================] - 10s 231ms/step - loss: 0.0617 - accuracy: 0.9819 - val_loss: 0.0356 - val_accuracy: 0.9935\n",
      "Epoch 8/100\n",
      "44/44 [==============================] - 10s 228ms/step - loss: 0.0599 - accuracy: 0.9840 - val_loss: 0.0594 - val_accuracy: 0.9805\n",
      "Epoch 9/100\n",
      "44/44 [==============================] - 10s 231ms/step - loss: 0.0600 - accuracy: 0.9848 - val_loss: 0.0503 - val_accuracy: 0.9870\n",
      "Epoch 10/100\n",
      "44/44 [==============================] - 10s 229ms/step - loss: 0.0694 - accuracy: 0.9768 - val_loss: 0.0456 - val_accuracy: 0.9870\n",
      "Epoch 11/100\n",
      "44/44 [==============================] - 10s 231ms/step - loss: 0.0471 - accuracy: 0.9869 - val_loss: 0.0380 - val_accuracy: 0.9870\n",
      "6/6 [==============================] - 0s 36ms/step - loss: 0.1160 - accuracy: 0.9540\n",
      "              precision    recall  f1-score   support\n",
      "\n",
      "           0       0.96      0.94      0.95        77\n",
      "           1       0.95      0.97      0.96        97\n",
      "\n",
      "    accuracy                           0.95       174\n",
      "   macro avg       0.95      0.95      0.95       174\n",
      "weighted avg       0.95      0.95      0.95       174\n",
      "\n",
      "Processing  Fold6 ...\n",
      "Training model...\n",
      "Epoch 1/100\n",
      "44/44 [==============================] - 18s 255ms/step - loss: 0.1284 - accuracy: 0.9529 - val_loss: 0.0777 - val_accuracy: 0.9805\n",
      "Epoch 2/100\n",
      "44/44 [==============================] - 11s 240ms/step - loss: 0.1012 - accuracy: 0.9652 - val_loss: 0.0578 - val_accuracy: 0.9870\n",
      "Epoch 3/100\n",
      "44/44 [==============================] - 10s 229ms/step - loss: 0.0890 - accuracy: 0.9710 - val_loss: 0.0545 - val_accuracy: 0.9870\n",
      "Epoch 4/100\n",
      "44/44 [==============================] - 10s 231ms/step - loss: 0.0947 - accuracy: 0.9688 - val_loss: 0.0532 - val_accuracy: 0.9870\n",
      "Epoch 5/100\n",
      "44/44 [==============================] - 10s 233ms/step - loss: 0.0909 - accuracy: 0.9703 - val_loss: 0.0667 - val_accuracy: 0.9740\n",
      "Epoch 6/100\n",
      "44/44 [==============================] - 10s 231ms/step - loss: 0.0783 - accuracy: 0.9746 - val_loss: 0.0577 - val_accuracy: 0.9805\n",
      "Epoch 7/100\n",
      "44/44 [==============================] - 10s 232ms/step - loss: 0.0569 - accuracy: 0.9811 - val_loss: 0.0520 - val_accuracy: 0.9805\n",
      "Epoch 8/100\n",
      "44/44 [==============================] - 10s 229ms/step - loss: 0.0640 - accuracy: 0.9804 - val_loss: 0.0641 - val_accuracy: 0.9610\n",
      "Epoch 9/100\n",
      "44/44 [==============================] - 10s 230ms/step - loss: 0.0554 - accuracy: 0.9891 - val_loss: 0.0499 - val_accuracy: 0.9805\n",
      "Epoch 10/100\n",
      "44/44 [==============================] - 10s 232ms/step - loss: 0.0497 - accuracy: 0.9869 - val_loss: 0.0522 - val_accuracy: 0.9870\n",
      "Epoch 11/100\n",
      "44/44 [==============================] - 10s 233ms/step - loss: 0.0434 - accuracy: 0.9906 - val_loss: 0.0506 - val_accuracy: 0.9870\n",
      "Epoch 12/100\n",
      "44/44 [==============================] - 10s 233ms/step - loss: 0.0489 - accuracy: 0.9862 - val_loss: 0.0432 - val_accuracy: 1.0000\n",
      "Epoch 13/100\n",
      "44/44 [==============================] - 10s 230ms/step - loss: 0.0507 - accuracy: 0.9877 - val_loss: 0.0471 - val_accuracy: 0.9935\n",
      "Epoch 14/100\n",
      "44/44 [==============================] - 10s 229ms/step - loss: 0.0443 - accuracy: 0.9913 - val_loss: 0.0464 - val_accuracy: 0.9870\n",
      "Epoch 15/100\n",
      "44/44 [==============================] - 10s 233ms/step - loss: 0.0325 - accuracy: 0.9949 - val_loss: 0.0462 - val_accuracy: 0.9935\n",
      "Epoch 16/100\n",
      "44/44 [==============================] - 10s 229ms/step - loss: 0.0375 - accuracy: 0.9935 - val_loss: 0.0507 - val_accuracy: 0.9805\n",
      "Epoch 17/100\n",
      "44/44 [==============================] - 10s 232ms/step - loss: 0.0311 - accuracy: 0.9949 - val_loss: 0.0469 - val_accuracy: 0.9805\n",
      "6/6 [==============================] - 0s 35ms/step - loss: 0.1364 - accuracy: 0.9483\n",
      "              precision    recall  f1-score   support\n",
      "\n",
      "           0       0.97      0.94      0.95        93\n",
      "           1       0.93      0.96      0.95        81\n",
      "\n",
      "    accuracy                           0.95       174\n",
      "   macro avg       0.95      0.95      0.95       174\n",
      "weighted avg       0.95      0.95      0.95       174\n",
      "\n"
     ]
    }
   ],
   "source": [
    "# K-fold Train and test for each split\n",
    "\n",
    "for fold in os.listdir('../input/glaucoma/archive/practica_DL_UOC_2022/'):\n",
    "    print ('Processing ', fold, '...')\n",
    "    X_train, y_train = process_images_folder(f'../input/glaucoma/archive/practica_DL_UOC_2022/{fold}/train')\n",
    "    X_test, y_test = process_images_folder(f'../input/glaucoma/archive/practica_DL_UOC_2022/{fold}/test')\n",
    "    X_val, y_val = process_images_folder(f'../input/glaucoma/archive/practica_DL_UOC_2022/{fold}/valid')\n",
    "    model = get_best_model()\n",
    "    print('Training model...')\n",
    "    hist = model.fit(X_train, y_train, epochs=100, validation_data=(X_val, y_val), callbacks=[callback], verbose=1)\n",
    "    model_eval = model.evaluate(X_test, y_test, return_dict=True)\n",
    "    preds = model.predict(X_test)\n",
    "    preds_ = []\n",
    "    for pred in preds:\n",
    "        if pred > 0.5:\n",
    "            preds_.append(1)\n",
    "        else:\n",
    "            preds_.append(0)\n",
    "    print(classification_report(y_test, preds_))\n",
    "    df[fold] = [f1_score(y_test, preds_, average='macro')]"
   ]
  },
  {
   "cell_type": "code",
   "execution_count": 38,
   "id": "ea4457b4",
   "metadata": {
    "execution": {
     "iopub.execute_input": "2022-06-08T18:20:23.121082Z",
     "iopub.status.busy": "2022-06-08T18:20:23.120733Z",
     "iopub.status.idle": "2022-06-08T18:20:23.133048Z",
     "shell.execute_reply": "2022-06-08T18:20:23.132314Z"
    },
    "papermill": {
     "duration": 0.434658,
     "end_time": "2022-06-08T18:20:23.134943",
     "exception": false,
     "start_time": "2022-06-08T18:20:22.700285",
     "status": "completed"
    },
    "tags": []
   },
   "outputs": [
    {
     "data": {
      "text/html": [
       "<div>\n",
       "<style scoped>\n",
       "    .dataframe tbody tr th:only-of-type {\n",
       "        vertical-align: middle;\n",
       "    }\n",
       "\n",
       "    .dataframe tbody tr th {\n",
       "        vertical-align: top;\n",
       "    }\n",
       "\n",
       "    .dataframe thead th {\n",
       "        text-align: right;\n",
       "    }\n",
       "</style>\n",
       "<table border=\"1\" class=\"dataframe\">\n",
       "  <thead>\n",
       "    <tr style=\"text-align: right;\">\n",
       "      <th></th>\n",
       "      <th>Fold7</th>\n",
       "      <th>Fold1</th>\n",
       "      <th>Fold3</th>\n",
       "      <th>Fold5</th>\n",
       "      <th>Fold0</th>\n",
       "      <th>Fold9</th>\n",
       "      <th>Fold8</th>\n",
       "      <th>Fold4</th>\n",
       "      <th>Fold2</th>\n",
       "      <th>Fold6</th>\n",
       "    </tr>\n",
       "  </thead>\n",
       "  <tbody>\n",
       "    <tr>\n",
       "      <th>0</th>\n",
       "      <td>0.982266</td>\n",
       "      <td>0.988492</td>\n",
       "      <td>0.971149</td>\n",
       "      <td>0.948068</td>\n",
       "      <td>0.873563</td>\n",
       "      <td>0.975983</td>\n",
       "      <td>0.959544</td>\n",
       "      <td>0.965352</td>\n",
       "      <td>0.953276</td>\n",
       "      <td>0.948137</td>\n",
       "    </tr>\n",
       "  </tbody>\n",
       "</table>\n",
       "</div>"
      ],
      "text/plain": [
       "      Fold7     Fold1     Fold3     Fold5     Fold0     Fold9     Fold8  \\\n",
       "0  0.982266  0.988492  0.971149  0.948068  0.873563  0.975983  0.959544   \n",
       "\n",
       "      Fold4     Fold2     Fold6  \n",
       "0  0.965352  0.953276  0.948137  "
      ]
     },
     "execution_count": 38,
     "metadata": {},
     "output_type": "execute_result"
    }
   ],
   "source": [
    "df"
   ]
  }
 ],
 "metadata": {
  "kernelspec": {
   "display_name": "Python 3",
   "language": "python",
   "name": "python3"
  },
  "language_info": {
   "codemirror_mode": {
    "name": "ipython",
    "version": 3
   },
   "file_extension": ".py",
   "mimetype": "text/x-python",
   "name": "python",
   "nbconvert_exporter": "python",
   "pygments_lexer": "ipython3",
   "version": "3.7.12"
  },
  "papermill": {
   "default_parameters": {},
   "duration": 1904.291677,
   "end_time": "2022-06-08T18:20:26.733263",
   "environment_variables": {},
   "exception": null,
   "input_path": "__notebook__.ipynb",
   "output_path": "__notebook__.ipynb",
   "parameters": {},
   "start_time": "2022-06-08T17:48:42.441586",
   "version": "2.3.4"
  }
 },
 "nbformat": 4,
 "nbformat_minor": 5
}
